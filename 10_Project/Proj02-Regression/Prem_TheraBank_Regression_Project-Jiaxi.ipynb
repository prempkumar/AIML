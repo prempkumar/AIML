{
 "cells": [
  {
   "cell_type": "markdown",
   "metadata": {},
   "source": [
    "# Thera Bank Personal Loan Campaign\n",
    "\n",
    "### Data Description:\n",
    "The dataset contains data on 5000 customers. The data include customer demographic information (age, income, etc.), the customer's relationship with the bank (mortgage, securities account, etc.), and the customer response to the last personal loan campaign (Personal Loan). Among these 5000 customers, only 480 (= 9.6%) accepted the personal loan that was offered to them in the earlier campaign.\n",
    "\n",
    "### Context:\n",
    "This case is about a bank (Thera Bank) whose management wants to explore ways of converting its liability customers to personal loan customers (while retaining them as depositors). A campaign that the bank ran last year for liability customers showed a healthy conversion rate of over 9% success. This has encouraged the retail marketing department to devise campaigns with better target marketing to increase the success ratio with a minimal budget.\n",
    "\n",
    "### Attribute Information:\n",
    "- ID: Customer ID\n",
    "- Age: Customer's age in completed years\n",
    "- Experience: #years of professional experience\n",
    "- Income: Annual income of the customer (\\$000)\n",
    "- ZIP Code: Home Address ZIP\n",
    "- Family: Family size of the customer\n",
    "- CCAvg: Avg. spending on credit cards per month (\\$000)\n",
    "- Education: Education Level. 1: Undergrad; 2: Graduate; 3: Advanced/Professional\n",
    "- Mortgage: Value of house mortgage if any. (\\$000)\n",
    "- Personal Loan: Did this customer accept the personal loan offered in the last campaign?\n",
    "- Securities Account: Does the customer have a securities account with the bank?\n",
    "- CD Account: Does the customer have a certificate of deposit (CD) account with the bank?\n",
    "- Online: Does the customer use internet banking facilities?\n",
    "- Credit card: Does the customer use a credit card issued by the bank?\n",
    "\n",
    "### Learning Outcomes:\n",
    "- Exploratory Data Analysis\n",
    "- Preparing the data to train a model\n",
    "- Training and making predictions using a classification model\n",
    "- Model evaluation\n",
    "\n",
    "### Objective:\n",
    "The classification goal is to predict the likelihood of a liability customer buying personal loans.\n",
    "\n",
    "### Steps and tasks:\n",
    "1. Import the datasets and libraries, check datatype, statistical summary, shape, null values or incorrect imputation. (5 marks)\n",
    "2. EDA: Study the data distribution in each attribute and target variable, share your findings (20 marks)\n",
    "    - Number of unique in each column?\n",
    "    - Number of people with zero mortgage?\n",
    "    - Number of people with zero credit card spending per month?\n",
    "    - Value counts of all categorical columns.\n",
    "    - Univariate and Bivariate\n",
    "    - Get data model ready\n",
    "3. Split the data into training and test set in the ratio of 70:30 respectively (5 marks)\n",
    "4. Use the Logistic Regression model to predict whether the customer will take a personal loan or not. Print all the metrics related to evaluating the model performance (accuracy, recall, precision, f1score, and roc_auc_score). Draw a heatmap to display confusion matrix (15 marks)\n",
    "5. Find out coefficients of all the attributes and show the output in a data frame with column names? For test data show all the rows where the predicted class is not equal to the observed class. (10 marks)\n",
    "6. Give conclusion related to the Business understanding of your model? (5 marks)"
   ]
  },
  {
   "cell_type": "code",
   "execution_count": 1,
   "metadata": {},
   "outputs": [],
   "source": [
    "# Importing libraries\n",
    "import pandas as pd\n",
    "import numpy as np\n",
    "import matplotlib.pyplot as plt\n",
    "%matplotlib inline\n",
    "\n",
    "import seaborn as sns\n",
    "\n",
    "import plotly.express as px\n",
    "\n",
    "from sklearn.linear_model import LogisticRegression\n",
    "logit = LogisticRegression(solver='newton-cg')\n",
    "\n",
    "from sklearn.model_selection import train_test_split as tts\n",
    "\n",
    "from sklearn.impute import SimpleImputer as si\n",
    "\n",
    "from sklearn import metrics as mtr\n",
    "\n",
    "import statsmodels.api as sm"
   ]
  },
  {
   "cell_type": "code",
   "execution_count": 2,
   "metadata": {},
   "outputs": [
    {
     "data": {
      "text/html": [
       "<style>.container { width:90% !important; }</style>"
      ],
      "text/plain": [
       "<IPython.core.display.HTML object>"
      ]
     },
     "metadata": {},
     "output_type": "display_data"
    }
   ],
   "source": [
    "import warnings\n",
    "warnings.filterwarnings('ignore')\n",
    "\n",
    "pd.options.display.float_format = '{:,.2f}'.format        \n",
    "\n",
    "from IPython.core.display import display, HTML\n",
    "display(HTML(\"<style>.container { width:90% !important; }</style>\"))\n",
    "\n",
    "sns.set_style(style='darkgrid')"
   ]
  },
  {
   "cell_type": "code",
   "execution_count": 3,
   "metadata": {},
   "outputs": [
    {
     "name": "stdout",
     "output_type": "stream",
     "text": [
      "<class 'pandas.core.frame.DataFrame'>\n",
      "RangeIndex: 5000 entries, 0 to 4999\n",
      "Data columns (total 14 columns):\n",
      "ID               5000 non-null int64\n",
      "Age              5000 non-null int64\n",
      "Experience       5000 non-null int64\n",
      "Income           5000 non-null int64\n",
      "Zipcode          5000 non-null int64\n",
      "Family           5000 non-null int64\n",
      "CCAvg            5000 non-null float64\n",
      "Education        5000 non-null int64\n",
      "Mortgage         5000 non-null int64\n",
      "AccptPersLoan    5000 non-null int64\n",
      "HaveSecAcct      5000 non-null int64\n",
      "HaveCDAcct       5000 non-null int64\n",
      "HaveOnline       5000 non-null int64\n",
      "HaveCC           5000 non-null int64\n",
      "dtypes: float64(1), int64(13)\n",
      "memory usage: 547.0 KB\n"
     ]
    }
   ],
   "source": [
    "# Reading file\n",
    "df = pd.read_csv('Bank_Personal_Loan_Modelling.csv')\n",
    "\n",
    "# Renaming columns for ease of working with them\n",
    "df.rename(columns={'ZIP Code':'Zipcode','Personal Loan':'AccptPersLoan','Securities Account':'HaveSecAcct','CD Account':'HaveCDAcct','Online':'HaveOnline','CreditCard':'HaveCC'},inplace=True)\n",
    "\n",
    "#Checking data-types\n",
    "df.info()"
   ]
  },
  {
   "cell_type": "markdown",
   "metadata": {},
   "source": [
    "### Getting Data-set ready"
   ]
  },
  {
   "cell_type": "code",
   "execution_count": 4,
   "metadata": {},
   "outputs": [],
   "source": [
    "# Dropping ID column since that is an identifier and not a feature\n",
    "df.drop('ID', axis=1, inplace=True)"
   ]
  },
  {
   "cell_type": "code",
   "execution_count": 5,
   "metadata": {},
   "outputs": [],
   "source": [
    "# Dropping observations with incorrect data (with outlier 4 digit Zipcode)\n",
    "df.drop(df[df.Zipcode < 90000].index, inplace=True)"
   ]
  },
  {
   "cell_type": "code",
   "execution_count": 6,
   "metadata": {},
   "outputs": [],
   "source": [
    "# Converting zipcode to bins\n",
    "ziplabels = ['900-905','905-910','910-915','915-920','920-925','925-930','930-935','935-940','940-945','945-950','950-955','955-960','960+']\n",
    "df['Zipcode'] = pd.cut(df.Zipcode, bins=[90000, 90500, 91000, 91500, 92000, 92500, 93000, 93500, 94000, 94500, 95000, 95500, 96000,100000], labels=ziplabels)\n",
    "# df.head()"
   ]
  },
  {
   "cell_type": "code",
   "execution_count": 7,
   "metadata": {},
   "outputs": [],
   "source": [
    "# # Checking for acceptance of loans across the zipcodes\n",
    "\n",
    "# fig = px.histogram(df, x='Zipcode', color='AccptPersLoan', barmode='group',\n",
    "#                   category_orders={'Zipcode': ziplabels},\n",
    "#                    width=1000)\n",
    "# fig.show()"
   ]
  },
  {
   "cell_type": "code",
   "execution_count": 8,
   "metadata": {},
   "outputs": [],
   "source": [
    "# Dropping observations with incorrect data (with Experience less than zero)\n",
    "df.drop(df[df.Experience < 0 ].index, inplace=True)"
   ]
  },
  {
   "cell_type": "code",
   "execution_count": 9,
   "metadata": {},
   "outputs": [],
   "source": [
    "# # Checking distribution of CC Average\n",
    "# fig = px.histogram(df, x='CCAvg', marginal='rug', width=1000)\n",
    "# fig.show()"
   ]
  },
  {
   "cell_type": "code",
   "execution_count": 10,
   "metadata": {},
   "outputs": [],
   "source": [
    "# Converting CC Average to bins - given it is already represented in '000s'\n",
    "cclabels = ['0-1K','1-2K','2-3K','3-4K','4-5K','5-8K','8K+']\n",
    "df['CCAvg'] = pd.cut(df.CCAvg, bins=[0, 1, 2, 3, 4, 5, 8,12], labels=cclabels)\n",
    "# df.head()"
   ]
  },
  {
   "cell_type": "code",
   "execution_count": 11,
   "metadata": {},
   "outputs": [],
   "source": [
    "df.Family = df.Family.astype('category')\n",
    "df.Education = df.Education.astype('category')"
   ]
  },
  {
   "cell_type": "code",
   "execution_count": 12,
   "metadata": {},
   "outputs": [],
   "source": [
    "df = pd.get_dummies(df)"
   ]
  },
  {
   "cell_type": "code",
   "execution_count": 13,
   "metadata": {},
   "outputs": [],
   "source": [
    "# df.describe().T"
   ]
  },
  {
   "cell_type": "code",
   "execution_count": 14,
   "metadata": {},
   "outputs": [],
   "source": [
    "# df.info()"
   ]
  },
  {
   "cell_type": "markdown",
   "metadata": {},
   "source": [
    "##### Split the data into training and test set in the ratio of 70:30 respectively (5 marks)"
   ]
  },
  {
   "cell_type": "code",
   "execution_count": 15,
   "metadata": {},
   "outputs": [],
   "source": [
    "dfy = df[['AccptPersLoan']].copy()\n",
    "dfX = df.drop('AccptPersLoan',axis=1).copy()"
   ]
  },
  {
   "cell_type": "code",
   "execution_count": 16,
   "metadata": {},
   "outputs": [],
   "source": [
    "X_train, X_test, y_train, y_test = tts(dfX, dfy, test_size=0.3, random_state=1)"
   ]
  },
  {
   "cell_type": "code",
   "execution_count": 17,
   "metadata": {},
   "outputs": [],
   "source": [
    "# X_test.describe().T"
   ]
  },
  {
   "cell_type": "markdown",
   "metadata": {},
   "source": [
    "##### Use the Logistic Regression model to predict whether the customer will take a personal loan or not.<br>Print all the metrics related to evaluating the model performance (accuracy, recall, precision, f1score, and roc_auc_score). <br>Draw a heatmap to display confusion matrix (15 marks)"
   ]
  },
  {
   "cell_type": "code",
   "execution_count": 18,
   "metadata": {},
   "outputs": [
    {
     "name": "stdout",
     "output_type": "stream",
     "text": [
      "Training score :  0.9647602541883304\n",
      "Test score :  0.9656565656565657\n"
     ]
    }
   ],
   "source": [
    "logit.fit(X_train,y_train)\n",
    "print('Training score : ',logit.score(X_train, y_train))\n",
    "\n",
    "logit.fit(X_test,y_test)\n",
    "print('Test score : ',logit.score(X_test, y_test))"
   ]
  },
  {
   "cell_type": "code",
   "execution_count": 19,
   "metadata": {},
   "outputs": [
    {
     "data": {
      "image/png": "[encoded data removed]",
      "text/plain": [
       "<Figure size 360x216 with 1 Axes>"
      ]
     },
     "metadata": {},
     "output_type": "display_data"
    }
   ],
   "source": [
    "y_predict = logit.predict(X_test)\n",
    "cmat = mtr.confusion_matrix(y_test,y_predict, labels=[1,0])\n",
    "\n",
    "dfcm = pd.DataFrame(cmat, index=['1','0'],columns=['1','0'])\n",
    "plt.figure(figsize=[5,3])\n",
    "sns.set(font_scale=1.2)\n",
    "fig = sns.heatmap(dfcm, annot=True, fmt='d',linewidth=0.5, cbar=False)\n",
    "plt.tick_params(axis='both', which='major', labelbottom = False, bottom=False, top = False, labeltop=True)\n",
    "plt.ylabel('Predicted\\n')\n",
    "plt.show()"
   ]
  },
  {
   "cell_type": "code",
   "execution_count": 20,
   "metadata": {},
   "outputs": [
    {
     "name": "stdout",
     "output_type": "stream",
     "text": [
      "Accuracy of the model :  0.9656565656565657\n",
      "Recall of the model :  0.8775510204081632\n",
      "Precision of the model :  0.688\n"
     ]
    }
   ],
   "source": [
    "npcm = np.array(cmat)\n",
    "print('Accuracy of the model : ',npcm.trace()/npcm.sum())\n",
    "print('Recall of the model : ',npcm[0,0]/npcm[:,0].sum())\n",
    "print('Precision of the model : ',npcm[0,0]/npcm[0].sum())"
   ]
  },
  {
   "cell_type": "code",
   "execution_count": 21,
   "metadata": {},
   "outputs": [
    {
     "data": {
      "text/plain": [
       "array([[0.96565657],\n",
       "       [0.87755102],\n",
       "       [0.688     ]])"
      ]
     },
     "execution_count": 21,
     "metadata": {},
     "output_type": "execute_result"
    }
   ],
   "source": [
    "appr0 = np.array([[npcm.trace()/npcm.sum()],[npcm[0,0]/npcm[:,0].sum()],[npcm[0,0]/npcm[0].sum()]])\n",
    "appr0"
   ]
  },
  {
   "cell_type": "markdown",
   "metadata": {},
   "source": [
    "### Iteration1"
   ]
  },
  {
   "cell_type": "code",
   "execution_count": 22,
   "metadata": {},
   "outputs": [],
   "source": [
    "df1 = df.copy()\n",
    "df1['HasMortgage'] = df1.Mortgage.apply(lambda x : 1 if( x > 0) else 0)"
   ]
  },
  {
   "cell_type": "markdown",
   "metadata": {},
   "source": [
    "#### Note: \n",
    "1. Introducing a Categorical variable 'HasMortgage' similar to other categorical variables before applying transformation\n",
    "2. Given the extreme skewness of Mortgage amounts, applying a Log transformation"
   ]
  },
  {
   "cell_type": "code",
   "execution_count": 23,
   "metadata": {},
   "outputs": [],
   "source": [
    "df1.Mortgage = df1.Mortgage.apply(lambda x: 1 if(x == 0) else x)\n",
    "df1['Mortgage_Log'] = np.log(df1.Mortgage)\n",
    "\n",
    "# fig = px.box(df1, x='Mortgage', width=1000, height=200)\n",
    "# fig.show()\n",
    "\n",
    "# fig = px.box(df1, x='Mortgage_Log', width=1000, height=200)\n",
    "# fig.show()"
   ]
  },
  {
   "cell_type": "code",
   "execution_count": 24,
   "metadata": {},
   "outputs": [],
   "source": [
    "dfy1 = df1[['AccptPersLoan']].copy()\n",
    "dfX1 = df1.drop(['AccptPersLoan','Mortgage'],axis=1).copy()"
   ]
  },
  {
   "cell_type": "code",
   "execution_count": 25,
   "metadata": {},
   "outputs": [],
   "source": [
    "X1_train, X1_test, y1_train, y1_test = tts(dfX1, dfy1, test_size=0.3, random_state=30)"
   ]
  },
  {
   "cell_type": "code",
   "execution_count": 26,
   "metadata": {},
   "outputs": [
    {
     "data": {
      "text/plain": [
       "0   89.83\n",
       "1   10.17\n",
       "Name: AccptPersLoan, dtype: float64"
      ]
     },
     "execution_count": 26,
     "metadata": {},
     "output_type": "execute_result"
    }
   ],
   "source": [
    "y1_train.AccptPersLoan.value_counts(normalize=True)*100"
   ]
  },
  {
   "cell_type": "code",
   "execution_count": 27,
   "metadata": {},
   "outputs": [
    {
     "name": "stdout",
     "output_type": "stream",
     "text": [
      "Training score :  0.9647602541883304\n",
      "Test score :  0.9717171717171718\n"
     ]
    }
   ],
   "source": [
    "logit.fit(X1_train,y1_train)\n",
    "print('Training score : ',logit.score(X1_train, y1_train))\n",
    "\n",
    "logit.fit(X1_test,y1_test)\n",
    "print('Test score : ',logit.score(X1_test, y1_test))"
   ]
  },
  {
   "cell_type": "code",
   "execution_count": 28,
   "metadata": {},
   "outputs": [
    {
     "data": {
      "image/png": "[encoded data removed]",
      "text/plain": [
       "<Figure size 360x216 with 1 Axes>"
      ]
     },
     "metadata": {},
     "output_type": "display_data"
    }
   ],
   "source": [
    "y1_predict = logit.predict(X1_test)\n",
    "cmat1 = mtr.confusion_matrix(y1_test,y1_predict, labels=[1,0])\n",
    "\n",
    "dfcm1 = pd.DataFrame(cmat1, index=['1','0'],columns=['1','0'])\n",
    "plt.figure(figsize=[5,3])\n",
    "sns.set(font_scale=1.2)\n",
    "fig = sns.heatmap(dfcm1, annot=True, fmt='d',linewidth=0.5, cbar=False)\n",
    "plt.tick_params(axis='both', which='major', labelbottom = False, bottom=False, top = False, labeltop=True)\n",
    "plt.ylabel('Predicted\\n')\n",
    "plt.show()"
   ]
  },
  {
   "cell_type": "code",
   "execution_count": 29,
   "metadata": {},
   "outputs": [
    {
     "name": "stdout",
     "output_type": "stream",
     "text": [
      "Accuracy of the model :  0.9717171717171718\n",
      "Recall of the model :  0.9387755102040817\n",
      "Precision of the model :  0.71875\n"
     ]
    }
   ],
   "source": [
    "npcm1 = np.array(cmat1)\n",
    "print('Accuracy of the model : ',npcm1.trace()/npcm1.sum())\n",
    "print('Recall of the model : ',npcm1[0,0]/npcm1[:,0].sum())\n",
    "print('Precision of the model : ',npcm1[0,0]/npcm1[0].sum())"
   ]
  },
  {
   "cell_type": "code",
   "execution_count": 30,
   "metadata": {},
   "outputs": [
    {
     "data": {
      "text/plain": [
       "array([[0.97171717],\n",
       "       [0.93877551],\n",
       "       [0.71875   ]])"
      ]
     },
     "execution_count": 30,
     "metadata": {},
     "output_type": "execute_result"
    }
   ],
   "source": [
    "appr1 = np.array([[npcm1.trace()/npcm1.sum()],[npcm1[0,0]/npcm1[:,0].sum()],[npcm1[0,0]/npcm1[0].sum()]])\n",
    "appr1"
   ]
  },
  {
   "cell_type": "markdown",
   "metadata": {},
   "source": [
    "### Iteration 2"
   ]
  },
  {
   "cell_type": "code",
   "execution_count": 31,
   "metadata": {},
   "outputs": [],
   "source": [
    "df2 = df1.copy()"
   ]
  },
  {
   "cell_type": "code",
   "execution_count": 32,
   "metadata": {},
   "outputs": [],
   "source": [
    "df2['Income_Log'] = np.log(df2.Income)\n",
    "\n",
    "# fig = px.box(df2, x='Income', width=1000, height=200)\n",
    "# fig.show()\n",
    "\n",
    "# fig = px.box(df2, x='Income_Log', width=1000, height=200)\n",
    "# fig.show()"
   ]
  },
  {
   "cell_type": "code",
   "execution_count": 33,
   "metadata": {},
   "outputs": [],
   "source": [
    "dfy2 = df2[['AccptPersLoan']].copy()\n",
    "dfX2 = df2.drop(['AccptPersLoan','Income'],axis=1).copy()"
   ]
  },
  {
   "cell_type": "code",
   "execution_count": 34,
   "metadata": {},
   "outputs": [],
   "source": [
    "X2_train, X2_test, y2_train, y2_test = tts(dfX2, dfy2, test_size=0.3, random_state=30)"
   ]
  },
  {
   "cell_type": "code",
   "execution_count": 35,
   "metadata": {},
   "outputs": [
    {
     "data": {
      "text/plain": [
       "0   89.83\n",
       "1   10.17\n",
       "Name: AccptPersLoan, dtype: float64"
      ]
     },
     "execution_count": 35,
     "metadata": {},
     "output_type": "execute_result"
    }
   ],
   "source": [
    "y2_train.AccptPersLoan.value_counts(normalize=True)*100"
   ]
  },
  {
   "cell_type": "code",
   "execution_count": 36,
   "metadata": {},
   "outputs": [
    {
     "name": "stdout",
     "output_type": "stream",
     "text": [
      "Training score :  0.9682264586943963\n",
      "Test score :  0.9744107744107744\n"
     ]
    }
   ],
   "source": [
    "logit.fit(X2_train,y2_train)\n",
    "print('Training score : ',logit.score(X2_train, y2_train))\n",
    "\n",
    "logit.fit(X2_test,y2_test)\n",
    "print('Test score : ',logit.score(X2_test, y2_test))"
   ]
  },
  {
   "cell_type": "code",
   "execution_count": 37,
   "metadata": {},
   "outputs": [
    {
     "data": {
      "image/png": "[encoded data removed]",
      "text/plain": [
       "<Figure size 360x216 with 1 Axes>"
      ]
     },
     "metadata": {},
     "output_type": "display_data"
    }
   ],
   "source": [
    "y2_predict = logit.predict(X2_test)\n",
    "cmat2 = mtr.confusion_matrix(y2_test,y2_predict, labels=[1,0])\n",
    "\n",
    "dfcm2 = pd.DataFrame(cmat2, index=['1','0'],columns=['1','0'])\n",
    "plt.figure(figsize=[5,3])\n",
    "sns.set(font_scale=1.2)\n",
    "fig = sns.heatmap(dfcm2, annot=True, fmt='d',linewidth=0.5, cbar=False)\n",
    "plt.tick_params(axis='both', which='major', labelbottom = False, bottom=False, top = False, labeltop=True)\n",
    "plt.ylabel('Predicted\\n')\n",
    "plt.show()"
   ]
  },
  {
   "cell_type": "code",
   "execution_count": 38,
   "metadata": {},
   "outputs": [
    {
     "name": "stdout",
     "output_type": "stream",
     "text": [
      "Accuracy of the model :  0.9744107744107744\n",
      "Recall of the model :  0.96875\n",
      "Precision of the model :  0.7265625\n"
     ]
    }
   ],
   "source": [
    "npcm2 = np.array(cmat2)\n",
    "print('Accuracy of the model : ',npcm2.trace()/npcm2.sum())\n",
    "print('Recall of the model : ',npcm2[0,0]/npcm2[:,0].sum())\n",
    "print('Precision of the model : ',npcm2[0,0]/npcm2[0].sum())"
   ]
  },
  {
   "cell_type": "code",
   "execution_count": 39,
   "metadata": {},
   "outputs": [
    {
     "data": {
      "text/plain": [
       "array([[0.97441077],\n",
       "       [0.96875   ],\n",
       "       [0.7265625 ]])"
      ]
     },
     "execution_count": 39,
     "metadata": {},
     "output_type": "execute_result"
    }
   ],
   "source": [
    "appr2 = np.array([[npcm2.trace()/npcm2.sum()],[npcm2[0,0]/npcm2[:,0].sum()],[npcm2[0,0]/npcm2[0].sum()]])\n",
    "appr2"
   ]
  },
  {
   "cell_type": "markdown",
   "metadata": {},
   "source": [
    "### Summary:\n",
    "Comparing the results of the three approaches:"
   ]
  },
  {
   "cell_type": "code",
   "execution_count": 40,
   "metadata": {},
   "outputs": [],
   "source": [
    "compare = pd.DataFrame('',index=['Accuracy','Recall','Precision'],columns=['Initial','Iteration1','Iteration2'])"
   ]
  },
  {
   "cell_type": "code",
   "execution_count": 41,
   "metadata": {},
   "outputs": [
    {
     "data": {
      "text/html": [
       "<div>\n",
       "<style scoped>\n",
       "    .dataframe tbody tr th:only-of-type {\n",
       "        vertical-align: middle;\n",
       "    }\n",
       "\n",
       "    .dataframe tbody tr th {\n",
       "        vertical-align: top;\n",
       "    }\n",
       "\n",
       "    .dataframe thead th {\n",
       "        text-align: right;\n",
       "    }\n",
       "</style>\n",
       "<table border=\"1\" class=\"dataframe\">\n",
       "  <thead>\n",
       "    <tr style=\"text-align: right;\">\n",
       "      <th></th>\n",
       "      <th>Initial</th>\n",
       "      <th>Iteration1</th>\n",
       "      <th>Iteration2</th>\n",
       "    </tr>\n",
       "  </thead>\n",
       "  <tbody>\n",
       "    <tr>\n",
       "      <th>Accuracy</th>\n",
       "      <td>0.9657</td>\n",
       "      <td>0.9717</td>\n",
       "      <td>0.9744</td>\n",
       "    </tr>\n",
       "    <tr>\n",
       "      <th>Recall</th>\n",
       "      <td>0.8776</td>\n",
       "      <td>0.9388</td>\n",
       "      <td>0.9688</td>\n",
       "    </tr>\n",
       "    <tr>\n",
       "      <th>Precision</th>\n",
       "      <td>0.6880</td>\n",
       "      <td>0.7188</td>\n",
       "      <td>0.7266</td>\n",
       "    </tr>\n",
       "  </tbody>\n",
       "</table>\n",
       "</div>"
      ],
      "text/plain": [
       "           Initial  Iteration1  Iteration2\n",
       "Accuracy    0.9657      0.9717      0.9744\n",
       "Recall      0.8776      0.9388      0.9688\n",
       "Precision   0.6880      0.7188      0.7266"
      ]
     },
     "execution_count": 41,
     "metadata": {},
     "output_type": "execute_result"
    }
   ],
   "source": [
    "compare.Initial = appr0\n",
    "compare.Iteration1 = appr1\n",
    "compare.Iteration2 = appr2\n",
    "pd.options.display.float_format = '{:,.4f}'.format  \n",
    "compare"
   ]
  },
  {
   "cell_type": "markdown",
   "metadata": {},
   "source": [
    "### Summary: Iteration 2 seems to have the best results for the given data and model\n",
    "<br/>"
   ]
  },
  {
   "cell_type": "markdown",
   "metadata": {},
   "source": [
    "## Comparing the model using 'Class_weight'"
   ]
  },
  {
   "cell_type": "code",
   "execution_count": 42,
   "metadata": {},
   "outputs": [
    {
     "name": "stdout",
     "output_type": "stream",
     "text": [
      "Training score :  0.9682264586943963\n",
      "Test score :  0.9744107744107744\n"
     ]
    },
    {
     "data": {
      "image/png": "[encoded data removed]",
      "text/plain": [
       "<Figure size 360x216 with 1 Axes>"
      ]
     },
     "metadata": {},
     "output_type": "display_data"
    },
    {
     "name": "stdout",
     "output_type": "stream",
     "text": [
      "Training score :  0.9185441941074524\n",
      "Test score :  0.9407407407407408\n"
     ]
    },
    {
     "data": {
      "image/png": "[encoded data removed]",
      "text/plain": [
       "<Figure size 360x216 with 1 Axes>"
      ]
     },
     "metadata": {},
     "output_type": "display_data"
    }
   ],
   "source": [
    "logit1 = LogisticRegression(solver='newton-cg')\n",
    "logit2 = LogisticRegression(solver='newton-cg', class_weight='balanced')\n",
    "\n",
    "logit1.fit(X2_train,y2_train)\n",
    "print('Training score : ',logit1.score(X2_train, y2_train))\n",
    "\n",
    "logit1.fit(X2_test,y2_test)\n",
    "print('Test score : ',logit1.score(X2_test, y2_test))\n",
    "\n",
    "y21_predict = logit1.predict(X2_test)\n",
    "cmat21 = mtr.confusion_matrix(y2_test,y21_predict, labels=[1,0])\n",
    "dfcm21 = pd.DataFrame(cmat21, index=['1','0'],columns=['1','0'])\n",
    "plt.figure(figsize=[5,3])\n",
    "sns.set(font_scale=1.2)\n",
    "fig = sns.heatmap(dfcm21, annot=True, fmt='d',linewidth=0.5, cbar=False)\n",
    "plt.tick_params(axis='both', which='major', labelbottom = False, bottom=False, top = False, labeltop=True)\n",
    "plt.ylabel('Predicted\\n')\n",
    "plt.show()\n",
    "\n",
    "logit2.fit(X2_train,y2_train)\n",
    "print('Training score : ',logit2.score(X2_train, y2_train))\n",
    "\n",
    "logit2.fit(X2_test,y2_test)\n",
    "print('Test score : ',logit2.score(X2_test, y2_test))\n",
    "\n",
    "y22_predict = logit2.predict(X2_test)\n",
    "cmat22 = mtr.confusion_matrix(y2_test,y22_predict, labels=[1,0])\n",
    "dfcm22 = pd.DataFrame(cmat22, index=['1','0'],columns=['1','0'])\n",
    "plt.figure(figsize=[5,3])\n",
    "sns.set(font_scale=1.2)\n",
    "fig = sns.heatmap(dfcm22, annot=True, fmt='d',linewidth=0.5, cbar=False)\n",
    "plt.tick_params(axis='both', which='major', labelbottom = False, bottom=False, top = False, labeltop=True)\n",
    "plt.ylabel('Predicted\\n')\n",
    "plt.show()"
   ]
  },
  {
   "cell_type": "markdown",
   "metadata": {},
   "source": [
    "## Validation using Stats Model"
   ]
  },
  {
   "cell_type": "code",
   "execution_count": 45,
   "metadata": {},
   "outputs": [
    {
     "data": {
      "text/html": [
       "<div>\n",
       "<style scoped>\n",
       "    .dataframe tbody tr th:only-of-type {\n",
       "        vertical-align: middle;\n",
       "    }\n",
       "\n",
       "    .dataframe tbody tr th {\n",
       "        vertical-align: top;\n",
       "    }\n",
       "\n",
       "    .dataframe thead th {\n",
       "        text-align: right;\n",
       "    }\n",
       "</style>\n",
       "<table border=\"1\" class=\"dataframe\">\n",
       "  <thead>\n",
       "    <tr style=\"text-align: right;\">\n",
       "      <th></th>\n",
       "      <th>Attributes</th>\n",
       "      <th>Coefficient</th>\n",
       "    </tr>\n",
       "  </thead>\n",
       "  <tbody>\n",
       "    <tr>\n",
       "      <th>36</th>\n",
       "      <td>Income_Log</td>\n",
       "      <td>6.9501</td>\n",
       "    </tr>\n",
       "    <tr>\n",
       "      <th>4</th>\n",
       "      <td>HaveCDAcct</td>\n",
       "      <td>4.2919</td>\n",
       "    </tr>\n",
       "    <tr>\n",
       "      <th>27</th>\n",
       "      <td>CCAvg_3-4K</td>\n",
       "      <td>1.8163</td>\n",
       "    </tr>\n",
       "    <tr>\n",
       "      <th>23</th>\n",
       "      <td>Family_4</td>\n",
       "      <td>1.4623</td>\n",
       "    </tr>\n",
       "    <tr>\n",
       "      <th>33</th>\n",
       "      <td>Education_3</td>\n",
       "      <td>1.4437</td>\n",
       "    </tr>\n",
       "    <tr>\n",
       "      <th>32</th>\n",
       "      <td>Education_2</td>\n",
       "      <td>1.0029</td>\n",
       "    </tr>\n",
       "    <tr>\n",
       "      <th>28</th>\n",
       "      <td>CCAvg_4-5K</td>\n",
       "      <td>0.9366</td>\n",
       "    </tr>\n",
       "    <tr>\n",
       "      <th>8</th>\n",
       "      <td>Zipcode_905-910</td>\n",
       "      <td>0.6412</td>\n",
       "    </tr>\n",
       "    <tr>\n",
       "      <th>22</th>\n",
       "      <td>Family_3</td>\n",
       "      <td>0.5810</td>\n",
       "    </tr>\n",
       "    <tr>\n",
       "      <th>13</th>\n",
       "      <td>Zipcode_930-935</td>\n",
       "      <td>0.3990</td>\n",
       "    </tr>\n",
       "    <tr>\n",
       "      <th>17</th>\n",
       "      <td>Zipcode_950-955</td>\n",
       "      <td>0.3960</td>\n",
       "    </tr>\n",
       "    <tr>\n",
       "      <th>29</th>\n",
       "      <td>CCAvg_5-8K</td>\n",
       "      <td>0.3358</td>\n",
       "    </tr>\n",
       "    <tr>\n",
       "      <th>15</th>\n",
       "      <td>Zipcode_940-945</td>\n",
       "      <td>0.3226</td>\n",
       "    </tr>\n",
       "    <tr>\n",
       "      <th>12</th>\n",
       "      <td>Zipcode_925-930</td>\n",
       "      <td>0.2270</td>\n",
       "    </tr>\n",
       "    <tr>\n",
       "      <th>0</th>\n",
       "      <td>Age</td>\n",
       "      <td>0.1445</td>\n",
       "    </tr>\n",
       "    <tr>\n",
       "      <th>11</th>\n",
       "      <td>Zipcode_920-925</td>\n",
       "      <td>0.0933</td>\n",
       "    </tr>\n",
       "    <tr>\n",
       "      <th>35</th>\n",
       "      <td>Mortgage_Log</td>\n",
       "      <td>0.0528</td>\n",
       "    </tr>\n",
       "    <tr>\n",
       "      <th>7</th>\n",
       "      <td>Zipcode_900-905</td>\n",
       "      <td>0.0079</td>\n",
       "    </tr>\n",
       "    <tr>\n",
       "      <th>2</th>\n",
       "      <td>Mortgage</td>\n",
       "      <td>0.0012</td>\n",
       "    </tr>\n",
       "    <tr>\n",
       "      <th>16</th>\n",
       "      <td>Zipcode_945-950</td>\n",
       "      <td>-0.0186</td>\n",
       "    </tr>\n",
       "    <tr>\n",
       "      <th>26</th>\n",
       "      <td>CCAvg_2-3K</td>\n",
       "      <td>-0.0401</td>\n",
       "    </tr>\n",
       "    <tr>\n",
       "      <th>10</th>\n",
       "      <td>Zipcode_915-920</td>\n",
       "      <td>-0.0598</td>\n",
       "    </tr>\n",
       "    <tr>\n",
       "      <th>34</th>\n",
       "      <td>HasMortgage</td>\n",
       "      <td>-0.1224</td>\n",
       "    </tr>\n",
       "    <tr>\n",
       "      <th>1</th>\n",
       "      <td>Experience</td>\n",
       "      <td>-0.1546</td>\n",
       "    </tr>\n",
       "    <tr>\n",
       "      <th>18</th>\n",
       "      <td>Zipcode_955-960</td>\n",
       "      <td>-0.1851</td>\n",
       "    </tr>\n",
       "    <tr>\n",
       "      <th>24</th>\n",
       "      <td>CCAvg_0-1K</td>\n",
       "      <td>-0.3061</td>\n",
       "    </tr>\n",
       "    <tr>\n",
       "      <th>14</th>\n",
       "      <td>Zipcode_935-940</td>\n",
       "      <td>-0.3612</td>\n",
       "    </tr>\n",
       "    <tr>\n",
       "      <th>5</th>\n",
       "      <td>HaveOnline</td>\n",
       "      <td>-0.4977</td>\n",
       "    </tr>\n",
       "    <tr>\n",
       "      <th>19</th>\n",
       "      <td>Zipcode_960+</td>\n",
       "      <td>-0.5350</td>\n",
       "    </tr>\n",
       "    <tr>\n",
       "      <th>21</th>\n",
       "      <td>Family_2</td>\n",
       "      <td>-0.8336</td>\n",
       "    </tr>\n",
       "    <tr>\n",
       "      <th>25</th>\n",
       "      <td>CCAvg_1-2K</td>\n",
       "      <td>-0.9156</td>\n",
       "    </tr>\n",
       "    <tr>\n",
       "      <th>9</th>\n",
       "      <td>Zipcode_910-915</td>\n",
       "      <td>-0.9275</td>\n",
       "    </tr>\n",
       "    <tr>\n",
       "      <th>30</th>\n",
       "      <td>CCAvg_8K+</td>\n",
       "      <td>-0.9972</td>\n",
       "    </tr>\n",
       "    <tr>\n",
       "      <th>3</th>\n",
       "      <td>HaveSecAcct</td>\n",
       "      <td>-1.0935</td>\n",
       "    </tr>\n",
       "    <tr>\n",
       "      <th>6</th>\n",
       "      <td>HaveCC</td>\n",
       "      <td>-1.1741</td>\n",
       "    </tr>\n",
       "    <tr>\n",
       "      <th>20</th>\n",
       "      <td>Family_1</td>\n",
       "      <td>-1.2097</td>\n",
       "    </tr>\n",
       "    <tr>\n",
       "      <th>31</th>\n",
       "      <td>Education_1</td>\n",
       "      <td>-2.4467</td>\n",
       "    </tr>\n",
       "  </tbody>\n",
       "</table>\n",
       "</div>"
      ],
      "text/plain": [
       "         Attributes  Coefficient\n",
       "36       Income_Log       6.9501\n",
       "4        HaveCDAcct       4.2919\n",
       "27       CCAvg_3-4K       1.8163\n",
       "23         Family_4       1.4623\n",
       "33      Education_3       1.4437\n",
       "32      Education_2       1.0029\n",
       "28       CCAvg_4-5K       0.9366\n",
       "8   Zipcode_905-910       0.6412\n",
       "22         Family_3       0.5810\n",
       "13  Zipcode_930-935       0.3990\n",
       "17  Zipcode_950-955       0.3960\n",
       "29       CCAvg_5-8K       0.3358\n",
       "15  Zipcode_940-945       0.3226\n",
       "12  Zipcode_925-930       0.2270\n",
       "0               Age       0.1445\n",
       "11  Zipcode_920-925       0.0933\n",
       "35     Mortgage_Log       0.0528\n",
       "7   Zipcode_900-905       0.0079\n",
       "2          Mortgage       0.0012\n",
       "16  Zipcode_945-950      -0.0186\n",
       "26       CCAvg_2-3K      -0.0401\n",
       "10  Zipcode_915-920      -0.0598\n",
       "34      HasMortgage      -0.1224\n",
       "1        Experience      -0.1546\n",
       "18  Zipcode_955-960      -0.1851\n",
       "24       CCAvg_0-1K      -0.3061\n",
       "14  Zipcode_935-940      -0.3612\n",
       "5        HaveOnline      -0.4977\n",
       "19     Zipcode_960+      -0.5350\n",
       "21         Family_2      -0.8336\n",
       "25       CCAvg_1-2K      -0.9156\n",
       "9   Zipcode_910-915      -0.9275\n",
       "30        CCAvg_8K+      -0.9972\n",
       "3       HaveSecAcct      -1.0935\n",
       "6            HaveCC      -1.1741\n",
       "20         Family_1      -1.2097\n",
       "31      Education_1      -2.4467"
      ]
     },
     "execution_count": 45,
     "metadata": {},
     "output_type": "execute_result"
    }
   ],
   "source": [
    "dfcoef = pd.DataFrame({'Attributes':list(X2_test.columns),'Coefficient':list(logit2.coef_[0])})\n",
    "dfcoef.sort_values('Coefficient', ascending=False)"
   ]
  },
  {
   "cell_type": "code",
   "execution_count": 43,
   "metadata": {},
   "outputs": [
    {
     "name": "stdout",
     "output_type": "stream",
     "text": [
      "Warning: Maximum number of iterations has been exceeded.\n",
      "         Current function value: 0.094349\n",
      "         Iterations: 35\n"
     ]
    },
    {
     "data": {
      "text/html": [
       "<table class=\"simpletable\">\n",
       "<tr>\n",
       "        <td>Model:</td>              <td>Logit</td>      <td>Pseudo R-squared:</td>   <td>0.713</td> \n",
       "</tr>\n",
       "<tr>\n",
       "  <td>Dependent Variable:</td>   <td>AccptPersLoan</td>        <td>AIC:</td>        <td>723.2719</td>\n",
       "</tr>\n",
       "<tr>\n",
       "         <td>Date:</td>        <td>2020-11-08 13:44</td>       <td>BIC:</td>        <td>938.5079</td>\n",
       "</tr>\n",
       "<tr>\n",
       "   <td>No. Observations:</td>        <td>3462</td>        <td>Log-Likelihood:</td>   <td>-326.64</td>\n",
       "</tr>\n",
       "<tr>\n",
       "       <td>Df Model:</td>             <td>34</td>            <td>LL-Null:</td>       <td>-1138.1</td>\n",
       "</tr>\n",
       "<tr>\n",
       "     <td>Df Residuals:</td>          <td>3427</td>         <td>LLR p-value:</td>     <td>0.0000</td> \n",
       "</tr>\n",
       "<tr>\n",
       "      <td>Converged:</td>           <td>0.0000</td>           <td>Scale:</td>        <td>1.0000</td> \n",
       "</tr>\n",
       "<tr>\n",
       "    <td>No. Iterations:</td>        <td>35.0000</td>             <td></td>              <td></td>    \n",
       "</tr>\n",
       "</table>\n",
       "<table class=\"simpletable\">\n",
       "<tr>\n",
       "         <td></td>           <th>Coef.</th>    <th>Std.Err.</th>       <th>z</th>     <th>P>|z|</th>     <th>[0.025</th>        <th>0.975]</th>    \n",
       "</tr>\n",
       "<tr>\n",
       "  <th>const</th>           <td>-33.4967</td> <td>11314570.8975</td> <td>-0.0000</td> <td>1.0000</td> <td>-22176184.9562</td> <td>22176117.9629</td>\n",
       "</tr>\n",
       "<tr>\n",
       "  <th>Age</th>              <td>-0.0221</td>    <td>0.0938</td>     <td>-0.2351</td> <td>0.8141</td>     <td>-0.2060</td>       <td>0.1619</td>    \n",
       "</tr>\n",
       "<tr>\n",
       "  <th>Experience</th>       <td>0.0377</td>     <td>0.0932</td>     <td>0.4040</td>  <td>0.6862</td>     <td>-0.1450</td>       <td>0.2203</td>    \n",
       "</tr>\n",
       "<tr>\n",
       "  <th>Mortgage</th>         <td>-0.0024</td>    <td>0.0058</td>     <td>-0.4150</td> <td>0.6782</td>     <td>-0.0137</td>       <td>0.0089</td>    \n",
       "</tr>\n",
       "<tr>\n",
       "  <th>HaveSecAcct</th>      <td>-0.6311</td>    <td>0.4051</td>     <td>-1.5580</td> <td>0.1192</td>     <td>-1.4250</td>       <td>0.1628</td>    \n",
       "</tr>\n",
       "<tr>\n",
       "  <th>HaveCDAcct</th>       <td>3.3905</td>     <td>0.4663</td>     <td>7.2715</td>  <td>0.0000</td>     <td>2.4766</td>        <td>4.3044</td>    \n",
       "</tr>\n",
       "<tr>\n",
       "  <th>HaveOnline</th>       <td>-0.8561</td>    <td>0.2287</td>     <td>-3.7427</td> <td>0.0002</td>     <td>-1.3043</td>       <td>-0.4078</td>   \n",
       "</tr>\n",
       "<tr>\n",
       "  <th>HaveCC</th>           <td>-0.8898</td>    <td>0.2796</td>     <td>-3.1829</td> <td>0.0015</td>     <td>-1.4377</td>       <td>-0.3419</td>   \n",
       "</tr>\n",
       "<tr>\n",
       "  <th>Zipcode_900-905</th>  <td>-2.1979</td> <td>13155480.5442</td> <td>-0.0000</td> <td>1.0000</td> <td>-25784270.2639</td> <td>25784265.8680</td>\n",
       "</tr>\n",
       "<tr>\n",
       "  <th>Zipcode_905-910</th>  <td>-1.5399</td> <td>13297129.3219</td> <td>-0.0000</td> <td>1.0000</td> <td>-26061896.1086</td> <td>26061893.0288</td>\n",
       "</tr>\n",
       "<tr>\n",
       "  <th>Zipcode_910-915</th>  <td>-1.7655</td> <td>13329307.3990</td> <td>-0.0000</td> <td>1.0000</td> <td>-26124964.2064</td> <td>26124960.6754</td>\n",
       "</tr>\n",
       "<tr>\n",
       "  <th>Zipcode_915-920</th>  <td>-2.7362</td> <td>13179304.8849</td> <td>-0.0000</td> <td>1.0000</td> <td>-25830965.6519</td> <td>25830960.1795</td>\n",
       "</tr>\n",
       "<tr>\n",
       "  <th>Zipcode_920-925</th>  <td>-1.9662</td> <td>13051140.9584</td> <td>-0.0000</td> <td>1.0000</td> <td>-25579768.2019</td> <td>25579764.2695</td>\n",
       "</tr>\n",
       "<tr>\n",
       "  <th>Zipcode_925-930</th>  <td>-1.9050</td> <td>13152921.1430</td> <td>-0.0000</td> <td>1.0000</td> <td>-25779253.6367</td> <td>25779249.8267</td>\n",
       "</tr>\n",
       "<tr>\n",
       "  <th>Zipcode_930-935</th>  <td>-1.8558</td> <td>13096501.4503</td> <td>-0.0000</td> <td>1.0000</td> <td>-25668673.0217</td> <td>25668669.3102</td>\n",
       "</tr>\n",
       "<tr>\n",
       "  <th>Zipcode_935-940</th>  <td>-3.2500</td> <td>13304630.7033</td> <td>-0.0000</td> <td>1.0000</td> <td>-26076600.2560</td> <td>26076593.7560</td>\n",
       "</tr>\n",
       "<tr>\n",
       "  <th>Zipcode_940-945</th>  <td>-2.2207</td> <td>13215632.9413</td> <td>-0.0000</td> <td>1.0000</td> <td>-25902166.8185</td> <td>25902162.3770</td>\n",
       "</tr>\n",
       "<tr>\n",
       "  <th>Zipcode_945-950</th>  <td>-2.1366</td> <td>13243096.3699</td> <td>-0.0000</td> <td>1.0000</td> <td>-25955994.0653</td> <td>25955989.7921</td>\n",
       "</tr>\n",
       "<tr>\n",
       "  <th>Zipcode_950-955</th>  <td>-1.8281</td> <td>13161285.5306</td> <td>-0.0000</td> <td>1.0000</td> <td>-25795647.4583</td> <td>25795643.8021</td>\n",
       "</tr>\n",
       "<tr>\n",
       "  <th>Zipcode_955-960</th>  <td>-2.0218</td> <td>13255812.9010</td> <td>-0.0000</td> <td>1.0000</td> <td>-25980917.8935</td> <td>25980913.8499</td>\n",
       "</tr>\n",
       "<tr>\n",
       "  <th>Zipcode_960+</th>     <td>-3.1908</td> <td>13221839.0896</td> <td>-0.0000</td> <td>1.0000</td> <td>-25914331.6158</td> <td>25914325.2342</td>\n",
       "</tr>\n",
       "<tr>\n",
       "  <th>Family_1</th>         <td>-9.6161</td> <td>10499961.6845</td> <td>-0.0000</td> <td>1.0000</td> <td>-20579556.3569</td> <td>20579537.1246</td>\n",
       "</tr>\n",
       "<tr>\n",
       "  <th>Family_2</th>        <td>-10.0546</td> <td>10507649.7723</td> <td>-0.0000</td> <td>1.0000</td> <td>-20594625.1704</td> <td>20594605.0613</td>\n",
       "</tr>\n",
       "<tr>\n",
       "  <th>Family_3</th>         <td>-7.0546</td> <td>10490140.6378</td> <td>-0.0000</td> <td>1.0000</td> <td>-20560304.8975</td> <td>20560290.7883</td>\n",
       "</tr>\n",
       "<tr>\n",
       "  <th>Family_4</th>         <td>-7.9447</td> <td>10519720.9754</td> <td>-0.0000</td> <td>1.0000</td> <td>-20618282.1840</td> <td>20618266.2946</td>\n",
       "</tr>\n",
       "<tr>\n",
       "  <th>CCAvg_0-1K</th>       <td>13.7346</td>   <td>858.7675</td>    <td>0.0160</td>  <td>0.9872</td>   <td>-1669.4188</td>     <td>1696.8881</td>  \n",
       "</tr>\n",
       "<tr>\n",
       "  <th>CCAvg_1-2K</th>       <td>13.0720</td>   <td>858.7675</td>    <td>0.0152</td>  <td>0.9879</td>   <td>-1670.0814</td>     <td>1696.2255</td>  \n",
       "</tr>\n",
       "<tr>\n",
       "  <th>CCAvg_2-3K</th>       <td>14.0936</td>   <td>858.7675</td>    <td>0.0164</td>  <td>0.9869</td>   <td>-1669.0598</td>     <td>1697.2469</td>  \n",
       "</tr>\n",
       "<tr>\n",
       "  <th>CCAvg_3-4K</th>       <td>15.9582</td>   <td>858.7675</td>    <td>0.0186</td>  <td>0.9852</td>   <td>-1667.1952</td>     <td>1699.1116</td>  \n",
       "</tr>\n",
       "<tr>\n",
       "  <th>CCAvg_4-5K</th>       <td>15.6047</td>   <td>858.7675</td>    <td>0.0182</td>  <td>0.9855</td>   <td>-1667.5487</td>     <td>1698.7581</td>  \n",
       "</tr>\n",
       "<tr>\n",
       "  <th>CCAvg_5-8K</th>       <td>14.8586</td>   <td>858.7675</td>    <td>0.0173</td>  <td>0.9862</td>   <td>-1668.2948</td>     <td>1698.0120</td>  \n",
       "</tr>\n",
       "<tr>\n",
       "  <th>CCAvg_8K+</th>        <td>12.7938</td>   <td>858.7678</td>    <td>0.0149</td>  <td>0.9881</td>   <td>-1670.3603</td>     <td>1695.9478</td>  \n",
       "</tr>\n",
       "<tr>\n",
       "  <th>Education_1</th>     <td>-13.7833</td>      <td>nan</td>        <td>nan</td>     <td>nan</td>        <td>nan</td>           <td>nan</td>     \n",
       "</tr>\n",
       "<tr>\n",
       "  <th>Education_2</th>      <td>-9.8105</td>      <td>nan</td>        <td>nan</td>     <td>nan</td>        <td>nan</td>           <td>nan</td>     \n",
       "</tr>\n",
       "<tr>\n",
       "  <th>Education_3</th>      <td>-9.8409</td>      <td>nan</td>        <td>nan</td>     <td>nan</td>        <td>nan</td>           <td>nan</td>     \n",
       "</tr>\n",
       "<tr>\n",
       "  <th>HasMortgage</th>      <td>-2.5824</td>    <td>6.3556</td>     <td>-0.4063</td> <td>0.6845</td>    <td>-15.0391</td>       <td>9.8744</td>    \n",
       "</tr>\n",
       "<tr>\n",
       "  <th>Mortgage_Log</th>     <td>0.6423</td>     <td>1.4248</td>     <td>0.4508</td>  <td>0.6521</td>     <td>-2.1503</td>       <td>3.4348</td>    \n",
       "</tr>\n",
       "<tr>\n",
       "  <th>Income_Log</th>       <td>8.5078</td>     <td>0.5670</td>     <td>15.0045</td> <td>0.0000</td>     <td>7.3965</td>        <td>9.6192</td>    \n",
       "</tr>\n",
       "</table>"
      ],
      "text/plain": [
       "<class 'statsmodels.iolib.summary2.Summary'>\n",
       "\"\"\"\n",
       "                                  Results: Logit\n",
       "==================================================================================\n",
       "Model:                     Logit                  Pseudo R-squared:       0.713   \n",
       "Dependent Variable:        AccptPersLoan          AIC:                    723.2719\n",
       "Date:                      2020-11-08 13:44       BIC:                    938.5079\n",
       "No. Observations:          3462                   Log-Likelihood:         -326.64 \n",
       "Df Model:                  34                     LL-Null:                -1138.1 \n",
       "Df Residuals:              3427                   LLR p-value:            0.0000  \n",
       "Converged:                 0.0000                 Scale:                  1.0000  \n",
       "No. Iterations:            35.0000                                                \n",
       "----------------------------------------------------------------------------------\n",
       "                 Coef.      Std.Err.      z    P>|z|      [0.025         0.975]   \n",
       "----------------------------------------------------------------------------------\n",
       "const           -33.4967 11314570.8975 -0.0000 1.0000 -22176184.9562 22176117.9629\n",
       "Age              -0.0221        0.0938 -0.2351 0.8141        -0.2060        0.1619\n",
       "Experience        0.0377        0.0932  0.4040 0.6862        -0.1450        0.2203\n",
       "Mortgage         -0.0024        0.0058 -0.4150 0.6782        -0.0137        0.0089\n",
       "HaveSecAcct      -0.6311        0.4051 -1.5580 0.1192        -1.4250        0.1628\n",
       "HaveCDAcct        3.3905        0.4663  7.2715 0.0000         2.4766        4.3044\n",
       "HaveOnline       -0.8561        0.2287 -3.7427 0.0002        -1.3043       -0.4078\n",
       "HaveCC           -0.8898        0.2796 -3.1829 0.0015        -1.4377       -0.3419\n",
       "Zipcode_900-905  -2.1979 13155480.5442 -0.0000 1.0000 -25784270.2639 25784265.8680\n",
       "Zipcode_905-910  -1.5399 13297129.3219 -0.0000 1.0000 -26061896.1086 26061893.0288\n",
       "Zipcode_910-915  -1.7655 13329307.3990 -0.0000 1.0000 -26124964.2064 26124960.6754\n",
       "Zipcode_915-920  -2.7362 13179304.8849 -0.0000 1.0000 -25830965.6519 25830960.1795\n",
       "Zipcode_920-925  -1.9662 13051140.9584 -0.0000 1.0000 -25579768.2019 25579764.2695\n",
       "Zipcode_925-930  -1.9050 13152921.1430 -0.0000 1.0000 -25779253.6367 25779249.8267\n",
       "Zipcode_930-935  -1.8558 13096501.4503 -0.0000 1.0000 -25668673.0217 25668669.3102\n",
       "Zipcode_935-940  -3.2500 13304630.7033 -0.0000 1.0000 -26076600.2560 26076593.7560\n",
       "Zipcode_940-945  -2.2207 13215632.9413 -0.0000 1.0000 -25902166.8185 25902162.3770\n",
       "Zipcode_945-950  -2.1366 13243096.3699 -0.0000 1.0000 -25955994.0653 25955989.7921\n",
       "Zipcode_950-955  -1.8281 13161285.5306 -0.0000 1.0000 -25795647.4583 25795643.8021\n",
       "Zipcode_955-960  -2.0218 13255812.9010 -0.0000 1.0000 -25980917.8935 25980913.8499\n",
       "Zipcode_960+     -3.1908 13221839.0896 -0.0000 1.0000 -25914331.6158 25914325.2342\n",
       "Family_1         -9.6161 10499961.6845 -0.0000 1.0000 -20579556.3569 20579537.1246\n",
       "Family_2        -10.0546 10507649.7723 -0.0000 1.0000 -20594625.1704 20594605.0613\n",
       "Family_3         -7.0546 10490140.6378 -0.0000 1.0000 -20560304.8975 20560290.7883\n",
       "Family_4         -7.9447 10519720.9754 -0.0000 1.0000 -20618282.1840 20618266.2946\n",
       "CCAvg_0-1K       13.7346      858.7675  0.0160 0.9872     -1669.4188     1696.8881\n",
       "CCAvg_1-2K       13.0720      858.7675  0.0152 0.9879     -1670.0814     1696.2255\n",
       "CCAvg_2-3K       14.0936      858.7675  0.0164 0.9869     -1669.0598     1697.2469\n",
       "CCAvg_3-4K       15.9582      858.7675  0.0186 0.9852     -1667.1952     1699.1116\n",
       "CCAvg_4-5K       15.6047      858.7675  0.0182 0.9855     -1667.5487     1698.7581\n",
       "CCAvg_5-8K       14.8586      858.7675  0.0173 0.9862     -1668.2948     1698.0120\n",
       "CCAvg_8K+        12.7938      858.7678  0.0149 0.9881     -1670.3603     1695.9478\n",
       "Education_1     -13.7833           nan     nan    nan            nan           nan\n",
       "Education_2      -9.8105           nan     nan    nan            nan           nan\n",
       "Education_3      -9.8409           nan     nan    nan            nan           nan\n",
       "HasMortgage      -2.5824        6.3556 -0.4063 0.6845       -15.0391        9.8744\n",
       "Mortgage_Log      0.6423        1.4248  0.4508 0.6521        -2.1503        3.4348\n",
       "Income_Log        8.5078        0.5670 15.0045 0.0000         7.3965        9.6192\n",
       "==================================================================================\n",
       "\n",
       "\"\"\""
      ]
     },
     "execution_count": 43,
     "metadata": {},
     "output_type": "execute_result"
    }
   ],
   "source": [
    "X_tr = sm.add_constant(X2_train)\n",
    "smlogit = sm.Logit(y2_train, X_tr)\n",
    "smlg = smlogit.fit(method='newton')\n",
    "# smlg = smlogit.fit(method='newton')\n",
    "smlg.summary2()"
   ]
  },
  {
   "cell_type": "markdown",
   "metadata": {},
   "source": [
    "#### Questions:\n",
    "\n",
    "1. Based on StatsModel P values, only 'Income', 'HaveCDAcct', 'HaveOnline' and  'HaveCC' have less that 0.05 value - In spite of what the co-efficients say in the Logit model, would only these 4 features have a real influence on the likelihood of customer accepting the loan??? \n",
    "2. Why are the P values NULL for Education?\n",
    "3. What does P value of 1.0 mean? Absolutely no influence?\n",
    "4. What does P value of 0 mean? High influence?\n",
    "5. Does Sklearn have another parameter like P value to indicate the influence of each of these features?"
   ]
  },
  {
   "cell_type": "code",
   "execution_count": 44,
   "metadata": {},
   "outputs": [
    {
     "data": {
      "image/png": "[encoded data removed]",
      "text/plain": [
       "<Figure size 432x288 with 1 Axes>"
      ]
     },
     "metadata": {},
     "output_type": "display_data"
    }
   ],
   "source": [
    "from sklearn.metrics import roc_auc_score\n",
    "from sklearn.metrics import roc_curve\n",
    "\n",
    "logit_roc_auc = roc_auc_score(y2_test, logit.predict(X2_test))\n",
    "fpr, tpr, thresholds = roc_curve(y2_test, logit.predict_proba(X2_test)[:,1])\n",
    "plt.figure()\n",
    "plt.plot(fpr, tpr, label='Logistic Regression (area = %0.2f)' % logit_roc_auc)\n",
    "plt.plot([0, 1], [0, 1],'r--')\n",
    "plt.xlim([0.0, 1.0])\n",
    "plt.ylim([0.0, 1.05])\n",
    "plt.xlabel('False Positive Rate')\n",
    "plt.ylabel('True Positive Rate')\n",
    "plt.title('Receiver operating characteristic')\n",
    "plt.legend(loc=\"lower right\")\n",
    "plt.savefig('Log_ROC')\n",
    "plt.show()"
   ]
  },
  {
   "cell_type": "code",
   "execution_count": null,
   "metadata": {},
   "outputs": [],
   "source": []
  }
 ],
 "metadata": {
  "kernelspec": {
   "display_name": "Python 3",
   "language": "python",
   "name": "python3"
  },
  "language_info": {
   "codemirror_mode": {
    "name": "ipython",
    "version": 3
   },
   "file_extension": ".py",
   "mimetype": "text/x-python",
   "name": "python",
   "nbconvert_exporter": "python",
   "pygments_lexer": "ipython3",
   "version": "3.7.3"
  }
 },
 "nbformat": 4,
 "nbformat_minor": 4
}
