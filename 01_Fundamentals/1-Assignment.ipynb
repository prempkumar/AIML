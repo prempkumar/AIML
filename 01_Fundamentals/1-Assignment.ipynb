{
 "cells": [
  {
   "cell_type": "code",
   "execution_count": 12,
   "metadata": {},
   "outputs": [
    {
     "data": {
      "text/html": [
       "<div>\n",
       "<style scoped>\n",
       "    .dataframe tbody tr th:only-of-type {\n",
       "        vertical-align: middle;\n",
       "    }\n",
       "\n",
       "    .dataframe tbody tr th {\n",
       "        vertical-align: top;\n",
       "    }\n",
       "\n",
       "    .dataframe thead th {\n",
       "        text-align: right;\n",
       "    }\n",
       "</style>\n",
       "<table border=\"1\" class=\"dataframe\">\n",
       "  <thead>\n",
       "    <tr style=\"text-align: right;\">\n",
       "      <th></th>\n",
       "      <th>set1</th>\n",
       "      <th>set2</th>\n",
       "    </tr>\n",
       "  </thead>\n",
       "  <tbody>\n",
       "    <tr>\n",
       "      <th>0</th>\n",
       "      <td>A</td>\n",
       "      <td>P</td>\n",
       "    </tr>\n",
       "    <tr>\n",
       "      <th>1</th>\n",
       "      <td>B</td>\n",
       "      <td>Q</td>\n",
       "    </tr>\n",
       "  </tbody>\n",
       "</table>\n",
       "</div>"
      ],
      "text/plain": [
       "  set1 set2\n",
       "0    A    P\n",
       "1    B    Q"
      ]
     },
     "execution_count": 12,
     "metadata": {},
     "output_type": "execute_result"
    }
   ],
   "source": [
    "import numpy as np\n",
    "import pandas as pd\n",
    "\n",
    "# score=[10,15,20,25]\n",
    "# pd.Series(data=score, index=['a','b','c','d'])\n",
    "\n",
    "# football = [12,34,55]\n",
    "# np.array(football)\n",
    "\n",
    "\n",
    "# data = {'prodID':['101','102','103','104','104'],\n",
    "#        'prodname':['X','Y','Z','X','W'],\n",
    "#        'profit':['2738','2727','3479','7347','3743']}\n",
    "# dataframe = pd.DataFrame(data)\n",
    "# grouped_data = dataframe.groupby('prodID')\n",
    "# # grouped_data.max()\n",
    "# # grouped_data.describe()\n",
    "\n",
    "# s1 = pd.Series(['a','b'])\n",
    "# s2 = pd.Series(['c','d'])\n",
    "# # pd.concat([s1,s2])\n",
    "\n",
    "# d = np.arange(0,10)\n",
    "# d\n",
    "# np.max(d)\n",
    "\n",
    "# d = np.array(([13,35,74,48],[23,37,37,38],[73,39,93,39]))\n",
    "# d[:,(1,2)]\n",
    "\n",
    "df = pd.DataFrame({'set1':['A','B']})\n",
    "df\n",
    "new = ['P','Q']\n",
    "df['set2'] = new\n",
    "df\n"
   ]
  }
 ],
 "metadata": {
  "kernelspec": {
   "display_name": "Python 3",
   "language": "python",
   "name": "python3"
  },
  "language_info": {
   "codemirror_mode": {
    "name": "ipython",
    "version": 3
   },
   "file_extension": ".py",
   "mimetype": "text/x-python",
   "name": "python",
   "nbconvert_exporter": "python",
   "pygments_lexer": "ipython3",
   "version": "3.7.3"
  }
 },
 "nbformat": 4,
 "nbformat_minor": 4
}
