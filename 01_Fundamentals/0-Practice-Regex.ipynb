{
 "cells": [
  {
   "cell_type": "markdown",
   "metadata": {},
   "source": [
    "### Regular Expression Practice Exercise"
   ]
  },
  {
   "cell_type": "markdown",
   "metadata": {},
   "source": [
    "This excersie will use `''.join()` function of python\n",
    "\n",
    "What join does is, it combines the elements of a list or tuple with a common separator\n",
    "\n",
    "To be able to use finditer, we need to pass a string. We use the join function to achieve that."
   ]
  },
  {
   "cell_type": "code",
   "execution_count": null,
   "metadata": {},
   "outputs": [],
   "source": [
    "# Example of join Functions\n",
    "a = ['This','Is','it','Also','Mine','Whatever']\n",
    "\n",
    "print(\"Joining element of 'a' using ' | ' as separator\")\n",
    "print(\" | \".join(a))\n",
    "print()\n",
    "print(\"Joining element of 'a' using ', ' as separator\")\n",
    "print(\", \".join(a))\n",
    "print()\n",
    "print(\"Joining element of 'a' without a separator\")\n",
    "print(\"\".join(a))\n",
    "print()\n",
    "print(\"Joining element of 'a' using '||' as separator\")\n",
    "print(\"||\".join(a))\n",
    "print()\n"
   ]
  },
  {
   "cell_type": "markdown",
   "metadata": {},
   "source": [
    "`It can be used for a column of a dataframe as well`"
   ]
  },
  {
   "cell_type": "markdown",
   "metadata": {},
   "source": [
    "#### Import the random email data file"
   ]
  },
  {
   "cell_type": "code",
   "execution_count": 1,
   "metadata": {},
   "outputs": [
    {
     "data": {
      "text/html": [
       "<div>\n",
       "<style scoped>\n",
       "    .dataframe tbody tr th:only-of-type {\n",
       "        vertical-align: middle;\n",
       "    }\n",
       "\n",
       "    .dataframe tbody tr th {\n",
       "        vertical-align: top;\n",
       "    }\n",
       "\n",
       "    .dataframe thead th {\n",
       "        text-align: right;\n",
       "    }\n",
       "</style>\n",
       "<table border=\"1\" class=\"dataframe\">\n",
       "  <thead>\n",
       "    <tr style=\"text-align: right;\">\n",
       "      <th></th>\n",
       "      <th>id</th>\n",
       "      <th>email</th>\n",
       "    </tr>\n",
       "  </thead>\n",
       "  <tbody>\n",
       "    <tr>\n",
       "      <th>0</th>\n",
       "      <td>138</td>\n",
       "      <td>mnmwuhasdwqweqw</td>\n",
       "    </tr>\n",
       "    <tr>\n",
       "      <th>1</th>\n",
       "      <td>141</td>\n",
       "      <td>cynvhupf@gamail.com</td>\n",
       "    </tr>\n",
       "    <tr>\n",
       "      <th>2</th>\n",
       "      <td>155</td>\n",
       "      <td>doznfpxy@gamail.com</td>\n",
       "    </tr>\n",
       "    <tr>\n",
       "      <th>3</th>\n",
       "      <td>156</td>\n",
       "      <td>ufpgolgelastqxaoi</td>\n",
       "    </tr>\n",
       "    <tr>\n",
       "      <th>4</th>\n",
       "      <td>160</td>\n",
       "      <td>rdvafvkummnuj@yahooo.com</td>\n",
       "    </tr>\n",
       "  </tbody>\n",
       "</table>\n",
       "</div>"
      ],
      "text/plain": [
       "    id                     email\n",
       "0  138           mnmwuhasdwqweqw\n",
       "1  141       cynvhupf@gamail.com\n",
       "2  155       doznfpxy@gamail.com\n",
       "3  156         ufpgolgelastqxaoi\n",
       "4  160  rdvafvkummnuj@yahooo.com"
      ]
     },
     "execution_count": 1,
     "metadata": {},
     "output_type": "execute_result"
    }
   ],
   "source": [
    "import pandas as pd\n",
    "import numpy as np\n",
    "\n",
    "import re\n",
    "\n",
    "df = pd.read_csv('RandomEmail.csv')\n",
    "df.dtypes\n",
    "df.shape\n",
    "df.rename(columns={'Id':'id','Email Address':'email'}, inplace=True)\n",
    "df.head()"
   ]
  },
  {
   "cell_type": "markdown",
   "metadata": {},
   "source": [
    "#### Display the Email ids"
   ]
  },
  {
   "cell_type": "code",
   "execution_count": 2,
   "metadata": {
    "scrolled": true
   },
   "outputs": [
    {
     "data": {
      "text/plain": [
       "1            cynvhupf@gamail.com\n",
       "2            doznfpxy@gamail.com\n",
       "4       rdvafvkummnuj@yahooo.com\n",
       "5        rvkwwlntnchl@yahooo.com\n",
       "6           hrgsyomuf@gamail.com\n",
       "7            spiltjsn@yahooo.com\n",
       "8          mtrhitjlqw@gamail.com\n",
       "9          oerdomqxcb@gamail.com\n",
       "12     gilmivlrwnfbss@yahooo.com\n",
       "13      anuaackiokhac@yahooo.com\n",
       "14         roclrzpyjf@gamail.com\n",
       "15           ahsjitbw@gamail.com\n",
       "17          natzhmxfx@gamail.com\n",
       "18           ungxqtzk@gamail.com\n",
       "19           fbdvsxmz@gamail.com\n",
       "20         dfhjmsfwzo@gamail.com\n",
       "21           fctkqhbr@yahooo.com\n",
       "22           rmykhpek@gamail.com\n",
       "23          bkrfsjbxa@gamail.com\n",
       "25         cetxcilthi@gamail.com\n",
       "26           fdwtktzb@gamail.com\n",
       "27         cigudlhqgo@yahooo.com\n",
       "29          yhgsbbuwi@gamail.com\n",
       "30          axnnkyzfw@gamail.com\n",
       "31         mfnuidsdkv@gamail.com\n",
       "32        kmqukhckbhk@yahooo.com\n",
       "34          sidhmibmc@gamail.com\n",
       "35         hajdffrjjt@gamail.com\n",
       "36         xpkgzqlonx@gamail.com\n",
       "37         vfbudpenpu@gamail.com\n",
       "                 ...            \n",
       "133         rfcgbxvpa@gamail.com\n",
       "134    dwqehbqgmhsrqv@yahooo.com\n",
       "136          jxdwlnmo@gamail.com\n",
       "137        zkpccwuyxg@gamail.com\n",
       "138      scrissrlgofe@yahooo.com\n",
       "139        dcvqqlgeds@gamail.com\n",
       "140          ztvuqejs@gamail.com\n",
       "141        vycrqymksj@gamail.com\n",
       "142        umivtwugly@gamail.com\n",
       "143        dfzlhbnqgn@gamail.com\n",
       "144        jzftqqmsgg@gamail.com\n",
       "146        wlugzyqlho@gamail.com\n",
       "148        gqjiromffb@gamail.com\n",
       "149       tingcagmlqe@yahooo.com\n",
       "150     dkhofbftkpelo@yahooo.com\n",
       "151         lzsfpjtao@gamail.com\n",
       "152        zebnwcxgyr@gamail.com\n",
       "153        bexgeucdsh@yahooo.com\n",
       "155       muxckttvbpl@yahooo.com\n",
       "156      ewjrfvifdmcj@yahooo.com\n",
       "158       bjbkdhrbpru@yahooo.com\n",
       "159          yjxvtmpu@gamail.com\n",
       "160        qplgeulsca@gamail.com\n",
       "161         gqlksquxy@gamail.com\n",
       "162        mryphjpzmy@gamail.com\n",
       "163         zibibnujl@gamail.com\n",
       "165          ptvqlffe@gamail.com\n",
       "166          lzcrsiuo@gamail.com\n",
       "167          iydthkxz@gamail.com\n",
       "169       mphibnuxgtr@yahooo.com\n",
       "Name: email, Length: 130, dtype: object"
      ]
     },
     "execution_count": 2,
     "metadata": {},
     "output_type": "execute_result"
    }
   ],
   "source": [
    "def isemail(str) :\n",
    "    m = re.search(r'[\\S]+\\@[a-zA-Z]+\\.[a-zA-Z]{2,3}',str)   \n",
    "    if m :\n",
    "        return True\n",
    "    else:\n",
    "        return False\n",
    "    \n",
    "df['isEmail'] = df.email.apply(isemail)\n",
    "\n",
    "df.email[df.isEmail]"
   ]
  },
  {
   "cell_type": "markdown",
   "metadata": {},
   "source": [
    "#### FInd the number of gamail email Ids (ending with @gamail.com)"
   ]
  },
  {
   "cell_type": "code",
   "execution_count": 3,
   "metadata": {},
   "outputs": [
    {
     "data": {
      "text/plain": [
       "1        cynvhupf@gamail.com\n",
       "2        doznfpxy@gamail.com\n",
       "6       hrgsyomuf@gamail.com\n",
       "8      mtrhitjlqw@gamail.com\n",
       "9      oerdomqxcb@gamail.com\n",
       "14     roclrzpyjf@gamail.com\n",
       "15       ahsjitbw@gamail.com\n",
       "17      natzhmxfx@gamail.com\n",
       "18       ungxqtzk@gamail.com\n",
       "19       fbdvsxmz@gamail.com\n",
       "20     dfhjmsfwzo@gamail.com\n",
       "22       rmykhpek@gamail.com\n",
       "23      bkrfsjbxa@gamail.com\n",
       "25     cetxcilthi@gamail.com\n",
       "26       fdwtktzb@gamail.com\n",
       "29      yhgsbbuwi@gamail.com\n",
       "30      axnnkyzfw@gamail.com\n",
       "31     mfnuidsdkv@gamail.com\n",
       "34      sidhmibmc@gamail.com\n",
       "35     hajdffrjjt@gamail.com\n",
       "36     xpkgzqlonx@gamail.com\n",
       "37     vfbudpenpu@gamail.com\n",
       "38      larmsherg@gamail.com\n",
       "39      chfbukyfq@gamail.com\n",
       "41     ufhkwbpawf@gamail.com\n",
       "42     immznovrvt@gamail.com\n",
       "43      uuvjkmvyz@gamail.com\n",
       "44     ikxzclcijp@gamail.com\n",
       "45      coxkbauib@gamail.com\n",
       "46     epuaniefyc@gamail.com\n",
       "               ...          \n",
       "111     endklheyf@gamail.com\n",
       "112     xaygsobmj@gamail.com\n",
       "113     hvadllcan@gamail.com\n",
       "116      sjchuisi@gamail.com\n",
       "120    knyxtuhiky@gamail.com\n",
       "122     cvayqkmvp@gamail.com\n",
       "124      wlkshtyo@gamail.com\n",
       "125    ciaswdupft@gamail.com\n",
       "131     dtphkuwur@gamail.com\n",
       "133     rfcgbxvpa@gamail.com\n",
       "136      jxdwlnmo@gamail.com\n",
       "137    zkpccwuyxg@gamail.com\n",
       "139    dcvqqlgeds@gamail.com\n",
       "140      ztvuqejs@gamail.com\n",
       "141    vycrqymksj@gamail.com\n",
       "142    umivtwugly@gamail.com\n",
       "143    dfzlhbnqgn@gamail.com\n",
       "144    jzftqqmsgg@gamail.com\n",
       "146    wlugzyqlho@gamail.com\n",
       "148    gqjiromffb@gamail.com\n",
       "151     lzsfpjtao@gamail.com\n",
       "152    zebnwcxgyr@gamail.com\n",
       "159      yjxvtmpu@gamail.com\n",
       "160    qplgeulsca@gamail.com\n",
       "161     gqlksquxy@gamail.com\n",
       "162    mryphjpzmy@gamail.com\n",
       "163     zibibnujl@gamail.com\n",
       "165      ptvqlffe@gamail.com\n",
       "166      lzcrsiuo@gamail.com\n",
       "167      iydthkxz@gamail.com\n",
       "Name: email, Length: 100, dtype: object"
      ]
     },
     "execution_count": 3,
     "metadata": {},
     "output_type": "execute_result"
    }
   ],
   "source": [
    "def emailacct(str) :\n",
    "    ga = re.search(r'[\\S]+(\\@gamail.com)',str)\n",
    "    ya = re.search(r'[\\S]+(\\@yahooo.com)',str)\n",
    "    if ga :\n",
    "#         print(m.group(0))\n",
    "        return 'gamail'\n",
    "    if ya :\n",
    "        return 'yahooo'\n",
    "    \n",
    "df['emailacct'] = df.email.apply(emailacct)\n",
    "df.email[df.emailacct == 'gamail']"
   ]
  },
  {
   "cell_type": "markdown",
   "metadata": {},
   "source": [
    "#### Find the number of yahooo email Ids (ending with @yahooo.com)"
   ]
  },
  {
   "cell_type": "code",
   "execution_count": null,
   "metadata": {},
   "outputs": [],
   "source": [
    "df.email[df.emailacct == 'yahooo']"
   ]
  },
  {
   "cell_type": "markdown",
   "metadata": {},
   "source": [
    "#### Find the number of entries that are not email ids (consider the entries that do not have a @ and a .com/.in/.org in them)"
   ]
  },
  {
   "cell_type": "code",
   "execution_count": null,
   "metadata": {},
   "outputs": [],
   "source": [
    "df.email[df.isEmail == False]"
   ]
  },
  {
   "cell_type": "markdown",
   "metadata": {},
   "source": [
    "#### find the total entries that have the pattern 'asd' in them"
   ]
  },
  {
   "cell_type": "code",
   "execution_count": null,
   "metadata": {},
   "outputs": [],
   "source": [
    "str = \" \".join(df.email)\n",
    "\n",
    "ptrn = re.compile(r'(asd)')\n",
    "mtchs = ptrn.findall(str)\n",
    "len(mtchs)"
   ]
  },
  {
   "cell_type": "markdown",
   "metadata": {},
   "source": [
    "#### find the number of email Ids that start with k"
   ]
  },
  {
   "cell_type": "code",
   "execution_count": 23,
   "metadata": {},
   "outputs": [
    {
     "name": "stdout",
     "output_type": "stream",
     "text": [
      "['kmqukhckbhk@yahooo.com', 'kjnjlcxwti@yahooo.com', 'kgbxxhcg@gamail.com', 'knyxtuhiky@gamail.com']\n"
     ]
    },
    {
     "data": {
      "text/plain": [
       "4"
      ]
     },
     "execution_count": 23,
     "metadata": {},
     "output_type": "execute_result"
    }
   ],
   "source": [
    "str = \" \".join(df.email[df.isEmail])\n",
    "ptrn = re.compile(r'\\bk\\w+\\@\\w+\\.\\w+\\b')\n",
    "mtchs = ptrn.findall(str)\n",
    "print(mtchs)\n",
    "len(mtchs)"
   ]
  }
 ],
 "metadata": {
  "kernelspec": {
   "display_name": "Python 3",
   "language": "python",
   "name": "python3"
  },
  "language_info": {
   "codemirror_mode": {
    "name": "ipython",
    "version": 3
   },
   "file_extension": ".py",
   "mimetype": "text/x-python",
   "name": "python",
   "nbconvert_exporter": "python",
   "pygments_lexer": "ipython3",
   "version": "3.7.3"
  }
 },
 "nbformat": 4,
 "nbformat_minor": 2
}
