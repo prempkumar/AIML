{
 "cells": [
  {
   "cell_type": "code",
   "execution_count": 1,
   "metadata": {},
   "outputs": [
    {
     "name": "stdout",
     "output_type": "stream",
     "text": [
      "[ 0  1  2  3  4  5  6  7  8  9 10 11 12 13 14] \n",
      "\n"
     ]
    }
   ],
   "source": [
    "import numpy as np\n",
    "from numpy.random import MT19937\n",
    "from numpy.random import RandomState, SeedSequence\n",
    "\n",
    "\n",
    "vec = np.arange(0,15)\n",
    "print(vec,\"\\n\")"
   ]
  },
  {
   "cell_type": "code",
   "execution_count": 2,
   "metadata": {},
   "outputs": [
    {
     "name": "stdout",
     "output_type": "stream",
     "text": [
      "[ 0  3  6  9 12 15 18 21 24] \n",
      "\n"
     ]
    }
   ],
   "source": [
    "# array range with 2nd parameter exclusive and steps  up by 3rd parameter\n",
    "vec1 = np.arange(0, 25, 3)\n",
    "print(vec1,\"\\n\")\n"
   ]
  },
  {
   "cell_type": "code",
   "execution_count": 3,
   "metadata": {},
   "outputs": [
    {
     "name": "stdout",
     "output_type": "stream",
     "text": [
      "[0.         0.40909091 0.81818182 1.22727273 1.63636364 2.04545455\n",
      " 2.45454545 2.86363636 3.27272727 3.68181818 4.09090909 4.5       ]\n"
     ]
    }
   ],
   "source": [
    "\n",
    "# Linear space, with first two parameters both inclusive and \n",
    "# that range is divided into equal parts denoted by 3rd parameter \n",
    "vec2 = np.linspace(0,4.5,12)\n",
    "print(vec2)\n"
   ]
  },
  {
   "cell_type": "code",
   "execution_count": 4,
   "metadata": {},
   "outputs": [
    {
     "name": "stdout",
     "output_type": "stream",
     "text": [
      "[[0.         0.40909091 0.81818182 1.22727273]\n",
      " [1.63636364 2.04545455 2.45454545 2.86363636]\n",
      " [3.27272727 3.68181818 4.09090909 4.5       ]]\n"
     ]
    }
   ],
   "source": [
    "# Resizes the array into a matrix\n",
    "mat1 = vec2.reshape(3,4)\n",
    "print(mat1)"
   ]
  },
  {
   "cell_type": "code",
   "execution_count": 6,
   "metadata": {},
   "outputs": [
    {
     "name": "stdout",
     "output_type": "stream",
     "text": [
      "[[1. 1. 1. 1.]\n",
      " [1. 1. 1. 1.]\n",
      " [1. 1. 1. 1.]]\n"
     ]
    }
   ],
   "source": [
    "\n",
    "mat2 = np.ones((3,4))\n",
    "print(mat2)\n"
   ]
  },
  {
   "cell_type": "code",
   "execution_count": 25,
   "metadata": {},
   "outputs": [
    {
     "name": "stdout",
     "output_type": "stream",
     "text": [
      "[[1. 1. 1. 1. 1.]]\n"
     ]
    }
   ],
   "source": [
    "\n",
    "mat3 = np.ones((1,5))\n",
    "print(mat3)\n"
   ]
  },
  {
   "cell_type": "code",
   "execution_count": 10,
   "metadata": {},
   "outputs": [
    {
     "name": "stdout",
     "output_type": "stream",
     "text": [
      "[[1. 1. 1.]\n",
      " [1. 1. 1.]\n",
      " [1. 1. 1.]\n",
      " [1. 1. 1.]]\n"
     ]
    }
   ],
   "source": [
    "# identity matrix\n",
    "mat4 = np.ones((4,3))\n",
    "print(mat4)\n"
   ]
  },
  {
   "cell_type": "code",
   "execution_count": 11,
   "metadata": {},
   "outputs": [
    {
     "name": "stdout",
     "output_type": "stream",
     "text": [
      "[[0.         0.40909091 0.81818182 1.22727273]\n",
      " [1.63636364 2.04545455 2.45454545 2.86363636]\n",
      " [3.27272727 3.68181818 4.09090909 4.5       ]]\n"
     ]
    }
   ],
   "source": [
    "\n",
    "print(mat1**mat2)\n",
    "\n"
   ]
  },
  {
   "cell_type": "code",
   "execution_count": 12,
   "metadata": {},
   "outputs": [
    {
     "name": "stdout",
     "output_type": "stream",
     "text": [
      "[[4.90909091 6.13636364 7.36363636 8.59090909]\n",
      " [4.90909091 6.13636364 7.36363636 8.59090909]\n",
      " [4.90909091 6.13636364 7.36363636 8.59090909]\n",
      " [4.90909091 6.13636364 7.36363636 8.59090909]] \n",
      "\n"
     ]
    }
   ],
   "source": [
    "mat_product = np.matmul(mat4,mat1)\n",
    "print (mat_product,\"\\n\")\n"
   ]
  },
  {
   "cell_type": "code",
   "execution_count": 13,
   "metadata": {},
   "outputs": [
    {
     "name": "stdout",
     "output_type": "stream",
     "text": [
      "[[0.76099716 0.48371562 0.51310333 0.02258362]\n",
      " [0.44053667 0.03442488 0.64402157 0.64113593]\n",
      " [0.81801508 0.10073687 0.39583816 0.77238807]] \n",
      "\n",
      "[[-0.31831943 -0.60811259 -0.57201539  1.03038454]\n",
      " [-0.87092758  0.77282786 -0.29330989  1.13503586]\n",
      " [-1.02938556 -0.49906171  2.70806264 -0.50088402]] \n",
      "\n",
      "0.4689580801333408 \n",
      "\n",
      "0.0795245604578089 \n",
      "\n",
      "0.2725599044825125 \n",
      "\n",
      "1.0570175158414434 \n",
      "\n",
      "0.818015078732271 \n",
      "\n",
      "2.7080626395245067 \n",
      "\n",
      "0.022583622598756348 \n",
      "\n",
      "-1.029385562518218 \n",
      "\n"
     ]
    }
   ],
   "source": [
    "\n",
    "# Need to investigate more on how linalg.solve works\n",
    "# print(np.linalg.solve(mat4, mat_product))\n",
    "\n",
    "# generates uniform random 3x4 matrix with values between 0 and 1 \n",
    "rmat1 = np.random.rand(3,4)\n",
    "print(rmat1,\"\\n\")\n",
    "\n",
    "# generates standard normal random 3x4 matrix with any fractional value \n",
    "rmat2 = np.random.randn(3,4)\n",
    "print(rmat2,\"\\n\")\n",
    "\n",
    "print(np.mean(rmat1),\"\\n\")\n",
    "print(np.mean(rmat2),\"\\n\")\n",
    "\n",
    "print(np.std(rmat1),\"\\n\")\n",
    "print(np.std(rmat2),\"\\n\")\n",
    "\n",
    "print(np.max(rmat1),\"\\n\")\n",
    "print(np.max(rmat2),\"\\n\")\n",
    "\n",
    "print(np.min(rmat1),\"\\n\")\n",
    "print(np.min(rmat2),\"\\n\")\n"
   ]
  },
  {
   "cell_type": "code",
   "execution_count": 14,
   "metadata": {},
   "outputs": [
    {
     "name": "stdout",
     "output_type": "stream",
     "text": [
      "[0.7195135  0.17643963 0.16383592 0.96984898 0.71361854 0.03843145\n",
      " 0.99682183 0.68232092 0.41940047 0.02582616 0.89567707 0.33646762\n",
      " 0.22190102 0.30620727 0.46743458] \n",
      "\n",
      "[0.7195135  0.17643963 0.16383592 0.96984898 0.71361854] \n",
      "\n",
      "[0.7195135  0.17643963 0.16383592 0.96984898 0.71361854] \n",
      "\n",
      "[0.96984898 0.71361854 0.03843145 0.99682183 0.68232092 0.41940047\n",
      " 0.02582616 0.89567707] \n",
      "\n",
      "[0.96984898 0.71361854 0.03843145 0.99682183 0.68232092 0.41940047\n",
      " 0.02582616 0.89567707] \n",
      "\n",
      "[ 0  3  6  9 12]\n",
      "[0.7195135  0.96984898 0.99682183 0.02582616 0.22190102] \n",
      "\n",
      "[[ 0.23823856  1.91051796  0.05837659 -0.69313231 -0.64989626]\n",
      " [ 1.32874515 -1.15697232 -0.98885347 -1.18894865  1.25826077]\n",
      " [-0.76911958 -0.60238673  0.78020625 -0.97244733  0.4456807 ]\n",
      " [ 0.27560372 -0.50552222  0.67122165 -0.2068596   0.54585032]\n",
      " [ 0.74770231 -0.36833329  0.30086338  0.84482791  1.17004732]\n",
      " [ 0.61361425 -1.49739457  0.40934112  1.27730527 -0.14564154]] \n",
      "\n",
      "[[ 0.05837659 -0.69313231]\n",
      " [-0.98885347 -1.18894865]\n",
      " [ 0.78020625 -0.97244733]] \n",
      "\n",
      "[[ 0.23823856  1.91051796  1.          1.         -0.64989626]\n",
      " [ 1.32874515 -1.15697232  1.          1.          1.25826077]\n",
      " [-0.76911958 -0.60238673  1.          1.          0.4456807 ]\n",
      " [ 0.27560372 -0.50552222  0.67122165 -0.2068596   0.54585032]\n",
      " [ 0.74770231 -0.36833329  0.30086338  0.84482791  1.17004732]\n",
      " [ 0.61361425 -1.49739457  0.40934112  1.27730527 -0.14564154]] \n",
      "\n",
      "[[False False  True  True False]\n",
      " [False False  True  True False]\n",
      " [False False  True  True False]\n",
      " [False False False False False]\n",
      " [False False False False False]\n",
      " [False False False False False]] \n",
      "\n",
      "[[ 0.23823856  1.91051796  0.5         0.5        -0.64989626]\n",
      " [ 1.32874515 -1.15697232  0.5         0.5         1.25826077]\n",
      " [-0.76911958 -0.60238673  0.5         0.5         0.4456807 ]\n",
      " [ 0.27560372 -0.50552222  0.67122165 -0.2068596   0.54585032]\n",
      " [ 0.74770231 -0.36833329  0.30086338  0.84482791  1.17004732]\n",
      " [ 0.61361425 -1.49739457  0.40934112  1.27730527 -0.14564154]] \n",
      "\n"
     ]
    }
   ],
   "source": [
    "\n",
    "rvec1 = np.random.rand(15)\n",
    "print(rvec1,\"\\n\")\n",
    "\n",
    "print(rvec1[0:5],\"\\n\")\n",
    "print(rvec1[np.arange(0,5)],\"\\n\")\n",
    "\n",
    "print(rvec1[3:11],\"\\n\")\n",
    "print(rvec1[np.arange(3,11)],\"\\n\")\n",
    "\n",
    "print(np.arange(0,15,3))\n",
    "print(rvec1[np.arange(0,15,3)],\"\\n\")\n",
    "\n",
    "rmat3 = np.random.randn(6,5)\n",
    "print(rmat3,\"\\n\")\n",
    "\n",
    "print(rmat3[0:3,2:4],\"\\n\")\n",
    "rmat3[0:3,2:4] = 1\n",
    "print(rmat3,\"\\n\")\n",
    "\n",
    "print(rmat3==1,\"\\n\")\n",
    "rmat3[rmat3==1] = 0.5\n",
    "print(rmat3,\"\\n\")\n",
    "\n"
   ]
  },
  {
   "cell_type": "code",
   "execution_count": 15,
   "metadata": {},
   "outputs": [
    {
     "name": "stdout",
     "output_type": "stream",
     "text": [
      "[[ 0.23823856 -0.25        0.5         0.5        -0.64989626]\n",
      " [-0.25       -1.15697232  0.5         0.5        -0.25      ]\n",
      " [-0.76911958 -0.60238673  0.5         0.5         0.4456807 ]\n",
      " [ 0.27560372 -0.50552222 -0.25       -0.2068596  -0.25      ]\n",
      " [-0.25       -0.36833329  0.30086338 -0.25       -0.25      ]\n",
      " [-0.25       -1.49739457  0.40934112 -0.25       -0.14564154]] \n",
      "\n",
      "[[0.5609664  0.14584399 0.57570966 ... 0.87665331 0.67635507 0.60770396]\n",
      " [0.77579299 0.92150334 0.13784073 ... 0.18752979 0.06821768 0.05154725]\n",
      " [0.84539205 0.36035844 0.13916713 ... 0.89844339 0.04665828 0.15592671]\n",
      " ...\n",
      " [0.76761948 0.69403402 0.30091839 ... 0.74816624 0.94856196 0.91373653]\n",
      " [0.30992272 0.574254   0.56257574 ... 0.83016806 0.53452852 0.17714111]\n",
      " [0.47251139 0.45485895 0.46053113 ... 0.19318133 0.16758679 0.94930581]] \n",
      "\n",
      "[[0.90740369 0.29696626 0.1685908  ... 0.90246598 0.83844047 0.89384702]\n",
      " [0.25534808 0.17155548 0.02763896 ... 0.96416176 0.31781438 0.43146591]\n",
      " [0.11721184 0.97606444 0.69118147 ... 0.64118091 0.02495032 0.47139382]\n",
      " ...\n",
      " [0.5344049  0.60227278 0.12338336 ... 0.67416831 0.94242383 0.02461594]\n",
      " [0.93362547 0.95254555 0.23850009 ... 0.68350365 0.76723926 0.48095462]\n",
      " [0.40649346 0.04479722 0.19631628 ... 0.24470101 0.32925453 0.13459503]] \n",
      "\n"
     ]
    }
   ],
   "source": [
    "# Need to find how to combine two or more logical operators in assigning values e.g. rmat3[0.5<= rmat3 <= 1.0] = 0.5\n",
    "rmat3[0.5<rmat3 ] = -0.25\n",
    "print(rmat3,\"\\n\")\n",
    "\n",
    "\n",
    "rs = np.random.RandomState(MT19937(SeedSequence(123)))\n",
    "rmat4 = np.random.rand(100,150)\n",
    "rmat5 = np.random.rand(125,100)\n",
    "\n",
    "print(rmat4,\"\\n\")\n",
    "print(rmat5,\"\\n\")\n"
   ]
  },
  {
   "cell_type": "code",
   "execution_count": 16,
   "metadata": {},
   "outputs": [
    {
     "name": "stdout",
     "output_type": "stream",
     "text": [
      "[[0.5609664  0.14584399 0.57570966 ... 0.87665331 0.67635507 0.60770396]\n",
      " [0.77579299 0.92150334 0.13784073 ... 0.18752979 0.06821768 0.05154725]\n",
      " [0.84539205 0.36035844 0.13916713 ... 0.89844339 0.04665828 0.15592671]\n",
      " ...\n",
      " [0.76761948 0.69403402 0.30091839 ... 0.74816624 0.94856196 0.91373653]\n",
      " [0.30992272 0.574254   0.56257574 ... 0.83016806 0.53452852 0.17714111]\n",
      " [0.47251139 0.45485895 0.46053113 ... 0.19318133 0.16758679 0.94930581]] \n",
      "\n",
      "<numpy.lib.npyio.NpzFile object at 0x0000029230A869E8> \n",
      "\n",
      "[[0.5609664  0.14584399 0.57570966 ... 0.87665331 0.67635507 0.60770396]\n",
      " [0.77579299 0.92150334 0.13784073 ... 0.18752979 0.06821768 0.05154725]\n",
      " [0.84539205 0.36035844 0.13916713 ... 0.89844339 0.04665828 0.15592671]\n",
      " ...\n",
      " [0.76761948 0.69403402 0.30091839 ... 0.74816624 0.94856196 0.91373653]\n",
      " [0.30992272 0.574254   0.56257574 ... 0.83016806 0.53452852 0.17714111]\n",
      " [0.47251139 0.45485895 0.46053113 ... 0.19318133 0.16758679 0.94930581]] \n",
      "\n",
      "[[0.90740369 0.29696626 0.1685908  ... 0.90246598 0.83844047 0.89384702]\n",
      " [0.25534808 0.17155548 0.02763896 ... 0.96416176 0.31781438 0.43146591]\n",
      " [0.11721184 0.97606444 0.69118147 ... 0.64118091 0.02495032 0.47139382]\n",
      " ...\n",
      " [0.5344049  0.60227278 0.12338336 ... 0.67416831 0.94242383 0.02461594]\n",
      " [0.93362547 0.95254555 0.23850009 ... 0.68350365 0.76723926 0.48095462]\n",
      " [0.40649346 0.04479722 0.19631628 ... 0.24470101 0.32925453 0.13459503]] \n",
      "\n"
     ]
    }
   ],
   "source": [
    "\n",
    "np.save(\"random_Array_File1\",rmat4)\n",
    "np.savez(\"random_Array_Filez\",rmat4_array_file=rmat4,rmat5_array_file=rmat5)\n",
    "\n",
    "ld_mat1 = np.load(\"random_Array_File1.npy\")\n",
    "print(ld_mat1,\"\\n\")\n",
    "ld_matzip = np.load(\"random_Array_Filez.npz\")\n",
    "print(ld_matzip,\"\\n\")\n",
    "ld_mat2 = ld_matzip['rmat4_array_file']\n",
    "print(ld_mat2,\"\\n\")\n",
    "ld_mat3 = ld_matzip['rmat5_array_file']\n",
    "print(ld_mat3,\"\\n\")\n"
   ]
  },
  {
   "cell_type": "code",
   "execution_count": 17,
   "metadata": {},
   "outputs": [
    {
     "name": "stdout",
     "output_type": "stream",
     "text": [
      "[[0.5609664  0.14584399 0.57570966 ... 0.87665331 0.67635507 0.60770396]\n",
      " [0.77579299 0.92150334 0.13784073 ... 0.18752979 0.06821768 0.05154725]\n",
      " [0.84539205 0.36035844 0.13916713 ... 0.89844339 0.04665828 0.15592671]\n",
      " ...\n",
      " [0.76761948 0.69403402 0.30091839 ... 0.74816624 0.94856196 0.91373653]\n",
      " [0.30992272 0.574254   0.56257574 ... 0.83016806 0.53452852 0.17714111]\n",
      " [0.47251139 0.45485895 0.46053113 ... 0.19318133 0.16758679 0.94930581]] \n",
      "\n"
     ]
    }
   ],
   "source": [
    "\n",
    "np.savetxt(\"random_Array_File1.csv\",rmat4,delimiter=',')\n",
    "\n",
    "ld_mat1 = np.loadtxt(\"random_Array_File1.csv\",delimiter=',')\n",
    "print(ld_mat1,\"\\n\")\n",
    "\n",
    "# Only numbers can be processed with NumPy\n",
    "# ld_drill_raw = np.loadtxt(\"drill.csv\",delimiter=\",\")\n",
    "# print(ld_drill_raw,\"\\n\")\n"
   ]
  },
  {
   "cell_type": "code",
   "execution_count": 23,
   "metadata": {},
   "outputs": [
    {
     "data": {
      "text/plain": [
       "array([1, 1, 1, 1], dtype=int8)"
      ]
     },
     "execution_count": 23,
     "metadata": {},
     "output_type": "execute_result"
    }
   ],
   "source": [
    "n = np.ones(4, dtype=np.int8)\n",
    "n"
   ]
  },
  {
   "cell_type": "code",
   "execution_count": null,
   "metadata": {},
   "outputs": [],
   "source": []
  }
 ],
 "metadata": {
  "kernelspec": {
   "display_name": "Python 3",
   "language": "python",
   "name": "python3"
  },
  "language_info": {
   "codemirror_mode": {
    "name": "ipython",
    "version": 3
   },
   "file_extension": ".py",
   "mimetype": "text/x-python",
   "name": "python",
   "nbconvert_exporter": "python",
   "pygments_lexer": "ipython3",
   "version": "3.7.3"
  }
 },
 "nbformat": 4,
 "nbformat_minor": 4
}
