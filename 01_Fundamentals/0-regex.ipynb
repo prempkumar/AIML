{
 "cells": [
  {
   "cell_type": "code",
   "execution_count": null,
   "metadata": {},
   "outputs": [],
   "source": [
    "'''\n",
    ".    - Any character except new line\n",
    "\\d   - Any numeral \n",
    "\\D   - Any non-numeral\n",
    "\\w   - Any word character (a-z, A-Z, 0-9 and _ )\n",
    "\\W   - Any non-word character\n",
    "\\s   - Whitespace (space, tab, newline)\n",
    "\\S   - Non white-space\n",
    "\n",
    "\\b   - Word boundary\n",
    "\\B   - Not a Word boundary\n",
    "^    - Beginning of a String\n",
    "$    - End of String\n",
    "\n",
    "[]   - Matches characters in brackets\n",
    "[^ ] - Matches characters NOT in brackets\n",
    "|    - Either or\n",
    "(  ) - Group\n",
    "\n",
    "*    - 0 or More\n",
    "+    - 1 or More\n",
    "?    - 0 or 1\n",
    "{3}  - Exact number\n",
    "{1,5}- Range of Numbers (Min, Max)\n",
    "'''"
   ]
  },
  {
   "cell_type": "code",
   "execution_count": 1,
   "metadata": {},
   "outputs": [],
   "source": [
    "import re\n",
    "\n",
    "srchTxt= '''abcdefghijklmnopqrstuvwxyz\n",
    "ABCDEFGHIJKLMNOPQRSTUVWXYZ\n",
    "1234567890\n",
    "ABC123abc123\n",
    "\n",
    "hello Hello HellohelloHello\n",
    "\n",
    ". ~ ! @ # $ % ^ & * ( ) { } [ ] - + / \\ | \" \" , ' ' _\n",
    "\n",
    "http://www.utexas.edu\n",
    "https://www.google.com\n",
    "IN.REDIFF.COM\n",
    "PRINT.KODAK.IO\n",
    "http://craigslist.com\n",
    "www.yahoo.co.uk\n",
    "\n",
    "\n",
    "123-456-7890\n",
    "123.456.7890\n",
    "\n",
    "abc-def@utexas.edu\n",
    "johndoe@epcindia.in\n",
    "_janedoe_@design.io\n",
    "\n",
    "Mr. John Smith\n",
    "Mr Smith\n",
    "Ms Davis\n",
    "Mrs. Robinson\n",
    "Mr.T'''"
   ]
  },
  {
   "cell_type": "code",
   "execution_count": null,
   "metadata": {},
   "outputs": [],
   "source": [
    "pattern = re.compile(r'abc')   # r is used to refer to 'raw' characters in the pattern\n",
    "matches = pattern.finditer(srchTxt)\n",
    "for m in matches:\n",
    "    print(m)"
   ]
  },
  {
   "cell_type": "code",
   "execution_count": null,
   "metadata": {},
   "outputs": [],
   "source": [
    "pattern = re.compile(r'\\.')   # '.' matches every character except a new line ''\\n', so we escape it with '\\'\n",
    "matches = pattern.finditer(srchTxt)\n",
    "for m in matches:\n",
    "    print(m)"
   ]
  },
  {
   "cell_type": "code",
   "execution_count": null,
   "metadata": {},
   "outputs": [],
   "source": [
    "pattern = re.compile(r'\\d')   # '\\d' matches numerals\n",
    "matches = pattern.finditer(srchTxt)\n",
    "for m in matches:\n",
    "    print(m)"
   ]
  },
  {
   "cell_type": "code",
   "execution_count": null,
   "metadata": {},
   "outputs": [],
   "source": [
    "pattern = re.compile(r'\\D')   # '\\D' matches non-numerals\n",
    "matches = pattern.finditer(srchTxt)\n",
    "for m in matches:\n",
    "    print(m)"
   ]
  },
  {
   "cell_type": "code",
   "execution_count": null,
   "metadata": {},
   "outputs": [],
   "source": [
    "pattern = re.compile(r'\\w')   # '\\w' matches a-z, A-Z, 0-9 and _\n",
    "matches = pattern.finditer(srchTxt)\n",
    "for m in matches:\n",
    "    print(m)"
   ]
  },
  {
   "cell_type": "markdown",
   "metadata": {},
   "source": []
  },
  {
   "cell_type": "code",
   "execution_count": null,
   "metadata": {},
   "outputs": [],
   "source": [
    "pattern = re.compile(r'\\w\\d')   # matches non-overlapping printable character followed by numeral\n",
    "matches = pattern.finditer(srchTxt)\n",
    "for m in matches:\n",
    "    print(m)"
   ]
  },
  {
   "cell_type": "code",
   "execution_count": null,
   "metadata": {},
   "outputs": [],
   "source": [
    "pattern = re.compile(r'\\d\\s')   # matches numeral followed by whitespace\n",
    "matches = pattern.finditer(srchTxt)\n",
    "for m in matches:\n",
    "    print(m)"
   ]
  },
  {
   "cell_type": "markdown",
   "metadata": {},
   "source": [
    "### Character sets"
   ]
  },
  {
   "cell_type": "code",
   "execution_count": null,
   "metadata": {},
   "outputs": [],
   "source": [
    "# \\b is used to the left and right of the pattern to match for a word\n",
    "# Word boundary is a new line, tab, space, . - etc.\n",
    "\n",
    "pattern = re.compile(r'\\bHello\\b')      \n",
    "matches = pattern.finditer(srchTxt)\n",
    "for m in matches:\n",
    "    print(m)"
   ]
  },
  {
   "cell_type": "code",
   "execution_count": null,
   "metadata": {},
   "outputs": [],
   "source": [
    "pattern = re.compile(r'\\d\\b')      \n",
    "matches = pattern.finditer(srchTxt)\n",
    "for m in matches:\n",
    "    print(m)"
   ]
  },
  {
   "cell_type": "code",
   "execution_count": null,
   "metadata": {},
   "outputs": [],
   "source": [
    "# \\B is used to the left and right of the pattern to match for a word embedded within a word\n",
    "\n",
    "pattern = re.compile(r'Hello\\B')      \n",
    "matches = pattern.finditer(srchTxt)\n",
    "for m in matches:\n",
    "    print(m)"
   ]
  },
  {
   "cell_type": "code",
   "execution_count": null,
   "metadata": {},
   "outputs": [],
   "source": [
    "# ^ is used to search for beginning of string - in the example above the srchTxt is 1 big string and searches for beginning of the string\n",
    "pattern = re.compile(r'^\\w')      \n",
    "matches = pattern.finditer(srchTxt)\n",
    "for m in matches:\n",
    "    print(m)"
   ]
  },
  {
   "cell_type": "code",
   "execution_count": null,
   "metadata": {},
   "outputs": [],
   "source": [
    "# $ is used to search for end of string - note to place the $ at the end of the regex\n",
    "pattern = re.compile(r'\\w$')      \n",
    "matches = pattern.finditer(srchTxt)\n",
    "for m in matches:\n",
    "    print(m)"
   ]
  },
  {
   "cell_type": "code",
   "execution_count": null,
   "metadata": {},
   "outputs": [],
   "source": [
    "pattern = re.compile(r'\\b[a-zA-Z]')      \n",
    "matches = pattern.finditer(srchTxt)\n",
    "for m in matches:\n",
    "    print(m)"
   ]
  },
  {
   "cell_type": "code",
   "execution_count": null,
   "metadata": {},
   "outputs": [],
   "source": [
    "pattern = re.compile(r'\\b[a-zA-Z0-9-]')      \n",
    "matches = pattern.finditer(srchTxt)\n",
    "for m in matches:\n",
    "    print(m)"
   ]
  },
  {
   "cell_type": "code",
   "execution_count": null,
   "metadata": {},
   "outputs": [],
   "source": [
    "pattern = re.compile(r'[a-z][^A-Z0-9]')      \n",
    "matches = pattern.finditer(srchTxt)\n",
    "for m in matches:\n",
    "    print(m)"
   ]
  },
  {
   "cell_type": "markdown",
   "metadata": {},
   "source": [
    "### Character Groups"
   ]
  },
  {
   "cell_type": "code",
   "execution_count": null,
   "metadata": {},
   "outputs": [],
   "source": [
    "# anything within () is a char group that is searched together, using | for logical OR\n",
    "pattern = re.compile(r'(abc|Hello)')      \n",
    "matches = pattern.finditer(srchTxt)\n",
    "for m in matches:\n",
    "    print(m)"
   ]
  },
  {
   "cell_type": "code",
   "execution_count": null,
   "metadata": {},
   "outputs": [],
   "source": [
    "pattern = re.compile(r'\\b[hH]ello\\b')      \n",
    "matches = pattern.finditer(srchTxt)\n",
    "for m in matches:\n",
    "    print(m)"
   ]
  },
  {
   "cell_type": "markdown",
   "metadata": {},
   "source": [
    "### Quantifiers"
   ]
  },
  {
   "cell_type": "code",
   "execution_count": null,
   "metadata": {},
   "outputs": [],
   "source": [
    "pattern = re.compile(r'[a-z]+')      \n",
    "matches = pattern.finditer(srchTxt)\n",
    "for m in matches:\n",
    "    print(m)"
   ]
  },
  {
   "cell_type": "code",
   "execution_count": null,
   "metadata": {},
   "outputs": [],
   "source": [
    "pattern = re.compile(r'Mr\\.?\\s?[A-Z][a-z]*')      \n",
    "matches = pattern.finditer(srchTxt)\n",
    "for m in matches:\n",
    "    print(m)"
   ]
  },
  {
   "cell_type": "code",
   "execution_count": null,
   "metadata": {},
   "outputs": [],
   "source": [
    "pattern = re.compile(r'[a-zA-Z]+\\.[a-zA-Z]+\\.[a-zA-Z]{2,3}')      \n",
    "matches = pattern.finditer(srchTxt)\n",
    "for m in matches:\n",
    "    print(m)"
   ]
  },
  {
   "cell_type": "code",
   "execution_count": null,
   "metadata": {},
   "outputs": [],
   "source": [
    "pattern = re.compile(r'[\\S]+\\@[a-zA-Z]+\\.[a-zA-Z]{2,3}')      \n",
    "matches = pattern.finditer(srchTxt)\n",
    "for m in matches:\n",
    "    print(m)"
   ]
  },
  {
   "cell_type": "markdown",
   "metadata": {},
   "source": [
    "### Accessing info in Match object"
   ]
  },
  {
   "cell_type": "code",
   "execution_count": 17,
   "metadata": {},
   "outputs": [],
   "source": [
    "pattern = re.compile(r'([\\S@])(\\w)(.a-zA-Z)([a-zA-Z]{2})?')\n",
    "# pattern = re.compile(r'[\\S]+\\@[a-zA-Z]+\\.[a-zA-Z]{2,3}')      \n",
    "matches = pattern.finditer(srchTxt)\n",
    "for m in matches:\n",
    "    print('Span : ', m.span(0))\n",
    "    print('Group : ',m.group(0))\n",
    "    print(srchTxt[m.span(0)[0]:m.span(0)[1]],\"\\n\")\n",
    "    "
   ]
  },
  {
   "cell_type": "code",
   "execution_count": 4,
   "metadata": {},
   "outputs": [
    {
     "name": "stdout",
     "output_type": "stream",
     "text": [
      "<re.Match object; span=(163, 184), match='http://www.utexas.edu'>\n",
      "<re.Match object; span=(185, 207), match='https://www.google.com'>\n",
      "<re.Match object; span=(208, 221), match='IN.REDIFF.COM'>\n",
      "<re.Match object; span=(222, 236), match='PRINT.KODAK.IO'>\n",
      "<re.Match object; span=(237, 258), match='http://craigslist.com'>\n",
      "<re.Match object; span=(259, 274), match='www.yahoo.co.uk'>\n"
     ]
    }
   ],
   "source": [
    "pattern = re.compile(r'((https?://)?[a-zA-Z]+\\.[a-zA-Z]+\\.[a-zA-Z]{2,3}(.[a-zA-Z]{2})?)|(https?://([a-zA-Z]+\\.)?[a-zA-Z]+\\.[a-zA-Z]{2,3}(.[a-zA-Z]{2})?)')      \n",
    "matches = pattern.finditer(srchTxt)\n",
    "for m in matches:\n",
    "    print(m)\n"
   ]
  },
  {
   "cell_type": "code",
   "execution_count": 9,
   "metadata": {},
   "outputs": [
    {
     "name": "stdout",
     "output_type": "stream",
     "text": [
      "www.google.com\n",
      "None   www.   google.   com   None\n",
      "http://in.rediff.com\n",
      "http://   in.   rediff.   com   None\n",
      "PRINT.KODAK.IO\n",
      "None   PRINT.   KODAK.   IO   None\n",
      "https://BIQ.DESIGN.IO\n",
      "https://   BIQ.   DESIGN.   IO   None\n",
      "www.yahoo.co.uk\n",
      "None   www.   yahoo.   co   .uk\n",
      "http://cmcell.tn.gov.in\n",
      "http://   cmcell.   tn.   gov   .in\n"
     ]
    }
   ],
   "source": [
    "srchTxt1='''\n",
    "www.google.com\n",
    "http://in.rediff.com\n",
    "PRINT.KODAK.IO\n",
    "https://BIQ.DESIGN.IO\n",
    "www.yahoo.co.uk\n",
    "http://cmcell.tn.gov.in\n",
    "'''\n",
    "pattern = re.compile(r'(https?://)?([a-zA-Z]+\\.)([a-zA-Z]+\\.)([a-zA-Z]{2,3})(.[a-zA-Z]{2})?')      \n",
    "matches = pattern.finditer(srchTxt1)\n",
    "for m in matches:\n",
    "    print(m.group(0))\n",
    "    print(m.group(1),\" \",m.group(2),\" \",m.group(3),\" \",m.group(4),\" \",m.group(5))"
   ]
  },
  {
   "cell_type": "code",
   "execution_count": 2,
   "metadata": {},
   "outputs": [
    {
     "name": "stdout",
     "output_type": "stream",
     "text": [
      "L122323A\n",
      "L123123C\n",
      "S34553a\n",
      "S12321312s\n",
      "L123123123-a\n",
      "S123123_b\n"
     ]
    }
   ],
   "source": [
    "sr = ['L122323A','L123123C','S34553a','S12321312s','L123123123-a','S123123_b']\n",
    "sr1 = []\n",
    "sr2 = []\n",
    "\n",
    "def\n",
    "for s in sr:\n",
    "    print(s)\n",
    "    \n",
    "#     sr1.push()"
   ]
  }
 ],
 "metadata": {
  "kernelspec": {
   "display_name": "Python 3",
   "language": "python",
   "name": "python3"
  },
  "language_info": {
   "codemirror_mode": {
    "name": "ipython",
    "version": 3
   },
   "file_extension": ".py",
   "mimetype": "text/x-python",
   "name": "python",
   "nbconvert_exporter": "python",
   "pygments_lexer": "ipython3",
   "version": "3.7.3"
  }
 },
 "nbformat": 4,
 "nbformat_minor": 4
}
