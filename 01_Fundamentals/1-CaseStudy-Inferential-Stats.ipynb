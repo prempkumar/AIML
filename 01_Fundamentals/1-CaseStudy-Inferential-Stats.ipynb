{
 "cells": [
  {
   "cell_type": "markdown",
   "metadata": {},
   "source": [
    "# Statistical Learning Week 2 hands on exercises\n"
   ]
  },
  {
   "cell_type": "markdown",
   "metadata": {},
   "source": [
    "# Question 1"
   ]
  },
  {
   "cell_type": "code",
   "execution_count": 38,
   "metadata": {},
   "outputs": [],
   "source": [
    "import numpy as np\n",
    "import scipy.stats as st\n",
    "import matplotlib.pyplot as plt\n",
    "%matplotlib inline\n"
   ]
  },
  {
   "cell_type": "markdown",
   "metadata": {},
   "source": [
    "|Planned to purchase Apple iPhone Xs Max| Actually placed an order for Apple iPhone Xs Max- Yes| Actually placed an order for Apple iPhone Xs Max - No|Total|\n",
    "|--|--|--|--|\n",
    "|Yes|400|100|500|\n",
    "|No|200|1300|1500|\n",
    "|Total|600|1400|2000|\n",
    "\n",
    "1. Calculate the joint probability of the people who planned to purchase and actually placed an order."
   ]
  },
  {
   "cell_type": "markdown",
   "metadata": {},
   "source": [
    "Joint probability = $ A \\cap B $\n",
    "where\n",
    "- A is the event of people planning to purchase\n",
    "- B is the event of people ordering"
   ]
  },
  {
   "cell_type": "code",
   "execution_count": 5,
   "metadata": {},
   "outputs": [
    {
     "name": "stdout",
     "output_type": "stream",
     "text": [
      "Joint probability is :  20.00%\n"
     ]
    }
   ],
   "source": [
    "AB = 400/2000\n",
    "print(\"Joint probability is : \",\"{:.2%}\".format(AB))"
   ]
  },
  {
   "cell_type": "markdown",
   "metadata": {},
   "source": [
    "# Conditional Probability refers to the probability of event A, given information about the occurrence of another event B"
   ]
  },
  {
   "cell_type": "markdown",
   "metadata": {},
   "source": [
    "# Probability of A given B is written as P(A | B)."
   ]
  },
  {
   "cell_type": "markdown",
   "metadata": {},
   "source": [
    "Probability of A given B is written as P(A | B).\n",
    "\n",
    "$P(A\\mid B) = \\frac{P(A \\quad and \\quad B)}{P(B)}$\n",
    "\n",
    "where P(A and B) = Joint probability of A and B\n",
    "*     P(A)       = Marginal probability of A\n",
    "*     P(B)       = Marginal probability of B"
   ]
  },
  {
   "cell_type": "markdown",
   "metadata": {},
   "source": [
    "# Question 2"
   ]
  },
  {
   "cell_type": "markdown",
   "metadata": {},
   "source": [
    "Use the purchase of Apple iPhone Xs Max table.\n",
    "\n",
    "Find the joint probability of the people who planned to purchase and actually placed an order, given that people planned to \n",
    "purchase."
   ]
  },
  {
   "cell_type": "markdown",
   "metadata": {},
   "source": [
    "Assuming,\n",
    "- A is the event of people planning to purchase\n",
    "- B is the event of people ordering\n",
    "\n",
    "Joint probability P(J) of the people who planned to purchase and actually placed an order is $$ P(J) =  A \\cap B $$\n",
    "\n",
    "Joint probability of the people who planned to purchase and actually placed an order, given that people planned to purchase is defined as, $$ P(J|B) = \\frac{P(J) \\cap P(B)}{P(B)} = \\frac{P(A)\\cap P(B)}{P(B)} $$ \n",
    "\n"
   ]
  },
  {
   "cell_type": "code",
   "execution_count": 8,
   "metadata": {},
   "outputs": [
    {
     "name": "stdout",
     "output_type": "stream",
     "text": [
      "Joint probability, given that people planned to purchase is :  80.00%\n"
     ]
    }
   ],
   "source": [
    "PAB = 400/2000\n",
    "PB = 500/2000\n",
    "PJB = PAB/PB\n",
    "print(\"Joint probability, given that people planned to purchase is : \",\"{:.2%}\".format(PJB))"
   ]
  },
  {
   "cell_type": "markdown",
   "metadata": {},
   "source": [
    "# Binomial Distribution"
   ]
  },
  {
   "cell_type": "markdown",
   "metadata": {},
   "source": [
    "It is widely used probability distribution of a discrete random variable. \n",
    "\n",
    "Plays major role in quality control and quality assurance function. "
   ]
  },
  {
   "cell_type": "markdown",
   "metadata": {},
   "source": [
    "$P(X = x\\mid n,\\pi)$ = $\\frac{n!}{x!(n - x)!}\\pi^x (1 - \\pi)^{n-x} $\n",
    "* where P(X = x) is the probability of getting x successes in n trials\n",
    "and $\\pi$ is the probability of an event of interest"
   ]
  },
  {
   "cell_type": "markdown",
   "metadata": {},
   "source": [
    "Some important functions in Python for Binomial distribution:\n",
    "    \n",
    "1) Probability mass function\n",
    "scipy.stats.binom.pmf gives the probability mass function for the binomial distribution\n",
    "binomial = scipy.stats.binom.pmf (k,n,p), \n",
    "where k is an array and takes values in {0, 1,..., n}\n",
    "n and p are shape parameters for the binomial distribution\n",
    "The output, binomial, gives probability of binomial distribution function in terms of array.\n",
    "\n",
    "2) Cumulative Density function\n",
    "cumbinomial = scipy.stats.binom.cdf(k,n,p) gives cumulative binomial distribution.\n",
    "The output, cumbinomial, gives cumulative probability of binomial distribution function in terms of array.\n",
    "\n",
    "3) Plot the binomial Density function\n",
    "The function, matplotlib.pyplot.plot(k, binomial, ‘o-’) gives us plot of the binomial distribution function."
   ]
  },
  {
   "cell_type": "markdown",
   "metadata": {},
   "source": [
    "# Question 3"
   ]
  },
  {
   "cell_type": "markdown",
   "metadata": {},
   "source": [
    "A LED bulb manufacturing company regularly conducts quality checks at specified periods on the products it manufactures. \n",
    "Historically, the failure rate for LED light bulbs that the company manufactures is 5%. Suppose a random sample of 10 LED light \n",
    "bulbs is selected. What is the probability that \n",
    "\n",
    "a) None of the LED bulbs are defective?\n",
    "\n",
    "b) Exactly one of the LED bulbs is defective?\n",
    "\n",
    "c) Two or fewer of the LED bulbs are defective?\n",
    "\n",
    "d) Three or more of the LED bulbs are defective"
   ]
  },
  {
   "cell_type": "code",
   "execution_count": 18,
   "metadata": {},
   "outputs": [
    {
     "data": {
      "text/plain": [
       "<function matplotlib.pyplot.show(*args, **kw)>"
      ]
     },
     "execution_count": 18,
     "metadata": {},
     "output_type": "execute_result"
    },
    {
     "data": {
      "image/png": "[encoded data removed]",
      "text/plain": [
       "<Figure size 432x288 with 1 Axes>"
      ]
     },
     "metadata": {
      "needs_background": "light"
     },
     "output_type": "display_data"
    }
   ],
   "source": [
    "p=0.05\n",
    "n=10\n",
    "\n",
    "ss = np.arange(0,11)\n",
    "bd = st.binom.pmf(ss,n,p)\n",
    "\n",
    "plt.plot(ss,bd, \"o-\")\n",
    "plt.xlabel(\"Light bulb count\")\n",
    "plt.ylabel(\"Probability of failure\")\n",
    "plt.show"
   ]
  },
  {
   "cell_type": "code",
   "execution_count": 19,
   "metadata": {},
   "outputs": [
    {
     "name": "stdout",
     "output_type": "stream",
     "text": [
      "a) Probability None of the LED bulbs are defective is :  59.87%\n"
     ]
    }
   ],
   "source": [
    "print(\"a) Probability None of the LED bulbs are defective is : \",\"{:.2%}\".format(bd[0]))"
   ]
  },
  {
   "cell_type": "code",
   "execution_count": 22,
   "metadata": {},
   "outputs": [
    {
     "name": "stdout",
     "output_type": "stream",
     "text": [
      "b) Probability Exactly one of the LED bulbs is defective is :  31.51%\n"
     ]
    }
   ],
   "source": [
    "print(\"b) Probability Exactly one of the LED bulbs is defective is : \",\"{:.2%}\".format(bd[1]))"
   ]
  },
  {
   "cell_type": "code",
   "execution_count": 23,
   "metadata": {},
   "outputs": [
    {
     "name": "stdout",
     "output_type": "stream",
     "text": [
      "c) Probability Two or fewer of the LED bulbs are defective is :  98.85%\n"
     ]
    }
   ],
   "source": [
    "print(\"c) Probability Two or fewer of the LED bulbs are defective is : \",\"{:.2%}\".format(bd[0]+bd[1]+bd[2]))"
   ]
  },
  {
   "cell_type": "code",
   "execution_count": 24,
   "metadata": {},
   "outputs": [
    {
     "name": "stdout",
     "output_type": "stream",
     "text": [
      "d) Probability Three or more of the LED bulbs are defective is :  1.15%\n"
     ]
    }
   ],
   "source": [
    "print(\"d) Probability Three or more of the LED bulbs are defective is : \",\"{:.2%}\".format(1-(bd[0]+bd[1]+bd[2])))"
   ]
  },
  {
   "cell_type": "markdown",
   "metadata": {},
   "source": [
    "Or we can use Cumulative distribution function \"st.binom.cdf(k,n,p)\" when the question is for <= or >="
   ]
  },
  {
   "cell_type": "code",
   "execution_count": 27,
   "metadata": {},
   "outputs": [
    {
     "name": "stdout",
     "output_type": "stream",
     "text": [
      "c) Probability Two or fewer of the LED bulbs are defective is :  98.85%\n",
      "d) Probability Three or more of the LED bulbs are defective is :  1.15%\n"
     ]
    }
   ],
   "source": [
    "cbd = st.binom.cdf(ss,n,p)\n",
    "print(\"c) Probability Two or fewer of the LED bulbs are defective is : \",\"{:.2%}\".format(cbd[2]))\n",
    "print(\"d) Probability Three or more of the LED bulbs are defective is : \",\"{:.2%}\".format(1-cbd[2]))"
   ]
  },
  {
   "cell_type": "markdown",
   "metadata": {},
   "source": [
    "# Poisson Distribution"
   ]
  },
  {
   "cell_type": "markdown",
   "metadata": {},
   "source": [
    "This discrete distribution which also plays a major role in quality control. \n",
    "\n",
    "The Poisson distribution is a discrete probability distribution for the counts of events that occur randomly in a given \n",
    "interval of time or space. In such areas of opportunity, there can be more than one occurrence. In such situations, Poisson \n",
    "distribution can be used to compute probabilities.\n",
    "\n",
    "Examples include number of defects per item, number of defects per transformer produced. \n",
    "Notes: Poisson Distribution helps to predict the arrival rate in a waiting line situation where a queue is formed and people \n",
    "wait to be served and the service rate is generally higher than the arrival rate."
   ]
  },
  {
   "cell_type": "markdown",
   "metadata": {},
   "source": [
    "# Properties:\n",
    "\n",
    "Mean μ = λ\n",
    "\n",
    "Standard deviation σ = √ μ\n",
    "\n",
    "The Poisson distribution is the limit of binomial distribution as n approaches ∞and p approaches 0"
   ]
  },
  {
   "cell_type": "markdown",
   "metadata": {},
   "source": [
    "P(X = x) = $\\frac{e^\\lambda \\lambda^x}{x!} $\n",
    "where \n",
    "* P(x)              = Probability of x successes given an idea of  $\\lambda$\n",
    "* $\\lambda$ = Average number of successes\n",
    "* e                   = 2.71828 (based on natural logarithm)\n",
    "* x                    = successes per unit which can take values 0,1,2,3,... $\\infty$"
   ]
  },
  {
   "cell_type": "markdown",
   "metadata": {},
   "source": [
    "Applications\n",
    "\n",
    "Car Accidents\n",
    "\n",
    "Number of deaths by horse kicking in Prussian Army (first application)\n",
    "\n",
    "Birth defects and genetic mutation\n",
    "\n",
    "Note\n",
    "\n",
    "If there is a fixed number of observations, n, each of which is classified as an event of interest or not an event of interest,\n",
    "use the binomial distribution.\n",
    "\n",
    "If there is an area of opportunity, use the Poisson distribution."
   ]
  },
  {
   "cell_type": "markdown",
   "metadata": {},
   "source": [
    "# Question 4"
   ]
  },
  {
   "cell_type": "markdown",
   "metadata": {},
   "source": [
    "A Life Insurance agent sells on the average 3 life insurance policies per week. Use the Poisson law to calculate the \n",
    "probability that in a given week, he will sell a. Some policies b. 2 or more but less than 5 policies?"
   ]
  },
  {
   "cell_type": "markdown",
   "metadata": {},
   "source": [
    "$ \\lambda = 3 $"
   ]
  },
  {
   "cell_type": "code",
   "execution_count": 9,
   "metadata": {},
   "outputs": [
    {
     "data": {
      "text/plain": [
       "array([4.97870684e-02, 1.49361205e-01, 2.24041808e-01, 2.24041808e-01,\n",
       "       1.68031356e-01, 1.00818813e-01, 5.04094067e-02, 2.16040315e-02,\n",
       "       8.10151179e-03, 2.70050393e-03, 8.10151179e-04, 2.20950322e-04,\n",
       "       5.52375804e-05, 1.27471339e-05, 2.73152870e-06, 5.46305740e-07,\n",
       "       1.02432326e-07, 1.80762929e-08, 3.01271548e-09, 4.75691918e-10])"
      ]
     },
     "execution_count": 9,
     "metadata": {},
     "output_type": "execute_result"
    }
   ],
   "source": [
    "mu=3\n",
    "n=20\n",
    "ss = np.arange(0,n)\n",
    "\n",
    "pd = st.poisson.pmf(ss,mu)\n",
    "pd\n",
    "\n"
   ]
  },
  {
   "cell_type": "markdown",
   "metadata": {},
   "source": [
    "a. Agent sells some Policies"
   ]
  },
  {
   "cell_type": "code",
   "execution_count": 10,
   "metadata": {},
   "outputs": [
    {
     "name": "stdout",
     "output_type": "stream",
     "text": [
      "a) Probability agent sells some policies is :  80.085%\n"
     ]
    }
   ],
   "source": [
    "print(\"a) Probability agent sells some policies is : \",\"{:.3%}\".format(1 - pd[0] - pd[1]))"
   ]
  },
  {
   "cell_type": "markdown",
   "metadata": {},
   "source": [
    "b. Agent sells 2 or more but less than 5 policies "
   ]
  },
  {
   "cell_type": "code",
   "execution_count": 11,
   "metadata": {},
   "outputs": [
    {
     "name": "stdout",
     "output_type": "stream",
     "text": [
      "b) Probability agent sells 2 or more but less than 5 policies is :  61.611%\n"
     ]
    }
   ],
   "source": [
    "print(\"b) Probability agent sells 2 or more but less than 5 policies is : \",\"{:.3%}\".format(pd[2]+pd[3]+pd[4]))"
   ]
  },
  {
   "cell_type": "markdown",
   "metadata": {},
   "source": [
    "# Plot a poisson distribution function"
   ]
  },
  {
   "cell_type": "code",
   "execution_count": 22,
   "metadata": {},
   "outputs": [
    {
     "data": {
      "image/png": "[encoded data removed]",
      "text/plain": [
       "<Figure size 432x288 with 1 Axes>"
      ]
     },
     "metadata": {
      "needs_background": "light"
     },
     "output_type": "display_data"
    }
   ],
   "source": [
    "plt.plot(ss,pd,'o-');"
   ]
  },
  {
   "cell_type": "markdown",
   "metadata": {},
   "source": [
    "# Question 5"
   ]
  },
  {
   "cell_type": "markdown",
   "metadata": {},
   "source": [
    "Computing Binomial probabilities for service at a Fast-Food Restaurant"
   ]
  },
  {
   "cell_type": "markdown",
   "metadata": {},
   "source": [
    "# Context:\n",
    "\n",
    "Accuracy in taking orders at a drive -through window is important for fast- food chains.Periodically, QSR Magazine publishes \"The Drive- thru Performance Study: Order accuracy\" that measures the percentage of orders that ar3 filled correctly. In a recent month, the percentage of orders filled correctly at Wendy's was approximately 86.8%. Suppose that you go to drive-through window at Wendy's and place an order. Two friends of yours independently place orders at the drive-through window at the same Wendy's."
   ]
  },
  {
   "cell_type": "markdown",
   "metadata": {},
   "source": [
    "# What are the probabilities that all three that none of the three, and that atleast two of the three orders will be filled correctly?"
   ]
  },
  {
   "cell_type": "code",
   "execution_count": 25,
   "metadata": {},
   "outputs": [
    {
     "name": "stdout",
     "output_type": "stream",
     "text": [
      "Probability all three filled correctly is :  65.40%\n",
      "Probability none filled correctly is :  0.23%\n",
      "Probability at lease two orders filled correctly is :  95.23%\n"
     ]
    }
   ],
   "source": [
    "p=0.868\n",
    "n=3\n",
    "\n",
    "ss=np.arange(0,4)\n",
    "bd = st.binom.pmf(ss,n,p)\n",
    "\n",
    "print(\"Probability all three filled correctly is : \",\"{:.2%}\".format(bd[3]))\n",
    "print(\"Probability none filled correctly is : \",\"{:.2%}\".format(bd[0]))\n",
    "print(\"Probability at lease two orders filled correctly is : \",\"{:.2%}\".format(bd[3]+bd[2]))\n"
   ]
  },
  {
   "cell_type": "markdown",
   "metadata": {},
   "source": []
  },
  {
   "cell_type": "markdown",
   "metadata": {},
   "source": [
    "## Question 6: Business Statistics Course"
   ]
  },
  {
   "cell_type": "markdown",
   "metadata": {},
   "source": [
    "# Objectives: Calculate probabilities based on Poisson and Normal distribution"
   ]
  },
  {
   "cell_type": "markdown",
   "metadata": {},
   "source": [
    "# Context: \n",
    "At the Conclusion of a course in business statistics, a group of management students sat for a written examination. The results \n",
    "throw up the following information."
   ]
  },
  {
   "cell_type": "markdown",
   "metadata": {},
   "source": [
    "Marks obtained have a mean of 60 and a standard deviation of 12. There were 300 students who wrote the exam. \n",
    "The pattern of marks follows a normal distribution \n",
    "a) what is the percentage of students who score more than 80\n",
    "b) What is the percentage of students who score less than 50\n",
    "c) What should be the distinction mark if the highest 10% of students are to be awarded distinction?\n",
    "Graphical method can be used for convenience."
   ]
  },
  {
   "cell_type": "markdown",
   "metadata": {},
   "source": [
    "a) Lets use the ztable that gives the area between 0 and positive z.\n",
    "Z = (x - µ)/σ \n",
    "(80 -60)/12 =1.67 \n",
    "proportions of students who score more than 1.67 = 0.5 - proportion scoring between 0 and 1.67 = 0.5 - 0.4525 = 0.0475\n",
    "That is 4.75% of students have scored more than 80"
   ]
  },
  {
   "cell_type": "markdown",
   "metadata": {},
   "source": [
    "b) similarly (50 - 60)/12 = -0.8333. Applying the property of symmetry, the area upto -0.8333 is same as area more \n",
    "than 0.8333 in the positive side. As before, it is = 0.5 - area between 0 and 0.8333 =  0.5 - 0.2967 = 0.2033. That is\n",
    "20.33% of students scored below 50"
   ]
  },
  {
   "cell_type": "markdown",
   "metadata": {},
   "source": [
    "c) Z = (x-60)/12. Here look at the normal tabel in inverse manner. That is the value of Z, the area between 0 and\n",
    "z = 0.40. this is to be seen from teh table.\n",
    " The Z value that will make the area =  0.40 is = 1.28. But z= (x - 60)/12. Hence (x-60)/12 = 1.28 Simplifying, x= 75.36\n",
    "This is the distinction mark that will be scored by 10% of the students."
   ]
  },
  {
   "cell_type": "markdown",
   "metadata": {},
   "source": [
    "Try1"
   ]
  },
  {
   "cell_type": "code",
   "execution_count": 35,
   "metadata": {},
   "outputs": [],
   "source": [
    "avg=60\n",
    "sd=12\n",
    "T=300\n"
   ]
  },
  {
   "cell_type": "code",
   "execution_count": 36,
   "metadata": {},
   "outputs": [
    {
     "name": "stdout",
     "output_type": "stream",
     "text": [
      "Percentage of students scoring more than 80 is :  4.78%\n"
     ]
    }
   ],
   "source": [
    "# z80 = (80-np)/sd\n",
    "# z80\n",
    "# P80 = st.norm.cdf(z80)\n",
    "P80 = st.norm.cdf(80,loc=avg,scale=sd)\n",
    "print(\"Percentage of students scoring more than 80 is : \",\"{:.2%}\".format(1 - P80))"
   ]
  },
  {
   "cell_type": "code",
   "execution_count": 37,
   "metadata": {},
   "outputs": [
    {
     "name": "stdout",
     "output_type": "stream",
     "text": [
      "Percentage of students scoring more than 80 is :  20.23%\n"
     ]
    }
   ],
   "source": [
    "P50 = st.norm.cdf(50,loc=avg,scale=sd)\n",
    "print(\"Percentage of students scoring more than 80 is : \",\"{:.2%}\".format(P50))"
   ]
  },
  {
   "cell_type": "code",
   "execution_count": 73,
   "metadata": {},
   "outputs": [
    {
     "data": {
      "image/png": "[encoded data removed]",
      "text/plain": [
       "<Figure size 1440x1080 with 1 Axes>"
      ]
     },
     "metadata": {
      "needs_background": "light"
     },
     "output_type": "display_data"
    }
   ],
   "source": [
    "from matplotlib.ticker import (AutoMinorLocator, MultipleLocator)\n",
    "\n",
    "xmin=0\n",
    "xmax=100\n",
    "\n",
    "x = np.linspace(xmin,xmax,101)\n",
    "y = st.norm.pdf(x,avg,sd)\n",
    "\n",
    "plt.figure(figsize=[20,15])\n",
    "plt.grid()\n",
    "plt.minorticks_on()\n",
    "plt.grid(b=True, which='minor', color='#999999', linestyle='-', alpha=0.25)\n",
    "plt.plot(x,y);"
   ]
  },
  {
   "cell_type": "code",
   "execution_count": null,
   "metadata": {},
   "outputs": [],
   "source": []
  }
 ],
 "metadata": {
  "kernelspec": {
   "display_name": "Python 3",
   "language": "python",
   "name": "python3"
  },
  "language_info": {
   "codemirror_mode": {
    "name": "ipython",
    "version": 3
   },
   "file_extension": ".py",
   "mimetype": "text/x-python",
   "name": "python",
   "nbconvert_exporter": "python",
   "pygments_lexer": "ipython3",
   "version": "3.7.3"
  }
 },
 "nbformat": 4,
 "nbformat_minor": 2
}
