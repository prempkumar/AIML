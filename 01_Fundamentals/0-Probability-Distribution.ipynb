{
 "cells": [
  {
   "cell_type": "code",
   "execution_count": 1,
   "metadata": {},
   "outputs": [],
   "source": [
    "import numpy as np\n",
    "import scipy.stats as st\n",
    "import scipy.special as sp\n",
    "import matplotlib.pyplot as plt\n",
    "%matplotlib inline\n",
    "\n",
    "def binprob (x, n, p) : \n",
    "    return (sp.factorial(n)/(sp.factorial(x)*sp.factorial(n-x)))* p**x * (1-p)**(n-x)"
   ]
  },
  {
   "cell_type": "markdown",
   "metadata": {},
   "source": [
    "# 1.You flip a fair coin 10 times. What is the probability of getting 8 or more heads? "
   ]
  },
  {
   "cell_type": "markdown",
   "metadata": {},
   "source": [
    "This is to be solved using Binomial distribution\n",
    "$$ P(x) = {{n}\\choose{x}} P^x (1 - P)^{n-x} $$\n",
    "\n",
    "where  \n",
    "$$ {{n}\\choose{x}} = \\frac{n!}{x!(n-x)!} $$\n",
    "\n",
    "Here, n=10, $x >= 8$ and p = 0.5 (heads in coin flip)"
   ]
  },
  {
   "cell_type": "code",
   "execution_count": 36,
   "metadata": {},
   "outputs": [
    {
     "name": "stdout",
     "output_type": "stream",
     "text": [
      "Probability of getting 8 or more heads in flipping a coin 10 times is :  0.055\n"
     ]
    }
   ],
   "source": [
    "\n",
    "p=0.5\n",
    "n=10\n",
    "P8 = round(binprob(8,n,p),3)\n",
    "# print(P8,\"\\n\")\n",
    "P9 = round(binprob(9,n,p),3)\n",
    "# print(P9,\"\\n\")\n",
    "P10 = round(binprob(10,n,p),3)\n",
    "# print(P10,\"\\n\")\n",
    "P = P8+P9+P10\n",
    "print(\"Probability of getting 8 or more heads in flipping a coin 10 times is : \",P)"
   ]
  },
  {
   "cell_type": "markdown",
   "metadata": {},
   "source": [
    "# 2. The probability that you will win a certain game is 0.3. You play the game 20 times. What is the mean of this binomial distribution?\n"
   ]
  },
  {
   "cell_type": "markdown",
   "metadata": {},
   "source": [
    "In binomial distribution, the mean is  calculated as, $$ \\mu = E(x) = np $$\n",
    "and Standard deviation is calculated as, $$ \\sigma = \\sqrt{np(1-p)} $$\n",
    "where n = total events and p = probability of 1 event"
   ]
  },
  {
   "cell_type": "code",
   "execution_count": 35,
   "metadata": {},
   "outputs": [
    {
     "name": "stdout",
     "output_type": "stream",
     "text": [
      "Mean of this binomial distribution is:  6.0\n"
     ]
    },
    {
     "data": {
      "image/png": "[encoded data removed]",
      "text/plain": [
       "<Figure size 432x288 with 1 Axes>"
      ]
     },
     "metadata": {
      "needs_background": "light"
     },
     "output_type": "display_data"
    }
   ],
   "source": [
    "p=0.3\n",
    "n=20\n",
    "ss = np.arange(0,21)\n",
    "\n",
    "bd = st.binom.pmf(ss,n,p)\n",
    "\n",
    "plt.plot(ss,bd,\"o-\")\n",
    "plt.show\n",
    "\n",
    "print(\"Mean of this binomial distribution is: \",n*p)"
   ]
  },
  {
   "cell_type": "markdown",
   "metadata": {},
   "source": [
    "# 3. An automatic camera records the number of cars running a red light at an intersection (that is, the cars were going through when the red light was against the car). Analysis of the data shows that on average 15% of light changes record a car running a red light. Assume that the data has a binomial distribution. What is theprobability that in 20 light changes there will be exactly three (3) cars running a red light?"
   ]
  },
  {
   "cell_type": "code",
   "execution_count": 3,
   "metadata": {},
   "outputs": [
    {
     "name": "stdout",
     "output_type": "stream",
     "text": [
      "Using fn def :  0.243 \n",
      "\n",
      "Using stats :  0.24282889614926725 \n",
      "\n"
     ]
    }
   ],
   "source": [
    "p=0.15\n",
    "n=20\n",
    "x=3\n",
    "P3 = round(binprob(x,n,p),3)\n",
    "print('Using fn def : ',P3,\"\\n\")\n",
    "\n",
    "ss = np.arange(0,21)\n",
    "bd = st.binom.pmf(ss,n,p)\n",
    "print('Using stats : ',bd[3],\"\\n\")\n",
    "\n"
   ]
  },
  {
   "cell_type": "markdown",
   "metadata": {},
   "source": [
    "# 4. There are 15 sets of traffic lights on the journey.The probability that a driver must stop at any one traffic light coming to alliance University is 0.3  \n",
    "\n",
    "a) What is the probability that a student must stop at exactly 2 of the 15 sets oftraffic lights? \n",
    "\n",
    "b) What is the probability that a student will be stopped at 1 or more of the 15sets of traffic lights? "
   ]
  },
  {
   "cell_type": "code",
   "execution_count": 4,
   "metadata": {},
   "outputs": [
    {
     "name": "stdout",
     "output_type": "stream",
     "text": [
      "Probability student must stop at exactly 2 of the 15 sets of traffic lights is :  0.092 \n",
      "\n",
      "Probability student must stop at 1 or more of the 15 sets of traffic lights is :  0.995 \n",
      "\n"
     ]
    }
   ],
   "source": [
    "p=0.3\n",
    "n=15\n",
    "\n",
    "#a) x=2\n",
    "P2 = round(binprob(2,n,p),3)\n",
    "print(\"Probability student must stop at exactly 2 of the 15 sets of traffic lights is : \",P2,\"\\n\")\n",
    "\n",
    "#b) x >= 1 \n",
    "P0 = round(binprob(0,n,p),3)\n",
    "print(\"Probability student must stop at 1 or more of the 15 sets of traffic lights is : \",1-P0,\"\\n\")\n"
   ]
  },
  {
   "cell_type": "markdown",
   "metadata": {},
   "source": [
    "# 5. What is the area under the curve of a probability distribution? Explain."
   ]
  },
  {
   "cell_type": "markdown",
   "metadata": {},
   "source": [
    "Area under curve of probability distribution is 1 or 100%. The distribution spreads the probabiity of all outcomes of an event and hence the total would be 100% or 1"
   ]
  },
  {
   "cell_type": "markdown",
   "metadata": {},
   "source": [
    "# 6. My Bank has a large Credit Card portfolio. Based on empirical data, they have found that 60% of the customers pay their bill on time. If a sample of 10 accounts is selected from the current database, construct the Probability Distribution of accounts paying on time.\n",
    "Hint: Make use of Function used in Excel or R"
   ]
  },
  {
   "cell_type": "code",
   "execution_count": 14,
   "metadata": {},
   "outputs": [
    {
     "data": {
      "text/plain": [
       "<function matplotlib.pyplot.show(*args, **kw)>"
      ]
     },
     "execution_count": 14,
     "metadata": {},
     "output_type": "execute_result"
    },
    {
     "data": {
      "image/png": "[encoded data removed]",
      "text/plain": [
       "<Figure size 432x288 with 1 Axes>"
      ]
     },
     "metadata": {
      "needs_background": "light"
     },
     "output_type": "display_data"
    }
   ],
   "source": [
    "p=0.6\n",
    "n=10\n",
    "ss = np.arange(0,11)\n",
    "\n",
    "bd = st.binom.pmf(ss,n,p)\n",
    "\n",
    "plt.plot(ss,bd,\"ro-\")\n",
    "plt.title('Binomial distribution of Bank customers paying on time\\n')\n",
    "plt.xlabel(\"Number of Customers paying on time\")\n",
    "plt.ylabel(\"Probability of paying on time\")\n",
    "plt.show"
   ]
  },
  {
   "cell_type": "markdown",
   "metadata": {},
   "source": [
    "# 7. If the likelihood of a tagged order form is 0.1, What is the probability that there are three tagged order forms in the sample of four?\n",
    "Hint: Use Binomial distribution equation"
   ]
  },
  {
   "cell_type": "code",
   "execution_count": 17,
   "metadata": {},
   "outputs": [
    {
     "data": {
      "text/plain": [
       "0.0036"
      ]
     },
     "execution_count": 17,
     "metadata": {},
     "output_type": "execute_result"
    }
   ],
   "source": [
    "p=0.1\n",
    "n=4\n",
    "x=3\n",
    "P3 = round(binprob(x,n,p),4)\n",
    "P3"
   ]
  },
  {
   "cell_type": "markdown",
   "metadata": {},
   "source": [
    "# 8. Determine the following:\n",
    "\n",
    "a) For n = 4 and p = 0.12, what is P(X = 0)?\n",
    "\n",
    "b) For n = 6 and p = 0.83, what is P(X = 5)?"
   ]
  },
  {
   "cell_type": "code",
   "execution_count": 4,
   "metadata": {},
   "outputs": [
    {
     "name": "stdout",
     "output_type": "stream",
     "text": [
      "P(x=0) :  0.5997 \n",
      "\n",
      "P(x=5) :  0.4018 \n",
      "\n"
     ]
    }
   ],
   "source": [
    "# P0 = round(binprob(0,4,0.12),4)\n",
    "P0 = st.binom.pmf(0,4,0.12)\n",
    "print(\"P(x=0) : \",P0,\"\\n\" )\n",
    "\n",
    "P5 = round(binprob(5,6,0.83),4)\n",
    "print(\"P(x=5) : \",P5,\"\\n\" )\n"
   ]
  },
  {
   "cell_type": "markdown",
   "metadata": {},
   "source": [
    "# 9.Determine the mean and standard deviation of the variable X in each of the following binomial distributions:\n",
    "\n",
    "a) n = 4 and p = 0.10\n",
    "\n",
    "b) n = 5 and p = 0.80"
   ]
  },
  {
   "cell_type": "code",
   "execution_count": 27,
   "metadata": {},
   "outputs": [
    {
     "name": "stdout",
     "output_type": "stream",
     "text": [
      "a) Mean is :  0.4\n",
      "   Standard Deviation is :  0.6 \n",
      "\n",
      "b) Mean is :  4.0\n",
      "   Standard Deviation is :  0.894 \n",
      "\n"
     ]
    }
   ],
   "source": [
    "n=4\n",
    "p=0.10\n",
    "print(\"a) Mean is : \",n*p)\n",
    "print(\"   Standard Deviation is : \",round(np.sqrt(n*p*(1-p)),3), \"\\n\")\n",
    "\n",
    "n=5\n",
    "p=0.80\n",
    "print(\"b) Mean is : \",n*p)\n",
    "print(\"   Standard Deviation is : \",round(np.sqrt(n*p*(1-p)),3), \"\\n\")\n"
   ]
  },
  {
   "cell_type": "markdown",
   "metadata": {},
   "source": [
    "# 10. Assume a poisson distribution with lambda = 5.0. What is the probability that\n",
    "a) X <= 1?\n",
    "\n",
    "b) X > 1?"
   ]
  },
  {
   "cell_type": "markdown",
   "metadata": {},
   "source": [
    "In Poisson distribution,$$ P(x) = \\frac{e^{-\\lambda} \\lambda^x}{x!} $$\n",
    "where\n",
    " - P(x) = Probability of x success given an idea of $\\lambda$\n",
    " - $\\lambda$ = Average number of successes\n",
    " - e = 2.71828 (natural log)\n",
    " - x = successes per unit which can be 0,1,2,3.....$\\infty$"
   ]
  },
  {
   "cell_type": "code",
   "execution_count": 37,
   "metadata": {},
   "outputs": [
    {
     "name": "stdout",
     "output_type": "stream",
     "text": [
      "P(x<=1) :  0.0404\n",
      "P(x>1) :  0.9596\n"
     ]
    }
   ],
   "source": [
    "mu=5.0\n",
    "x=0\n",
    "P0 = st.poisson.pmf(x,mu)\n",
    "x=1\n",
    "P1 = st.poisson.pmf(x,mu)\n",
    "print(\"P(x<=1) : \",round(P0+P1,4))\n",
    "print(\"P(x>1) : \",round(1-(P0+P1),4))"
   ]
  },
  {
   "cell_type": "markdown",
   "metadata": {},
   "source": [
    "# 11. The number of work related injuries per month in a manufacturing plant is known to follow a Poisson distribution, with a mean of 2.5 work-related injuries a month.\n",
    "\n",
    "a) What is the probability that in a given month, no work-related injuries occur?\n",
    "\n",
    "b) That at least one work- related injury occurs?\n",
    "\n",
    "Hint: Use Poisson distribution equation, find X = 0, Given lambda = 2.5"
   ]
  },
  {
   "cell_type": "code",
   "execution_count": 40,
   "metadata": {},
   "outputs": [
    {
     "name": "stdout",
     "output_type": "stream",
     "text": [
      "Probability no work-related injuries occur is :  8.21%\n",
      "Probability at least one work-related injuries occur is :  91.79%\n"
     ]
    }
   ],
   "source": [
    "mu=2.5\n",
    "x=0\n",
    "P0 = st.poisson.pmf(x,mu)\n",
    "print(\"Probability no work-related injuries occur is : \",\"{:.2%}\".format(P0))\n",
    "x=1\n",
    "P1 = st.poisson.pmf(x,mu)\n",
    "print(\"Probability at least one work-related injuries occur is : \",\"{:.2%}\".format(1-P0))"
   ]
  },
  {
   "cell_type": "markdown",
   "metadata": {},
   "source": [
    "# 12. A 5-litre bucket of water is taken from a swamp. The water contains 75 mosquito larvae. A 200mL flask of water is taken form the bucket for further analysis. What is\n",
    "\n",
    "a) the expected number of larvae in the flask?\n",
    "\n",
    "b) the probability that the flask contains at least one mosquito lava?"
   ]
  },
  {
   "cell_type": "code",
   "execution_count": 43,
   "metadata": {},
   "outputs": [
    {
     "name": "stdout",
     "output_type": "stream",
     "text": [
      "Expected number of larvae :  3.0\n",
      "Probability of at least one larvae :  95.02%\n"
     ]
    }
   ],
   "source": [
    "T=5000\n",
    "n=75\n",
    "X=200\n",
    "mu=n*X/T\n",
    "print(\"Expected number of larvae : \",mu)\n",
    "P0 = st.poisson.pmf(0,mu)\n",
    "print(\"Probability of at least one larvae : \",\"{:.2%}\".format(1-P0))"
   ]
  },
  {
   "cell_type": "markdown",
   "metadata": {},
   "source": [
    "# 13. Why the need of Standardization? Why do we us Z instead of “the Number of Standard Deviations”?"
   ]
  },
  {
   "cell_type": "markdown",
   "metadata": {},
   "source": [
    "Standardization is to offset the variability associated with units like kgs, gms, kms, mts etc. We calculate Z by the formulae,\n",
    "$$ Z = \\frac{x - \\mu}{\\sigma} $$"
   ]
  },
  {
   "cell_type": "markdown",
   "metadata": {},
   "source": [
    "# 14. A radar unit is used to measure speeds of cars on a Mumbai – Pune Highway. The speeds are normally distributed with a mean of 70 km/hr and a standard deviation of 10 km/hr.\n",
    "\n",
    "a)What is the probability that a car picked at random is travelling at more than 100 km/hr?\n",
    "\n",
    "b)What is the probability that the car speed is between 80 Km / hr and 100 Km / hr\n",
    "\n",
    "Hint: You can make use of Excel"
   ]
  },
  {
   "cell_type": "code",
   "execution_count": 53,
   "metadata": {},
   "outputs": [
    {
     "name": "stdout",
     "output_type": "stream",
     "text": [
      "Probability car goes more than 100 km/hr is :  0.13%\n",
      "Probability car goes less than 80 km/hr is :  84.13%\n",
      "Probability car goes between 80 km/hr and 100 km/hr is :  15.73%\n"
     ]
    }
   ],
   "source": [
    "m=70\n",
    "sd=10\n",
    "\n",
    "z100 = (100-m)/sd\n",
    "P100 = st.norm.cdf(z100)\n",
    "print(\"Probability car goes more than 100 km/hr is : \",\"{:.2%}\".format(1-P100))\n",
    "z80 = (80-m)/sd\n",
    "P80 = st.norm.cdf(z80)\n",
    "print(\"Probability car goes less than 80 km/hr is : \",\"{:.2%}\".format(P80))\n",
    "print(\"Probability car goes between 80 km/hr and 100 km/hr is : \",\"{:.2%}\".format(P100-P80))\n"
   ]
  },
  {
   "cell_type": "markdown",
   "metadata": {},
   "source": [
    "# 15. The percentage of orders filled correctly at Wendy's was approximately 86.8%. Suppose that you go to drive-through window at Wendy's and place an order. Two friends of yours independently place orders at the drive-through window at the same Wendy's.\n",
    "\n",
    "What are the probabilities that\n",
    "\n",
    "a) all three filled correctly?\n",
    "\n",
    "b) none of the three filled correctly?\n",
    "\n",
    "c) atleast two of the three orders will be filled correctly?\n",
    "\n",
    "d) what is the mean and standard deviation of the orders filled correctly?"
   ]
  },
  {
   "cell_type": "code",
   "execution_count": 64,
   "metadata": {},
   "outputs": [
    {
     "data": {
      "image/png": "[encoded data removed]",
      "text/plain": [
       "<Figure size 432x288 with 1 Axes>"
      ]
     },
     "metadata": {
      "needs_background": "light"
     },
     "output_type": "display_data"
    }
   ],
   "source": [
    "p=.868\n",
    "n=3\n",
    "\n",
    "ss = np.arange(0,4)\n",
    "bd = st.binom.pmf(ss,n,p)\n",
    "\n",
    "plt.plot(ss,bd,\"bo--\")\n",
    "plt.ylim(0,1.0)\n",
    "plt.xlabel(\"Patrons\")\n",
    "plt.ylabel(\"Probability of orders filled correctly\")\n",
    "plt.show()"
   ]
  },
  {
   "cell_type": "code",
   "execution_count": 68,
   "metadata": {},
   "outputs": [
    {
     "name": "stdout",
     "output_type": "stream",
     "text": [
      "Probability all three filled correctly is :  65.40%\n",
      "Probability none filled correctly is :  0.23%\n",
      "Probability at lease two orders filled correctly is :  95.23%\n",
      "Mean of order filled correctly is :  2.6\n",
      "SD of order filled correctly is :  0.5863\n"
     ]
    }
   ],
   "source": [
    "print(\"Probability all three filled correctly is : \",\"{:.2%}\".format(bd[3]))\n",
    "print(\"Probability none filled correctly is : \",\"{:.2%}\".format(bd[0]))\n",
    "print(\"Probability at lease two orders filled correctly is : \",\"{:.2%}\".format(bd[3]+bd[2]))\n",
    "print(\"Mean of order filled correctly is : \",\"{:.2}\".format(n*p))\n",
    "print(\"SD of order filled correctly is : \",\"{:.4}\".format(np.sqrt(n*p*(1-p))))"
   ]
  }
 ],
 "metadata": {
  "kernelspec": {
   "display_name": "Python 3",
   "language": "python",
   "name": "python3"
  },
  "language_info": {
   "codemirror_mode": {
    "name": "ipython",
    "version": 3
   },
   "file_extension": ".py",
   "mimetype": "text/x-python",
   "name": "python",
   "nbconvert_exporter": "python",
   "pygments_lexer": "ipython3",
   "version": "3.7.3"
  }
 },
 "nbformat": 4,
 "nbformat_minor": 2
}
