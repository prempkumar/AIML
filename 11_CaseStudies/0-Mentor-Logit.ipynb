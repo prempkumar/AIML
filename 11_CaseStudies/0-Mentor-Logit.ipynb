{
 "cells": [
  {
   "cell_type": "markdown",
   "metadata": {},
   "source": [
    "## Mentor session - Logit - Credit Risk\n",
    "\n",
    " \n",
    "### Domain: Banking\n",
    "\n",
    " \n",
    "#### Context:\n",
    "Credit risk is nothing but the default in payment of any loan by the borrower. In Banking sector this is an important factor to be considered before approving the loan of an applicant.Dream Housing Finance company deals in all home loans. They have presence across all urban, semi urban and rural areas. Customer first apply for home loan after that company validates the customer eligibility for loan.\n",
    "\n",
    "#### Objective:\n",
    "Company wants to automate the loan eligibility process (real time) based on customer detail provided while filling online application form. These details are Gender, Marital Status, ducation, Number of Dependents, Income, Loan Amount, Credit History and others. To automate this process, they have given a problem to identify the customers segments, those are eligible for loan amount so that they can specifically target these customers. Here they have provided a partial data set.\n",
    "\n",
    "#### Attribute Information:\n",
    "- Loan_ID: Unique Loan ID\n",
    "- Gender: Male/ Female\n",
    "- Married: Applicant married (Y/N)\n",
    "- Dependents: Number of dependents\n",
    "- Education: Applicant Education (Graduate/ Under Graduate)\n",
    "- Self_Employed: Self employed (Y/N)\n",
    "- ApplicantIncome: Applicant income\n",
    "- CoapplicantIncome: Coapplicant income\n",
    "- LoanAmount: Loan amount in thousands\n",
    "- Loan_Amount_Term: Term of loan in months\n",
    "- Credit_History: credit history meets guidelines (yes or no) i.e (1 or 0)\n",
    "- Property_Area: Urban/ Semi Urban/ Rural\n",
    "- Loan_Status: Loan approved (Y/N)\n",
    " \n",
    " \n",
    "#### Learning Outcomes:\n",
    "- Exploratory Data Analysis\n",
    "- Preparing the data to train a model\n",
    "- Training and making predictions using a classification model\n",
    "- Model evaluation\n",
    " \n",
    " \n",
    "#### Steps and Tasks:\n",
    "- Import Libraries and Load Dataset\n",
    "- EDA (Univariate Analysis, Null Values Treatment, Bivariate Analysis)\n",
    "- Model Building (using Sklearn) and check model performance using various metrics for classification.\n",
    "- Improving Model Performance via Checking Parameters of Logistic Regression Sklearn\n",
    "- Business Insights"
   ]
  },
  {
   "cell_type": "code",
   "execution_count": 3,
   "metadata": {},
   "outputs": [],
   "source": [
    "import numpy as np\n",
    "import pandas as pd\n",
    "\n",
    "import matplotlib.pyplot as plt\n",
    "%matplotlib inline\n",
    "\n",
    "import seaborn as sns\n",
    "sns.set_style(style='darkgrid')\n",
    "\n",
    "import plotly.express as px\n",
    "\n",
    "from sklearn.impute import SimpleImputer\n",
    "from sklearn.model_selection import train_test_split as tts\n",
    "\n",
    "from sklearn.linear_model import LogisticRegression\n",
    "logit = LogisticRegression(solver='newton-cg')\n",
    "\n",
    "from sklearn import metrics as mtr\n",
    "import statsmodels.api as sm"
   ]
  },
  {
   "cell_type": "code",
   "execution_count": 4,
   "metadata": {},
   "outputs": [
    {
     "data": {
      "text/html": [
       "<style>.container { width:80% !important; }</style>"
      ],
      "text/plain": [
       "<IPython.core.display.HTML object>"
      ]
     },
     "metadata": {},
     "output_type": "display_data"
    }
   ],
   "source": [
    "import warnings\n",
    "warnings.filterwarnings('ignore')\n",
    "\n",
    "pd.options.display.float_format = '{:,.2f}'.format        \n",
    "\n",
    "from IPython.core.display import display, HTML\n",
    "display(HTML(\"<style>.container { width:80% !important; }</style>\"))"
   ]
  },
  {
   "cell_type": "code",
   "execution_count": 5,
   "metadata": {},
   "outputs": [
    {
     "name": "stdout",
     "output_type": "stream",
     "text": [
      "<class 'pandas.core.frame.DataFrame'>\n",
      "RangeIndex: 614 entries, 0 to 613\n",
      "Data columns (total 13 columns):\n",
      "Loan_ID              614 non-null object\n",
      "Gender               601 non-null object\n",
      "Married              611 non-null object\n",
      "Dependents           599 non-null object\n",
      "Education            614 non-null object\n",
      "Self_Employed        582 non-null object\n",
      "ApplicantIncome      614 non-null int64\n",
      "CoapplicantIncome    614 non-null float64\n",
      "LoanAmount           614 non-null int64\n",
      "Loan_Amount_Term     600 non-null float64\n",
      "Credit_History       564 non-null float64\n",
      "Property_Area        614 non-null object\n",
      "Loan_Status          614 non-null int64\n",
      "dtypes: float64(3), int64(3), object(7)\n",
      "memory usage: 62.4+ KB\n"
     ]
    }
   ],
   "source": [
    "df = pd.read_csv('CreditRisk.csv')\n",
    "df.info()"
   ]
  },
  {
   "cell_type": "code",
   "execution_count": 6,
   "metadata": {},
   "outputs": [
    {
     "data": {
      "text/html": [
       "<div>\n",
       "<style scoped>\n",
       "    .dataframe tbody tr th:only-of-type {\n",
       "        vertical-align: middle;\n",
       "    }\n",
       "\n",
       "    .dataframe tbody tr th {\n",
       "        vertical-align: top;\n",
       "    }\n",
       "\n",
       "    .dataframe thead th {\n",
       "        text-align: right;\n",
       "    }\n",
       "</style>\n",
       "<table border=\"1\" class=\"dataframe\">\n",
       "  <thead>\n",
       "    <tr style=\"text-align: right;\">\n",
       "      <th></th>\n",
       "      <th>LoanID</th>\n",
       "      <th>Gender</th>\n",
       "      <th>Married</th>\n",
       "      <th>Dependents</th>\n",
       "      <th>Education</th>\n",
       "      <th>SelfEmployed</th>\n",
       "      <th>ApplicantIncome</th>\n",
       "      <th>CoapplicantIncome</th>\n",
       "      <th>LoanAmount</th>\n",
       "      <th>LoanAmountTerm</th>\n",
       "      <th>CreditHistory</th>\n",
       "      <th>PropertyArea</th>\n",
       "      <th>LoanStatus</th>\n",
       "    </tr>\n",
       "  </thead>\n",
       "  <tbody>\n",
       "    <tr>\n",
       "      <th>0</th>\n",
       "      <td>LP001002</td>\n",
       "      <td>Male</td>\n",
       "      <td>No</td>\n",
       "      <td>0</td>\n",
       "      <td>Graduate</td>\n",
       "      <td>No</td>\n",
       "      <td>5849</td>\n",
       "      <td>0.00</td>\n",
       "      <td>0</td>\n",
       "      <td>360.00</td>\n",
       "      <td>1.00</td>\n",
       "      <td>Urban</td>\n",
       "      <td>1</td>\n",
       "    </tr>\n",
       "    <tr>\n",
       "      <th>1</th>\n",
       "      <td>LP001003</td>\n",
       "      <td>Male</td>\n",
       "      <td>Yes</td>\n",
       "      <td>1</td>\n",
       "      <td>Graduate</td>\n",
       "      <td>No</td>\n",
       "      <td>4583</td>\n",
       "      <td>1,508.00</td>\n",
       "      <td>128</td>\n",
       "      <td>360.00</td>\n",
       "      <td>1.00</td>\n",
       "      <td>Rural</td>\n",
       "      <td>0</td>\n",
       "    </tr>\n",
       "    <tr>\n",
       "      <th>2</th>\n",
       "      <td>LP001005</td>\n",
       "      <td>Male</td>\n",
       "      <td>Yes</td>\n",
       "      <td>0</td>\n",
       "      <td>Graduate</td>\n",
       "      <td>Yes</td>\n",
       "      <td>3000</td>\n",
       "      <td>0.00</td>\n",
       "      <td>66</td>\n",
       "      <td>360.00</td>\n",
       "      <td>1.00</td>\n",
       "      <td>Urban</td>\n",
       "      <td>1</td>\n",
       "    </tr>\n",
       "    <tr>\n",
       "      <th>3</th>\n",
       "      <td>LP001006</td>\n",
       "      <td>Male</td>\n",
       "      <td>Yes</td>\n",
       "      <td>0</td>\n",
       "      <td>Not Graduate</td>\n",
       "      <td>No</td>\n",
       "      <td>2583</td>\n",
       "      <td>2,358.00</td>\n",
       "      <td>120</td>\n",
       "      <td>360.00</td>\n",
       "      <td>1.00</td>\n",
       "      <td>Urban</td>\n",
       "      <td>1</td>\n",
       "    </tr>\n",
       "    <tr>\n",
       "      <th>4</th>\n",
       "      <td>LP001008</td>\n",
       "      <td>Male</td>\n",
       "      <td>No</td>\n",
       "      <td>0</td>\n",
       "      <td>Graduate</td>\n",
       "      <td>No</td>\n",
       "      <td>6000</td>\n",
       "      <td>0.00</td>\n",
       "      <td>141</td>\n",
       "      <td>360.00</td>\n",
       "      <td>1.00</td>\n",
       "      <td>Urban</td>\n",
       "      <td>1</td>\n",
       "    </tr>\n",
       "    <tr>\n",
       "      <th>5</th>\n",
       "      <td>LP001011</td>\n",
       "      <td>Male</td>\n",
       "      <td>Yes</td>\n",
       "      <td>2</td>\n",
       "      <td>Graduate</td>\n",
       "      <td>Yes</td>\n",
       "      <td>5417</td>\n",
       "      <td>4,196.00</td>\n",
       "      <td>267</td>\n",
       "      <td>360.00</td>\n",
       "      <td>1.00</td>\n",
       "      <td>Urban</td>\n",
       "      <td>1</td>\n",
       "    </tr>\n",
       "    <tr>\n",
       "      <th>6</th>\n",
       "      <td>LP001013</td>\n",
       "      <td>Male</td>\n",
       "      <td>Yes</td>\n",
       "      <td>0</td>\n",
       "      <td>Not Graduate</td>\n",
       "      <td>No</td>\n",
       "      <td>2333</td>\n",
       "      <td>1,516.00</td>\n",
       "      <td>95</td>\n",
       "      <td>360.00</td>\n",
       "      <td>1.00</td>\n",
       "      <td>Urban</td>\n",
       "      <td>1</td>\n",
       "    </tr>\n",
       "    <tr>\n",
       "      <th>7</th>\n",
       "      <td>LP001014</td>\n",
       "      <td>Male</td>\n",
       "      <td>Yes</td>\n",
       "      <td>3+</td>\n",
       "      <td>Graduate</td>\n",
       "      <td>No</td>\n",
       "      <td>3036</td>\n",
       "      <td>2,504.00</td>\n",
       "      <td>158</td>\n",
       "      <td>360.00</td>\n",
       "      <td>0.00</td>\n",
       "      <td>Semiurban</td>\n",
       "      <td>0</td>\n",
       "    </tr>\n",
       "    <tr>\n",
       "      <th>8</th>\n",
       "      <td>LP001018</td>\n",
       "      <td>Male</td>\n",
       "      <td>Yes</td>\n",
       "      <td>2</td>\n",
       "      <td>Graduate</td>\n",
       "      <td>No</td>\n",
       "      <td>4006</td>\n",
       "      <td>1,526.00</td>\n",
       "      <td>168</td>\n",
       "      <td>360.00</td>\n",
       "      <td>1.00</td>\n",
       "      <td>Urban</td>\n",
       "      <td>1</td>\n",
       "    </tr>\n",
       "    <tr>\n",
       "      <th>9</th>\n",
       "      <td>LP001020</td>\n",
       "      <td>Male</td>\n",
       "      <td>Yes</td>\n",
       "      <td>1</td>\n",
       "      <td>Graduate</td>\n",
       "      <td>No</td>\n",
       "      <td>12841</td>\n",
       "      <td>10,968.00</td>\n",
       "      <td>349</td>\n",
       "      <td>360.00</td>\n",
       "      <td>1.00</td>\n",
       "      <td>Semiurban</td>\n",
       "      <td>0</td>\n",
       "    </tr>\n",
       "    <tr>\n",
       "      <th>10</th>\n",
       "      <td>LP001024</td>\n",
       "      <td>Male</td>\n",
       "      <td>Yes</td>\n",
       "      <td>2</td>\n",
       "      <td>Graduate</td>\n",
       "      <td>No</td>\n",
       "      <td>3200</td>\n",
       "      <td>700.00</td>\n",
       "      <td>70</td>\n",
       "      <td>360.00</td>\n",
       "      <td>1.00</td>\n",
       "      <td>Urban</td>\n",
       "      <td>1</td>\n",
       "    </tr>\n",
       "    <tr>\n",
       "      <th>11</th>\n",
       "      <td>LP001027</td>\n",
       "      <td>Male</td>\n",
       "      <td>Yes</td>\n",
       "      <td>2</td>\n",
       "      <td>Graduate</td>\n",
       "      <td>NaN</td>\n",
       "      <td>2500</td>\n",
       "      <td>1,840.00</td>\n",
       "      <td>109</td>\n",
       "      <td>360.00</td>\n",
       "      <td>1.00</td>\n",
       "      <td>Urban</td>\n",
       "      <td>1</td>\n",
       "    </tr>\n",
       "    <tr>\n",
       "      <th>12</th>\n",
       "      <td>LP001028</td>\n",
       "      <td>Male</td>\n",
       "      <td>Yes</td>\n",
       "      <td>2</td>\n",
       "      <td>Graduate</td>\n",
       "      <td>No</td>\n",
       "      <td>3073</td>\n",
       "      <td>8,106.00</td>\n",
       "      <td>200</td>\n",
       "      <td>360.00</td>\n",
       "      <td>1.00</td>\n",
       "      <td>Urban</td>\n",
       "      <td>1</td>\n",
       "    </tr>\n",
       "    <tr>\n",
       "      <th>13</th>\n",
       "      <td>LP001029</td>\n",
       "      <td>Male</td>\n",
       "      <td>No</td>\n",
       "      <td>0</td>\n",
       "      <td>Graduate</td>\n",
       "      <td>No</td>\n",
       "      <td>1853</td>\n",
       "      <td>2,840.00</td>\n",
       "      <td>114</td>\n",
       "      <td>360.00</td>\n",
       "      <td>1.00</td>\n",
       "      <td>Rural</td>\n",
       "      <td>0</td>\n",
       "    </tr>\n",
       "    <tr>\n",
       "      <th>14</th>\n",
       "      <td>LP001030</td>\n",
       "      <td>Male</td>\n",
       "      <td>Yes</td>\n",
       "      <td>2</td>\n",
       "      <td>Graduate</td>\n",
       "      <td>No</td>\n",
       "      <td>1299</td>\n",
       "      <td>1,086.00</td>\n",
       "      <td>17</td>\n",
       "      <td>120.00</td>\n",
       "      <td>1.00</td>\n",
       "      <td>Urban</td>\n",
       "      <td>1</td>\n",
       "    </tr>\n",
       "    <tr>\n",
       "      <th>15</th>\n",
       "      <td>LP001032</td>\n",
       "      <td>Male</td>\n",
       "      <td>No</td>\n",
       "      <td>0</td>\n",
       "      <td>Graduate</td>\n",
       "      <td>No</td>\n",
       "      <td>4950</td>\n",
       "      <td>0.00</td>\n",
       "      <td>125</td>\n",
       "      <td>360.00</td>\n",
       "      <td>1.00</td>\n",
       "      <td>Urban</td>\n",
       "      <td>1</td>\n",
       "    </tr>\n",
       "    <tr>\n",
       "      <th>16</th>\n",
       "      <td>LP001034</td>\n",
       "      <td>Male</td>\n",
       "      <td>No</td>\n",
       "      <td>1</td>\n",
       "      <td>Not Graduate</td>\n",
       "      <td>No</td>\n",
       "      <td>3596</td>\n",
       "      <td>0.00</td>\n",
       "      <td>100</td>\n",
       "      <td>240.00</td>\n",
       "      <td>nan</td>\n",
       "      <td>Urban</td>\n",
       "      <td>1</td>\n",
       "    </tr>\n",
       "    <tr>\n",
       "      <th>17</th>\n",
       "      <td>LP001036</td>\n",
       "      <td>Female</td>\n",
       "      <td>No</td>\n",
       "      <td>0</td>\n",
       "      <td>Graduate</td>\n",
       "      <td>No</td>\n",
       "      <td>3510</td>\n",
       "      <td>0.00</td>\n",
       "      <td>76</td>\n",
       "      <td>360.00</td>\n",
       "      <td>0.00</td>\n",
       "      <td>Urban</td>\n",
       "      <td>0</td>\n",
       "    </tr>\n",
       "    <tr>\n",
       "      <th>18</th>\n",
       "      <td>LP001038</td>\n",
       "      <td>Male</td>\n",
       "      <td>Yes</td>\n",
       "      <td>0</td>\n",
       "      <td>Not Graduate</td>\n",
       "      <td>No</td>\n",
       "      <td>4887</td>\n",
       "      <td>0.00</td>\n",
       "      <td>133</td>\n",
       "      <td>360.00</td>\n",
       "      <td>1.00</td>\n",
       "      <td>Rural</td>\n",
       "      <td>0</td>\n",
       "    </tr>\n",
       "    <tr>\n",
       "      <th>19</th>\n",
       "      <td>LP001041</td>\n",
       "      <td>Male</td>\n",
       "      <td>Yes</td>\n",
       "      <td>0</td>\n",
       "      <td>Graduate</td>\n",
       "      <td>NaN</td>\n",
       "      <td>2600</td>\n",
       "      <td>3,500.00</td>\n",
       "      <td>115</td>\n",
       "      <td>nan</td>\n",
       "      <td>1.00</td>\n",
       "      <td>Urban</td>\n",
       "      <td>1</td>\n",
       "    </tr>\n",
       "    <tr>\n",
       "      <th>20</th>\n",
       "      <td>LP001043</td>\n",
       "      <td>Male</td>\n",
       "      <td>Yes</td>\n",
       "      <td>0</td>\n",
       "      <td>Not Graduate</td>\n",
       "      <td>No</td>\n",
       "      <td>7660</td>\n",
       "      <td>0.00</td>\n",
       "      <td>104</td>\n",
       "      <td>360.00</td>\n",
       "      <td>0.00</td>\n",
       "      <td>Urban</td>\n",
       "      <td>0</td>\n",
       "    </tr>\n",
       "    <tr>\n",
       "      <th>21</th>\n",
       "      <td>LP001046</td>\n",
       "      <td>Male</td>\n",
       "      <td>Yes</td>\n",
       "      <td>1</td>\n",
       "      <td>Graduate</td>\n",
       "      <td>No</td>\n",
       "      <td>5955</td>\n",
       "      <td>5,625.00</td>\n",
       "      <td>315</td>\n",
       "      <td>360.00</td>\n",
       "      <td>1.00</td>\n",
       "      <td>Urban</td>\n",
       "      <td>1</td>\n",
       "    </tr>\n",
       "    <tr>\n",
       "      <th>22</th>\n",
       "      <td>LP001047</td>\n",
       "      <td>Male</td>\n",
       "      <td>Yes</td>\n",
       "      <td>0</td>\n",
       "      <td>Not Graduate</td>\n",
       "      <td>No</td>\n",
       "      <td>2600</td>\n",
       "      <td>1,911.00</td>\n",
       "      <td>116</td>\n",
       "      <td>360.00</td>\n",
       "      <td>0.00</td>\n",
       "      <td>Semiurban</td>\n",
       "      <td>0</td>\n",
       "    </tr>\n",
       "    <tr>\n",
       "      <th>23</th>\n",
       "      <td>LP001050</td>\n",
       "      <td>NaN</td>\n",
       "      <td>Yes</td>\n",
       "      <td>2</td>\n",
       "      <td>Not Graduate</td>\n",
       "      <td>No</td>\n",
       "      <td>3365</td>\n",
       "      <td>1,917.00</td>\n",
       "      <td>112</td>\n",
       "      <td>360.00</td>\n",
       "      <td>0.00</td>\n",
       "      <td>Rural</td>\n",
       "      <td>0</td>\n",
       "    </tr>\n",
       "    <tr>\n",
       "      <th>24</th>\n",
       "      <td>LP001052</td>\n",
       "      <td>Male</td>\n",
       "      <td>Yes</td>\n",
       "      <td>1</td>\n",
       "      <td>Graduate</td>\n",
       "      <td>NaN</td>\n",
       "      <td>3717</td>\n",
       "      <td>2,925.00</td>\n",
       "      <td>151</td>\n",
       "      <td>360.00</td>\n",
       "      <td>nan</td>\n",
       "      <td>Semiurban</td>\n",
       "      <td>0</td>\n",
       "    </tr>\n",
       "  </tbody>\n",
       "</table>\n",
       "</div>"
      ],
      "text/plain": [
       "      LoanID  Gender Married Dependents     Education SelfEmployed  \\\n",
       "0   LP001002    Male      No          0      Graduate           No   \n",
       "1   LP001003    Male     Yes          1      Graduate           No   \n",
       "2   LP001005    Male     Yes          0      Graduate          Yes   \n",
       "3   LP001006    Male     Yes          0  Not Graduate           No   \n",
       "4   LP001008    Male      No          0      Graduate           No   \n",
       "5   LP001011    Male     Yes          2      Graduate          Yes   \n",
       "6   LP001013    Male     Yes          0  Not Graduate           No   \n",
       "7   LP001014    Male     Yes         3+      Graduate           No   \n",
       "8   LP001018    Male     Yes          2      Graduate           No   \n",
       "9   LP001020    Male     Yes          1      Graduate           No   \n",
       "10  LP001024    Male     Yes          2      Graduate           No   \n",
       "11  LP001027    Male     Yes          2      Graduate          NaN   \n",
       "12  LP001028    Male     Yes          2      Graduate           No   \n",
       "13  LP001029    Male      No          0      Graduate           No   \n",
       "14  LP001030    Male     Yes          2      Graduate           No   \n",
       "15  LP001032    Male      No          0      Graduate           No   \n",
       "16  LP001034    Male      No          1  Not Graduate           No   \n",
       "17  LP001036  Female      No          0      Graduate           No   \n",
       "18  LP001038    Male     Yes          0  Not Graduate           No   \n",
       "19  LP001041    Male     Yes          0      Graduate          NaN   \n",
       "20  LP001043    Male     Yes          0  Not Graduate           No   \n",
       "21  LP001046    Male     Yes          1      Graduate           No   \n",
       "22  LP001047    Male     Yes          0  Not Graduate           No   \n",
       "23  LP001050     NaN     Yes          2  Not Graduate           No   \n",
       "24  LP001052    Male     Yes          1      Graduate          NaN   \n",
       "\n",
       "    ApplicantIncome  CoapplicantIncome  LoanAmount  LoanAmountTerm  \\\n",
       "0              5849               0.00           0          360.00   \n",
       "1              4583           1,508.00         128          360.00   \n",
       "2              3000               0.00          66          360.00   \n",
       "3              2583           2,358.00         120          360.00   \n",
       "4              6000               0.00         141          360.00   \n",
       "5              5417           4,196.00         267          360.00   \n",
       "6              2333           1,516.00          95          360.00   \n",
       "7              3036           2,504.00         158          360.00   \n",
       "8              4006           1,526.00         168          360.00   \n",
       "9             12841          10,968.00         349          360.00   \n",
       "10             3200             700.00          70          360.00   \n",
       "11             2500           1,840.00         109          360.00   \n",
       "12             3073           8,106.00         200          360.00   \n",
       "13             1853           2,840.00         114          360.00   \n",
       "14             1299           1,086.00          17          120.00   \n",
       "15             4950               0.00         125          360.00   \n",
       "16             3596               0.00         100          240.00   \n",
       "17             3510               0.00          76          360.00   \n",
       "18             4887               0.00         133          360.00   \n",
       "19             2600           3,500.00         115             nan   \n",
       "20             7660               0.00         104          360.00   \n",
       "21             5955           5,625.00         315          360.00   \n",
       "22             2600           1,911.00         116          360.00   \n",
       "23             3365           1,917.00         112          360.00   \n",
       "24             3717           2,925.00         151          360.00   \n",
       "\n",
       "    CreditHistory PropertyArea  LoanStatus  \n",
       "0            1.00        Urban           1  \n",
       "1            1.00        Rural           0  \n",
       "2            1.00        Urban           1  \n",
       "3            1.00        Urban           1  \n",
       "4            1.00        Urban           1  \n",
       "5            1.00        Urban           1  \n",
       "6            1.00        Urban           1  \n",
       "7            0.00    Semiurban           0  \n",
       "8            1.00        Urban           1  \n",
       "9            1.00    Semiurban           0  \n",
       "10           1.00        Urban           1  \n",
       "11           1.00        Urban           1  \n",
       "12           1.00        Urban           1  \n",
       "13           1.00        Rural           0  \n",
       "14           1.00        Urban           1  \n",
       "15           1.00        Urban           1  \n",
       "16            nan        Urban           1  \n",
       "17           0.00        Urban           0  \n",
       "18           1.00        Rural           0  \n",
       "19           1.00        Urban           1  \n",
       "20           0.00        Urban           0  \n",
       "21           1.00        Urban           1  \n",
       "22           0.00    Semiurban           0  \n",
       "23           0.00        Rural           0  \n",
       "24            nan    Semiurban           0  "
      ]
     },
     "execution_count": 6,
     "metadata": {},
     "output_type": "execute_result"
    }
   ],
   "source": [
    "df.rename(columns={'Loan_ID':'LoanID','Self_Employed':'SelfEmployed','Loan_Amount_Term':'LoanAmountTerm',\n",
    "                   'Credit_History':'CreditHistory','Property_Area':'PropertyArea','Loan_Status':'LoanStatus'},inplace=True)\n",
    "df.head(25)"
   ]
  },
  {
   "cell_type": "code",
   "execution_count": 7,
   "metadata": {},
   "outputs": [
    {
     "data": {
      "text/plain": [
       "LoanID                0\n",
       "Gender               13\n",
       "Married               3\n",
       "Dependents           15\n",
       "Education             0\n",
       "SelfEmployed         32\n",
       "ApplicantIncome       0\n",
       "CoapplicantIncome     0\n",
       "LoanAmount            0\n",
       "LoanAmountTerm       14\n",
       "CreditHistory        50\n",
       "PropertyArea          0\n",
       "LoanStatus            0\n",
       "dtype: int64"
      ]
     },
     "execution_count": 7,
     "metadata": {},
     "output_type": "execute_result"
    }
   ],
   "source": [
    "df.isnull().sum()"
   ]
  },
  {
   "cell_type": "code",
   "execution_count": 8,
   "metadata": {},
   "outputs": [
    {
     "data": {
      "text/plain": [
       "LoanID               614\n",
       "Gender                 2\n",
       "Married                2\n",
       "Dependents             4\n",
       "Education              2\n",
       "SelfEmployed           2\n",
       "ApplicantIncome      505\n",
       "CoapplicantIncome    287\n",
       "LoanAmount           204\n",
       "LoanAmountTerm        10\n",
       "CreditHistory          2\n",
       "PropertyArea           3\n",
       "LoanStatus             2\n",
       "dtype: int64"
      ]
     },
     "execution_count": 8,
     "metadata": {},
     "output_type": "execute_result"
    }
   ],
   "source": [
    "df.nunique()"
   ]
  },
  {
   "cell_type": "code",
   "execution_count": 9,
   "metadata": {},
   "outputs": [
    {
     "data": {
      "text/plain": [
       "LoanID                 0\n",
       "Gender                 0\n",
       "Married                0\n",
       "Dependents             0\n",
       "Education              0\n",
       "SelfEmployed           0\n",
       "ApplicantIncome        0\n",
       "CoapplicantIncome    273\n",
       "LoanAmount            22\n",
       "LoanAmountTerm         0\n",
       "CreditHistory         89\n",
       "PropertyArea           0\n",
       "LoanStatus           192\n",
       "dtype: int64"
      ]
     },
     "execution_count": 9,
     "metadata": {},
     "output_type": "execute_result"
    }
   ],
   "source": [
    "df[df==0].count()"
   ]
  },
  {
   "cell_type": "code",
   "execution_count": 10,
   "metadata": {},
   "outputs": [],
   "source": [
    "# Dropping observations where LoanAmount is zero\n",
    "\n",
    "df.drop(df[df.LoanAmount == 0].index, inplace=True)"
   ]
  },
  {
   "cell_type": "markdown",
   "metadata": {},
   "source": [
    "#### Preparing Data"
   ]
  },
  {
   "cell_type": "code",
   "execution_count": 11,
   "metadata": {},
   "outputs": [],
   "source": [
    "# Imputing null values for Loan Amount Term with mode\n",
    "\n",
    "df1 = df.copy()\n",
    "siTerm =  SimpleImputer(missing_values=np.nan, strategy='most_frequent', copy=False)\n",
    "siTerm.fit(df1[['LoanAmountTerm']])\n",
    "SimpleImputer()\n",
    "df1.LoanAmountTerm = siTerm.transform(df1[['LoanAmountTerm']])"
   ]
  },
  {
   "cell_type": "code",
   "execution_count": 12,
   "metadata": {},
   "outputs": [],
   "source": [
    "# Substituting null values for Married status based on logic on co-applicant information\n",
    "\n",
    "df1.Married[df1.Married.isnull() & (df1.CoapplicantIncome > 0)] = 'Yes'\n",
    "df1.Married[df1.Married.isnull() & (df1.CoapplicantIncome == 0)] = 'No'\n"
   ]
  },
  {
   "cell_type": "code",
   "execution_count": 13,
   "metadata": {},
   "outputs": [],
   "source": [
    "df1.drop(df1[df1.Gender.isnull()].index,inplace=True)"
   ]
  },
  {
   "cell_type": "code",
   "execution_count": 14,
   "metadata": {},
   "outputs": [],
   "source": [
    "df1.drop(df1[df1.Dependents.isnull()].index,inplace=True)"
   ]
  },
  {
   "cell_type": "code",
   "execution_count": 15,
   "metadata": {},
   "outputs": [],
   "source": [
    "df1.drop(df1[df1.SelfEmployed.isnull()].index,inplace=True)"
   ]
  },
  {
   "cell_type": "code",
   "execution_count": 16,
   "metadata": {},
   "outputs": [
    {
     "name": "stdout",
     "output_type": "stream",
     "text": [
      "<class 'pandas.core.frame.DataFrame'>\n",
      "Int64Index: 535 entries, 1 to 613\n",
      "Data columns (total 13 columns):\n",
      "LoanID               535 non-null object\n",
      "Gender               535 non-null object\n",
      "Married              535 non-null object\n",
      "Dependents           535 non-null object\n",
      "Education            535 non-null object\n",
      "SelfEmployed         535 non-null object\n",
      "ApplicantIncome      535 non-null int64\n",
      "CoapplicantIncome    535 non-null float64\n",
      "LoanAmount           535 non-null int64\n",
      "LoanAmountTerm       535 non-null float64\n",
      "CreditHistory        492 non-null float64\n",
      "PropertyArea         535 non-null object\n",
      "LoanStatus           535 non-null int64\n",
      "dtypes: float64(3), int64(3), object(7)\n",
      "memory usage: 58.5+ KB\n"
     ]
    }
   ],
   "source": [
    "df1.info()"
   ]
  },
  {
   "cell_type": "code",
   "execution_count": 17,
   "metadata": {},
   "outputs": [],
   "source": [
    "df1.CoapplicantIncome = df1.CoapplicantIncome.astype('int64')"
   ]
  },
  {
   "cell_type": "code",
   "execution_count": 18,
   "metadata": {},
   "outputs": [],
   "source": [
    "df1 = df1.drop(['LoanID','LoanAmountTerm'],axis=1).copy()"
   ]
  },
  {
   "cell_type": "code",
   "execution_count": 19,
   "metadata": {},
   "outputs": [],
   "source": [
    "df1 = pd.get_dummies(df1)"
   ]
  },
  {
   "cell_type": "code",
   "execution_count": 20,
   "metadata": {},
   "outputs": [
    {
     "data": {
      "text/plain": [
       "ApplicantIncome            0.00\n",
       "CoapplicantIncome          0.00\n",
       "LoanAmount                 0.00\n",
       "CreditHistory            416.00\n",
       "LoanStatus               373.00\n",
       "Gender_Female             99.00\n",
       "Gender_Male              436.00\n",
       "Married_No               186.00\n",
       "Married_Yes              349.00\n",
       "Dependents_0             309.00\n",
       "Dependents_1              91.00\n",
       "Dependents_2              91.00\n",
       "Dependents_3+             44.00\n",
       "Education_Graduate       419.00\n",
       "Education_Not Graduate   116.00\n",
       "SelfEmployed_No          462.00\n",
       "SelfEmployed_Yes          73.00\n",
       "PropertyArea_Rural       157.00\n",
       "PropertyArea_Semiurban   207.00\n",
       "PropertyArea_Urban       171.00\n",
       "dtype: float64"
      ]
     },
     "execution_count": 20,
     "metadata": {},
     "output_type": "execute_result"
    }
   ],
   "source": [
    "df1[df1==1].sum()"
   ]
  },
  {
   "cell_type": "code",
   "execution_count": 21,
   "metadata": {},
   "outputs": [],
   "source": [
    "df1.drop(['Gender_Female','Married_No','Education_Not Graduate','SelfEmployed_Yes'],axis=1,inplace=True)"
   ]
  },
  {
   "cell_type": "code",
   "execution_count": 22,
   "metadata": {},
   "outputs": [],
   "source": [
    "dfy=df1[['LoanStatus']].copy()\n",
    "dfX=df1.drop('LoanStatus',axis=1).copy()\n",
    "\n",
    "dfy.LoanStatus = dfy.LoanStatus.astype('category') \n",
    "for col in dfX.columns[4:,]:\n",
    "    dfX[col] = dfX[col].astype('category')"
   ]
  },
  {
   "cell_type": "code",
   "execution_count": 23,
   "metadata": {},
   "outputs": [
    {
     "name": "stdout",
     "output_type": "stream",
     "text": [
      "<class 'pandas.core.frame.DataFrame'>\n",
      "Int64Index: 535 entries, 1 to 613\n",
      "Data columns (total 15 columns):\n",
      "ApplicantIncome           535 non-null int64\n",
      "CoapplicantIncome         535 non-null int64\n",
      "LoanAmount                535 non-null int64\n",
      "CreditHistory             492 non-null float64\n",
      "Gender_Male               535 non-null category\n",
      "Married_Yes               535 non-null category\n",
      "Dependents_0              535 non-null category\n",
      "Dependents_1              535 non-null category\n",
      "Dependents_2              535 non-null category\n",
      "Dependents_3+             535 non-null category\n",
      "Education_Graduate        535 non-null category\n",
      "SelfEmployed_No           535 non-null category\n",
      "PropertyArea_Rural        535 non-null category\n",
      "PropertyArea_Semiurban    535 non-null category\n",
      "PropertyArea_Urban        535 non-null category\n",
      "dtypes: category(11), float64(1), int64(3)\n",
      "memory usage: 27.7 KB\n"
     ]
    }
   ],
   "source": [
    "dfX.info()"
   ]
  },
  {
   "cell_type": "code",
   "execution_count": null,
   "metadata": {},
   "outputs": [],
   "source": []
  },
  {
   "cell_type": "code",
   "execution_count": 24,
   "metadata": {},
   "outputs": [],
   "source": [
    "dfCH1 = dfX[~dfX.CreditHistory.isnull()].copy()\n",
    "dfCH2 = dfX[dfX.CreditHistory.isnull()].copy()"
   ]
  },
  {
   "cell_type": "code",
   "execution_count": 25,
   "metadata": {},
   "outputs": [],
   "source": [
    "dfCH1y = dfCH1[['CreditHistory']].copy()\n",
    "dfCH1X = dfCH1.drop('CreditHistory',axis=1).copy()\n",
    "\n",
    "dfCH2X = dfCH2.drop('CreditHistory',axis=1).copy()\n"
   ]
  },
  {
   "cell_type": "code",
   "execution_count": 26,
   "metadata": {},
   "outputs": [],
   "source": [
    "dfCH1y.CreditHistory = dfCH1y.CreditHistory.astype('category') "
   ]
  },
  {
   "cell_type": "code",
   "execution_count": 27,
   "metadata": {},
   "outputs": [
    {
     "name": "stdout",
     "output_type": "stream",
     "text": [
      "<class 'pandas.core.frame.DataFrame'>\n",
      "Int64Index: 43 entries, 16 to 583\n",
      "Data columns (total 15 columns):\n",
      "ApplicantIncome           43 non-null int64\n",
      "CoapplicantIncome         43 non-null int64\n",
      "LoanAmount                43 non-null int64\n",
      "CreditHistory             0 non-null float64\n",
      "Gender_Male               43 non-null category\n",
      "Married_Yes               43 non-null category\n",
      "Dependents_0              43 non-null category\n",
      "Dependents_1              43 non-null category\n",
      "Dependents_2              43 non-null category\n",
      "Dependents_3+             43 non-null category\n",
      "Education_Graduate        43 non-null category\n",
      "SelfEmployed_No           43 non-null category\n",
      "PropertyArea_Rural        43 non-null category\n",
      "PropertyArea_Semiurban    43 non-null category\n",
      "PropertyArea_Urban        43 non-null category\n",
      "dtypes: category(11), float64(1), int64(3)\n",
      "memory usage: 3.2 KB\n"
     ]
    }
   ],
   "source": [
    "dfCH2.info()"
   ]
  },
  {
   "cell_type": "code",
   "execution_count": 28,
   "metadata": {
    "scrolled": true
   },
   "outputs": [],
   "source": [
    "# dfCHyX.info()\n",
    "# dfCHy.info()"
   ]
  },
  {
   "cell_type": "code",
   "execution_count": null,
   "metadata": {},
   "outputs": [],
   "source": []
  },
  {
   "cell_type": "code",
   "execution_count": null,
   "metadata": {},
   "outputs": [],
   "source": []
  },
  {
   "cell_type": "code",
   "execution_count": null,
   "metadata": {},
   "outputs": [],
   "source": []
  },
  {
   "cell_type": "code",
   "execution_count": 29,
   "metadata": {},
   "outputs": [],
   "source": [
    "CHX_tr, CHX_ts, CHy_tr, CHy_ts = tts(dfCH1X,dfCH1y,test_size=0.3, random_state=12)"
   ]
  },
  {
   "cell_type": "code",
   "execution_count": 30,
   "metadata": {},
   "outputs": [
    {
     "name": "stdout",
     "output_type": "stream",
     "text": [
      "Training score :  0.8459302325581395\n",
      "Testing score :  0.8581081081081081\n"
     ]
    }
   ],
   "source": [
    "logit.fit(CHX_tr,CHy_tr)\n",
    "print('Training score : ',logit.score(CHX_tr, CHy_tr))\n",
    "\n",
    "logit.fit(CHX_ts,CHy_ts)\n",
    "print('Testing score : ',logit.score(CHX_ts, CHy_ts))"
   ]
  },
  {
   "cell_type": "code",
   "execution_count": 31,
   "metadata": {},
   "outputs": [],
   "source": [
    "dfCH2.CreditHistory = logit.predict(dfCH2X)"
   ]
  },
  {
   "cell_type": "code",
   "execution_count": 32,
   "metadata": {},
   "outputs": [],
   "source": [
    "dfX = dfCH1.append(dfCH2,ignore_index=True)\n",
    "dfX.CreditHistory = dfX.CreditHistory.astype('category')"
   ]
  },
  {
   "cell_type": "code",
   "execution_count": null,
   "metadata": {},
   "outputs": [],
   "source": []
  },
  {
   "cell_type": "code",
   "execution_count": 33,
   "metadata": {},
   "outputs": [],
   "source": [
    "X_tr, X_ts, y_tr, y_ts = tts(dfX,dfy,test_size=0.3, random_state=15)"
   ]
  },
  {
   "cell_type": "code",
   "execution_count": 34,
   "metadata": {},
   "outputs": [
    {
     "name": "stdout",
     "output_type": "stream",
     "text": [
      "Training score :  0.7085561497326203\n",
      "Testing score :  0.7080745341614907\n"
     ]
    }
   ],
   "source": [
    "logit = LogisticRegression(solver='newton-cg',random_state=4294967295,fit_intercept=True)\n",
    "logit.fit(X_tr,y_tr)\n",
    "print('Training score : ',logit.score(X_tr, y_tr))\n",
    "\n",
    "logit.fit(X_ts,y_ts)\n",
    "print('Testing score : ',logit.score(X_ts, y_ts))"
   ]
  },
  {
   "cell_type": "code",
   "execution_count": 35,
   "metadata": {},
   "outputs": [],
   "source": [
    "dfcmpr = y_ts.copy()\n",
    "dfcmpr['Predicted'] = logit.predict(X_ts)"
   ]
  },
  {
   "cell_type": "code",
   "execution_count": 36,
   "metadata": {},
   "outputs": [
    {
     "data": {
      "image/png": "[encoded data removed]",
      "text/plain": [
       "<Figure size 360x216 with 1 Axes>"
      ]
     },
     "metadata": {
      "needs_background": "light"
     },
     "output_type": "display_data"
    }
   ],
   "source": [
    "y_pred = logit.predict(X_ts)\n",
    "cmat = mtr.confusion_matrix(y_ts,y_pred, labels=[1,0])\n",
    "dfcm = pd.DataFrame(cmat, index=['1','0'],columns=['1','0'])\n",
    "plt.figure(figsize=[5,3])\n",
    "sns.set(font_scale=1.2)\n",
    "fig = sns.heatmap(dfcm, annot=True, fmt='d',linewidth=0.5, cbar=False)\n",
    "plt.tick_params(axis='both', which='major', labelbottom = False, bottom=False, top = False, labeltop=True)\n",
    "plt.ylabel('Predicted\\n')\n",
    "plt.show()\n"
   ]
  },
  {
   "cell_type": "code",
   "execution_count": 37,
   "metadata": {},
   "outputs": [
    {
     "name": "stdout",
     "output_type": "stream",
     "text": [
      "Accuracy of the model :  0.7080745341614907\n",
      "Recall of the model :  0.7152317880794702\n",
      "Precision of the model :  0.9642857142857143\n",
      "F1 Score: 0.8212927756653993\n",
      "Roc Auc Score: 0.5433673469387755\n"
     ]
    }
   ],
   "source": [
    "npcm = np.array(cmat)\n",
    "print('Accuracy of the model : ',npcm.trace()/npcm.sum())\n",
    "print('Recall of the model : ',npcm[0,0]/npcm[:,0].sum())\n",
    "print('Precision of the model : ',npcm[0,0]/npcm[0].sum())\n",
    "print(\"F1 Score:\",f1_score(y_ts,y_pred))\n",
    "print(\"Roc Auc Score:\",roc_auc_score(y_ts,y_pred))"
   ]
  },
  {
   "cell_type": "code",
   "execution_count": 38,
   "metadata": {},
   "outputs": [],
   "source": [
    "from sklearn.metrics import confusion_matrix, recall_score, precision_score, f1_score, roc_auc_score,accuracy_score"
   ]
  },
  {
   "cell_type": "code",
   "execution_count": 39,
   "metadata": {},
   "outputs": [
    {
     "data": {
      "image/png": "[encoded data removed]",
      "text/plain": [
       "<Figure size 432x288 with 1 Axes>"
      ]
     },
     "metadata": {},
     "output_type": "display_data"
    }
   ],
   "source": [
    "from sklearn.metrics import roc_auc_score\n",
    "from sklearn.metrics import roc_curve\n",
    "\n",
    "logit_roc_auc = roc_auc_score(y_ts, logit.predict(X_ts))\n",
    "fpr, tpr, thresholds = roc_curve(y_ts, logit.predict_proba(X_ts)[:,1])\n",
    "plt.figure()\n",
    "plt.plot(fpr, tpr, label='Logistic Regression (area = %0.2f)' % logit_roc_auc)\n",
    "plt.plot([0, 1], [0, 1],'r--')\n",
    "plt.xlim([0.0, 1.0])\n",
    "plt.ylim([0.0, 1.05])\n",
    "plt.xlabel('False Positive Rate')\n",
    "plt.ylabel('True Positive Rate')\n",
    "plt.title('Receiver operating characteristic')\n",
    "plt.legend(loc=\"lower right\")\n",
    "plt.savefig('Log_ROC')\n",
    "plt.show()"
   ]
  },
  {
   "cell_type": "code",
   "execution_count": null,
   "metadata": {},
   "outputs": [],
   "source": []
  },
  {
   "cell_type": "code",
   "execution_count": null,
   "metadata": {},
   "outputs": [],
   "source": []
  },
  {
   "cell_type": "code",
   "execution_count": null,
   "metadata": {},
   "outputs": [],
   "source": []
  },
  {
   "cell_type": "code",
   "execution_count": null,
   "metadata": {},
   "outputs": [],
   "source": []
  }
 ],
 "metadata": {
  "kernelspec": {
   "display_name": "Python 3",
   "language": "python",
   "name": "python3"
  },
  "language_info": {
   "codemirror_mode": {
    "name": "ipython",
    "version": 3
   },
   "file_extension": ".py",
   "mimetype": "text/x-python",
   "name": "python",
   "nbconvert_exporter": "python",
   "pygments_lexer": "ipython3",
   "version": "3.7.3"
  }
 },
 "nbformat": 4,
 "nbformat_minor": 4
}
