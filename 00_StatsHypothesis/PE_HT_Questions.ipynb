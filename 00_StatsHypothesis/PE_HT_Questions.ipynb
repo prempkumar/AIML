{
 "cells": [
  {
   "cell_type": "markdown",
   "metadata": {},
   "source": [
    "# 1. You are a manager of a chinese restaurant. You want to determine whether the waiting time to place an order has changed in the past month from its previous population mean value of 4.5 minutes. State the null and alternative hypothesis."
   ]
  },
  {
   "cell_type": "markdown",
   "metadata": {},
   "source": [
    "Null Hypothesis(Ho) : Waiting time has'nt changed : $\\mu_1 = \\mu_o = 4.5 $ \n",
    "<br/>\n",
    "Alternate Hypothesis (Ha) : Waiting time has changed : $\\mu_1 \\neq 4.5$  "
   ]
  },
  {
   "cell_type": "markdown",
   "metadata": {},
   "source": [
    "# 2. Summarize the p- value Approach to hypothesis testing."
   ]
  },
  {
   "cell_type": "code",
   "execution_count": null,
   "metadata": {},
   "outputs": [],
   "source": []
  },
  {
   "cell_type": "markdown",
   "metadata": {},
   "source": [
    "# 3. If you use a 0.05 level of significance in a two-tail hypothesis test. What decision will you make if Zstat = +2.21?"
   ]
  },
  {
   "cell_type": "markdown",
   "metadata": {},
   "source": [
    "Zstat for 0.05 level of significance is 1.96for two-tail test. Hence the null hypothesis will have to be rejected"
   ]
  },
  {
   "cell_type": "markdown",
   "metadata": {},
   "source": [
    "# 4. If you use a 0.01 level of significance in a two tail hypothesis test, what is your decision rule for rejecting H0: µ = 12.5 if you use the Z test?"
   ]
  },
  {
   "cell_type": "markdown",
   "metadata": {},
   "source": [
    "For two-tail hypothesis with 0.01 level of significance, the decision rule would be Zstat exceeding $\\pm2.576$"
   ]
  },
  {
   "cell_type": "markdown",
   "metadata": {},
   "source": [
    "# 5. What is the p value if, in a two-tail hypothesis test, Zstat = +2.00?"
   ]
  },
  {
   "cell_type": "markdown",
   "metadata": {},
   "source": [
    "pvalue = 0.0455"
   ]
  },
  {
   "cell_type": "markdown",
   "metadata": {},
   "source": [
    "# 6a. Samy, Product Manager of K2 Jeans, wants to Launch a product line into a new market area.Survey of random sample of 400 households in that market showed a mean income per household of 30000 rupees. Standard deviation based on earlier pilot study of households is 8000 rupees. Samy strongly believes the product line will be adequately profitable only in markets where the mean household income is greater than 29000 rupees Samy wants our help in deciding whether the product line should be introduced in the New market? \n",
    "Based on statistical analysis what would be your recommendation? Give your insights."
   ]
  },
  {
   "cell_type": "markdown",
   "metadata": {},
   "source": [
    "$H_o$ = Household mean income is equal to 29,000 <br/> \n",
    "$H_a$ = Household mean income is more than 29,000 <br/><br/>\n",
    "Single-tail Hypothesis Test <br/>\n",
    "With no explicit ask, it is assumed the $\\alpha$ can be assumed to be 0.05 (95% confidence level) <br/>\n",
    "\n",
    "\n",
    "$$ z = \\frac{\\bar{x} - \\mu}{\\frac{\\sigma}{\\sqrt n}} $$\n",
    "\n",
    "$ \\bar{x} = 30000 $\n",
    "$ \\mu = 29000 $\n",
    "$ \\sigma = 8000 $\n",
    "$ n = 400 $"
   ]
  },
  {
   "cell_type": "code",
   "execution_count": 1,
   "metadata": {},
   "outputs": [
    {
     "data": {
      "text/plain": [
       "2.5"
      ]
     },
     "execution_count": 1,
     "metadata": {},
     "output_type": "execute_result"
    }
   ],
   "source": [
    "import numpy as np\n",
    "\n",
    "xb = 30000\n",
    "mu = 29000\n",
    "sg = 8000\n",
    "n = 400\n",
    "z= (xb-mu)/(sg/np.sqrt(n))\n",
    "z"
   ]
  },
  {
   "cell_type": "markdown",
   "metadata": {},
   "source": [
    "For a z of 2.5, the p-value = 1 - 0.9938 (from z-table) = 0.0062 <br/>\n",
    "\n",
    "Interpretation : The probability of errors in rejecting the Null Hypothesis is 0.0062 - which would also mean, the confidence in rejecting the Null Hypothesis is 99.38% and hence we can conclude the Household mean income is > 29,000 \n"
   ]
  },
  {
   "cell_type": "markdown",
   "metadata": {},
   "source": [
    "# 6b. A bottled water distributor wants to determine whether the mean amount of water contained in 1- gallon bottles purchased from a nationality known water bottling company is actually 1 gallon. You know from the water bottle company specifications that the standard deviation of the amount of water per bottle is 0.02 gallon. You select a random sample of 50 bottles, and the mean amount of water per gallon bottle is 0.995 gallon.\n",
    "\n",
    "a) Is there evidence that the mean amount is different from 1.0 gallon?(Use α = 0.01)\n",
    "\n",
    "b) Construct a 99% confidence interval estimate of the population mean amount of water per bottle.\n",
    "\n",
    "c) Compare the results of a and b. What conclusions do you reach?"
   ]
  },
  {
   "cell_type": "markdown",
   "metadata": {},
   "source": [
    "$H_o$ = mean volume is 1 gallon <br/> \n",
    "$H_a$ = mean volume is not equal to 1 gallon <br/><br/>\n",
    "Two-tail Hypothesis Test <br/>\n",
    "$\\alpha$ is 0.01 (99% confidence level) <br/>\n",
    "\n",
    "\n",
    "$$ z = \\frac{\\bar{X} - \\mu}{\\frac{\\sigma}{\\sqrt n}} $$\n",
    "$ \\bar{X} = 1 $ <br/>\n",
    "$ \\mu = 0.995 $ <br/>\n",
    "$ \\sigma = 0.02 $ <br/>\n",
    "$ n = 50 $ <br/>\n",
    "\n",
    "$$ CI = \\bar{X} \\pm Z_{\\frac{\\alpha}{2}}{\\frac{\\sigma}{\\sqrt n}} $$\n",
    "CI = Confidence Interval <br/>\n",
    "$ \\bar{X} = 1 $ <br/>\n",
    "$ \\alpha = 0.01 $ <br/>\n",
    "$ Z_{\\frac{\\alpha}{2}} = 2.576 $ <br/>\n",
    "$ \\sigma = 0.02 $ <br/>\n",
    "$ n = 50 $ <br/>\n"
   ]
  },
  {
   "cell_type": "code",
   "execution_count": 2,
   "metadata": {},
   "outputs": [
    {
     "name": "stdout",
     "output_type": "stream",
     "text": [
      "Z for the sample with mean 0.995 :  -1.77\n",
      "Confidence interval for Xbar :  0.9877139717266538  to  1.0022860282733461\n"
     ]
    }
   ],
   "source": [
    "xb = 0.995\n",
    "mu = 1\n",
    "sg = 0.02\n",
    "n = 50\n",
    "z= (xb-mu)/(sg/np.sqrt(n))\n",
    "print('Z for the sample with mean 0.995 : ','{:.2f}'.format(z))\n",
    "\n",
    "z_a =2.576\n",
    "ci = z_a*(sg/np.sqrt(n))\n",
    "print('Confidence interval for Xbar : ',xb-ci,' to ',xb+ci)"
   ]
  },
  {
   "cell_type": "markdown",
   "metadata": {},
   "source": [
    "a) For a z of 1.77, the p-value = 1 - 0.9616 (from z-table) = 0.0384 <br/><br/>\n",
    "Interpretation : The probability of errors in rejecting the Null Hypothesis is 0.0384 - which would also mean, the confidence in rejecting the Null Hypothesis is 96.16% and the ask is for a confidence level of 99% hence we cannot reject the null hypothesis so the mean volume is 1 gallon. <br/>\n",
    "\n",
    "b) 99% Confidence interval estimate of the population mean amount is 0.9877 to 1.0023 gallons\n",
    "\n",
    "c) Results are the same with both approaches"
   ]
  },
  {
   "cell_type": "markdown",
   "metadata": {},
   "source": [
    "# 7.  If in sample of n = 16 selected from a normal population, Xbar = 56 and S = 12, what is the value of tstat if you are testing the null hypothesis Ho : µ = 50?"
   ]
  },
  {
   "cell_type": "markdown",
   "metadata": {},
   "source": [
    "$$ z = \\frac{\\bar{X} - \\mu}{\\frac{S}{\\sqrt n}} $$ \n",
    "$ \\bar{X} = 56 $ <br/>\n",
    "$ \\mu = 50 $ <br/>\n",
    "$ S = 12 $ <br/>\n",
    "$ n = 16 $ <br/>"
   ]
  },
  {
   "cell_type": "code",
   "execution_count": 3,
   "metadata": {},
   "outputs": [
    {
     "name": "stdout",
     "output_type": "stream",
     "text": [
      "T-Stat :  2.00\n"
     ]
    }
   ],
   "source": [
    "xb = 56\n",
    "mu = 50\n",
    "s = 12\n",
    "n = 16\n",
    "z= (xb-mu)/(s/np.sqrt(n))\n",
    "print('T-Stat : ','{:.2f}'.format(z))"
   ]
  },
  {
   "cell_type": "markdown",
   "metadata": {},
   "source": [
    "# 8. If in a sample of n  = 16 selected from a left-skewed population, Xbar = 65 and S =12, would you use the t test to test the null hypothesis H0: µ =60? Discuss."
   ]
  },
  {
   "cell_type": "code",
   "execution_count": null,
   "metadata": {},
   "outputs": [],
   "source": []
  },
  {
   "cell_type": "markdown",
   "metadata": {},
   "source": [
    "# 9. Calculate Paired t test using python"
   ]
  },
  {
   "cell_type": "markdown",
   "metadata": {},
   "source": [
    "# The file Concrete.csv contains the compressive strength, in thousands • of pounds per square inch (psi), of 40 samples of concrete taken two and seven days after pouring. (Data extracted from O. CarrilloGamboa and R. F. Gunst, “Measurement – Error – Model Collinearities”, Technometrics, 34 (1992): 454 – 464.)"
   ]
  },
  {
   "cell_type": "markdown",
   "metadata": {},
   "source": [
    "# At the 0.01 level of significance, is there evidence that the means strength is lower at two days than at seven days?"
   ]
  },
  {
   "cell_type": "code",
   "execution_count": 4,
   "metadata": {},
   "outputs": [
    {
     "data": {
      "text/html": [
       "<div>\n",
       "<style scoped>\n",
       "    .dataframe tbody tr th:only-of-type {\n",
       "        vertical-align: middle;\n",
       "    }\n",
       "\n",
       "    .dataframe tbody tr th {\n",
       "        vertical-align: top;\n",
       "    }\n",
       "\n",
       "    .dataframe thead th {\n",
       "        text-align: right;\n",
       "    }\n",
       "</style>\n",
       "<table border=\"1\" class=\"dataframe\">\n",
       "  <thead>\n",
       "    <tr style=\"text-align: right;\">\n",
       "      <th></th>\n",
       "      <th>TwoDays</th>\n",
       "      <th>SevenDays</th>\n",
       "    </tr>\n",
       "    <tr>\n",
       "      <th>Sample</th>\n",
       "      <th></th>\n",
       "      <th></th>\n",
       "    </tr>\n",
       "  </thead>\n",
       "  <tbody>\n",
       "    <tr>\n",
       "      <th>1</th>\n",
       "      <td>2.830</td>\n",
       "      <td>3.505</td>\n",
       "    </tr>\n",
       "    <tr>\n",
       "      <th>2</th>\n",
       "      <td>3.295</td>\n",
       "      <td>3.430</td>\n",
       "    </tr>\n",
       "    <tr>\n",
       "      <th>3</th>\n",
       "      <td>2.710</td>\n",
       "      <td>3.670</td>\n",
       "    </tr>\n",
       "    <tr>\n",
       "      <th>4</th>\n",
       "      <td>2.855</td>\n",
       "      <td>3.355</td>\n",
       "    </tr>\n",
       "    <tr>\n",
       "      <th>5</th>\n",
       "      <td>2.980</td>\n",
       "      <td>3.985</td>\n",
       "    </tr>\n",
       "    <tr>\n",
       "      <th>6</th>\n",
       "      <td>3.065</td>\n",
       "      <td>3.630</td>\n",
       "    </tr>\n",
       "    <tr>\n",
       "      <th>7</th>\n",
       "      <td>3.765</td>\n",
       "      <td>4.570</td>\n",
       "    </tr>\n",
       "    <tr>\n",
       "      <th>8</th>\n",
       "      <td>3.265</td>\n",
       "      <td>3.700</td>\n",
       "    </tr>\n",
       "    <tr>\n",
       "      <th>9</th>\n",
       "      <td>3.170</td>\n",
       "      <td>3.660</td>\n",
       "    </tr>\n",
       "    <tr>\n",
       "      <th>10</th>\n",
       "      <td>2.895</td>\n",
       "      <td>3.250</td>\n",
       "    </tr>\n",
       "  </tbody>\n",
       "</table>\n",
       "</div>"
      ],
      "text/plain": [
       "        TwoDays  SevenDays\n",
       "Sample                    \n",
       "1         2.830      3.505\n",
       "2         3.295      3.430\n",
       "3         2.710      3.670\n",
       "4         2.855      3.355\n",
       "5         2.980      3.985\n",
       "6         3.065      3.630\n",
       "7         3.765      4.570\n",
       "8         3.265      3.700\n",
       "9         3.170      3.660\n",
       "10        2.895      3.250"
      ]
     },
     "execution_count": 4,
     "metadata": {},
     "output_type": "execute_result"
    }
   ],
   "source": [
    "import pandas as pd\n",
    "\n",
    "df = pd.read_csv('Concrete.csv')\n",
    "df.set_index('Sample',inplace=True)\n",
    "df.head(10)"
   ]
  },
  {
   "cell_type": "code",
   "execution_count": 15,
   "metadata": {},
   "outputs": [],
   "source": [
    "df['diffr'] = (df.SevenDays-df.TwoDays)"
   ]
  },
  {
   "cell_type": "code",
   "execution_count": 16,
   "metadata": {},
   "outputs": [
    {
     "data": {
      "text/html": [
       "<div>\n",
       "<style scoped>\n",
       "    .dataframe tbody tr th:only-of-type {\n",
       "        vertical-align: middle;\n",
       "    }\n",
       "\n",
       "    .dataframe tbody tr th {\n",
       "        vertical-align: top;\n",
       "    }\n",
       "\n",
       "    .dataframe thead th {\n",
       "        text-align: right;\n",
       "    }\n",
       "</style>\n",
       "<table border=\"1\" class=\"dataframe\">\n",
       "  <thead>\n",
       "    <tr style=\"text-align: right;\">\n",
       "      <th></th>\n",
       "      <th>TwoDays</th>\n",
       "      <th>SevenDays</th>\n",
       "      <th>diff</th>\n",
       "      <th>diffr</th>\n",
       "    </tr>\n",
       "    <tr>\n",
       "      <th>Sample</th>\n",
       "      <th></th>\n",
       "      <th></th>\n",
       "      <th></th>\n",
       "      <th></th>\n",
       "    </tr>\n",
       "  </thead>\n",
       "  <tbody>\n",
       "    <tr>\n",
       "      <th>1</th>\n",
       "      <td>2.830</td>\n",
       "      <td>3.505</td>\n",
       "      <td>0.675</td>\n",
       "      <td>0.675</td>\n",
       "    </tr>\n",
       "    <tr>\n",
       "      <th>2</th>\n",
       "      <td>3.295</td>\n",
       "      <td>3.430</td>\n",
       "      <td>0.135</td>\n",
       "      <td>0.135</td>\n",
       "    </tr>\n",
       "    <tr>\n",
       "      <th>3</th>\n",
       "      <td>2.710</td>\n",
       "      <td>3.670</td>\n",
       "      <td>0.960</td>\n",
       "      <td>0.960</td>\n",
       "    </tr>\n",
       "    <tr>\n",
       "      <th>4</th>\n",
       "      <td>2.855</td>\n",
       "      <td>3.355</td>\n",
       "      <td>0.500</td>\n",
       "      <td>0.500</td>\n",
       "    </tr>\n",
       "    <tr>\n",
       "      <th>5</th>\n",
       "      <td>2.980</td>\n",
       "      <td>3.985</td>\n",
       "      <td>1.005</td>\n",
       "      <td>1.005</td>\n",
       "    </tr>\n",
       "    <tr>\n",
       "      <th>6</th>\n",
       "      <td>3.065</td>\n",
       "      <td>3.630</td>\n",
       "      <td>0.565</td>\n",
       "      <td>0.565</td>\n",
       "    </tr>\n",
       "    <tr>\n",
       "      <th>7</th>\n",
       "      <td>3.765</td>\n",
       "      <td>4.570</td>\n",
       "      <td>0.805</td>\n",
       "      <td>0.805</td>\n",
       "    </tr>\n",
       "    <tr>\n",
       "      <th>8</th>\n",
       "      <td>3.265</td>\n",
       "      <td>3.700</td>\n",
       "      <td>0.435</td>\n",
       "      <td>0.435</td>\n",
       "    </tr>\n",
       "    <tr>\n",
       "      <th>9</th>\n",
       "      <td>3.170</td>\n",
       "      <td>3.660</td>\n",
       "      <td>0.490</td>\n",
       "      <td>0.490</td>\n",
       "    </tr>\n",
       "    <tr>\n",
       "      <th>10</th>\n",
       "      <td>2.895</td>\n",
       "      <td>3.250</td>\n",
       "      <td>0.355</td>\n",
       "      <td>0.355</td>\n",
       "    </tr>\n",
       "    <tr>\n",
       "      <th>11</th>\n",
       "      <td>2.630</td>\n",
       "      <td>2.850</td>\n",
       "      <td>0.220</td>\n",
       "      <td>0.220</td>\n",
       "    </tr>\n",
       "    <tr>\n",
       "      <th>12</th>\n",
       "      <td>2.830</td>\n",
       "      <td>3.340</td>\n",
       "      <td>0.510</td>\n",
       "      <td>0.510</td>\n",
       "    </tr>\n",
       "    <tr>\n",
       "      <th>13</th>\n",
       "      <td>2.935</td>\n",
       "      <td>3.630</td>\n",
       "      <td>0.695</td>\n",
       "      <td>0.695</td>\n",
       "    </tr>\n",
       "    <tr>\n",
       "      <th>14</th>\n",
       "      <td>3.115</td>\n",
       "      <td>3.675</td>\n",
       "      <td>0.560</td>\n",
       "      <td>0.560</td>\n",
       "    </tr>\n",
       "    <tr>\n",
       "      <th>15</th>\n",
       "      <td>2.985</td>\n",
       "      <td>3.475</td>\n",
       "      <td>0.490</td>\n",
       "      <td>0.490</td>\n",
       "    </tr>\n",
       "    <tr>\n",
       "      <th>16</th>\n",
       "      <td>3.135</td>\n",
       "      <td>3.605</td>\n",
       "      <td>0.470</td>\n",
       "      <td>0.470</td>\n",
       "    </tr>\n",
       "    <tr>\n",
       "      <th>17</th>\n",
       "      <td>2.750</td>\n",
       "      <td>3.250</td>\n",
       "      <td>0.500</td>\n",
       "      <td>0.500</td>\n",
       "    </tr>\n",
       "    <tr>\n",
       "      <th>18</th>\n",
       "      <td>3.205</td>\n",
       "      <td>3.540</td>\n",
       "      <td>0.335</td>\n",
       "      <td>0.335</td>\n",
       "    </tr>\n",
       "    <tr>\n",
       "      <th>19</th>\n",
       "      <td>3.000</td>\n",
       "      <td>4.005</td>\n",
       "      <td>1.005</td>\n",
       "      <td>1.005</td>\n",
       "    </tr>\n",
       "    <tr>\n",
       "      <th>20</th>\n",
       "      <td>3.035</td>\n",
       "      <td>3.595</td>\n",
       "      <td>0.560</td>\n",
       "      <td>0.560</td>\n",
       "    </tr>\n",
       "    <tr>\n",
       "      <th>21</th>\n",
       "      <td>1.635</td>\n",
       "      <td>2.275</td>\n",
       "      <td>0.640</td>\n",
       "      <td>0.640</td>\n",
       "    </tr>\n",
       "    <tr>\n",
       "      <th>22</th>\n",
       "      <td>2.270</td>\n",
       "      <td>3.910</td>\n",
       "      <td>1.640</td>\n",
       "      <td>1.640</td>\n",
       "    </tr>\n",
       "    <tr>\n",
       "      <th>23</th>\n",
       "      <td>2.895</td>\n",
       "      <td>2.915</td>\n",
       "      <td>0.020</td>\n",
       "      <td>0.020</td>\n",
       "    </tr>\n",
       "    <tr>\n",
       "      <th>24</th>\n",
       "      <td>2.845</td>\n",
       "      <td>4.530</td>\n",
       "      <td>1.685</td>\n",
       "      <td>1.685</td>\n",
       "    </tr>\n",
       "    <tr>\n",
       "      <th>25</th>\n",
       "      <td>2.205</td>\n",
       "      <td>2.280</td>\n",
       "      <td>0.075</td>\n",
       "      <td>0.075</td>\n",
       "    </tr>\n",
       "    <tr>\n",
       "      <th>26</th>\n",
       "      <td>3.590</td>\n",
       "      <td>3.915</td>\n",
       "      <td>0.325</td>\n",
       "      <td>0.325</td>\n",
       "    </tr>\n",
       "    <tr>\n",
       "      <th>27</th>\n",
       "      <td>3.080</td>\n",
       "      <td>3.140</td>\n",
       "      <td>0.060</td>\n",
       "      <td>0.060</td>\n",
       "    </tr>\n",
       "    <tr>\n",
       "      <th>28</th>\n",
       "      <td>3.335</td>\n",
       "      <td>3.580</td>\n",
       "      <td>0.245</td>\n",
       "      <td>0.245</td>\n",
       "    </tr>\n",
       "    <tr>\n",
       "      <th>29</th>\n",
       "      <td>3.800</td>\n",
       "      <td>4.070</td>\n",
       "      <td>0.270</td>\n",
       "      <td>0.270</td>\n",
       "    </tr>\n",
       "    <tr>\n",
       "      <th>30</th>\n",
       "      <td>2.680</td>\n",
       "      <td>3.805</td>\n",
       "      <td>1.125</td>\n",
       "      <td>1.125</td>\n",
       "    </tr>\n",
       "    <tr>\n",
       "      <th>31</th>\n",
       "      <td>3.760</td>\n",
       "      <td>4.130</td>\n",
       "      <td>0.370</td>\n",
       "      <td>0.370</td>\n",
       "    </tr>\n",
       "    <tr>\n",
       "      <th>32</th>\n",
       "      <td>3.605</td>\n",
       "      <td>3.720</td>\n",
       "      <td>0.115</td>\n",
       "      <td>0.115</td>\n",
       "    </tr>\n",
       "    <tr>\n",
       "      <th>33</th>\n",
       "      <td>2.005</td>\n",
       "      <td>2.690</td>\n",
       "      <td>0.685</td>\n",
       "      <td>0.685</td>\n",
       "    </tr>\n",
       "    <tr>\n",
       "      <th>34</th>\n",
       "      <td>2.495</td>\n",
       "      <td>3.230</td>\n",
       "      <td>0.735</td>\n",
       "      <td>0.735</td>\n",
       "    </tr>\n",
       "    <tr>\n",
       "      <th>35</th>\n",
       "      <td>3.205</td>\n",
       "      <td>3.590</td>\n",
       "      <td>0.385</td>\n",
       "      <td>0.385</td>\n",
       "    </tr>\n",
       "    <tr>\n",
       "      <th>36</th>\n",
       "      <td>2.060</td>\n",
       "      <td>2.945</td>\n",
       "      <td>0.885</td>\n",
       "      <td>0.885</td>\n",
       "    </tr>\n",
       "    <tr>\n",
       "      <th>37</th>\n",
       "      <td>3.425</td>\n",
       "      <td>4.030</td>\n",
       "      <td>0.605</td>\n",
       "      <td>0.605</td>\n",
       "    </tr>\n",
       "    <tr>\n",
       "      <th>38</th>\n",
       "      <td>3.315</td>\n",
       "      <td>3.685</td>\n",
       "      <td>0.370</td>\n",
       "      <td>0.370</td>\n",
       "    </tr>\n",
       "    <tr>\n",
       "      <th>39</th>\n",
       "      <td>3.825</td>\n",
       "      <td>4.175</td>\n",
       "      <td>0.350</td>\n",
       "      <td>0.350</td>\n",
       "    </tr>\n",
       "    <tr>\n",
       "      <th>40</th>\n",
       "      <td>3.160</td>\n",
       "      <td>3.430</td>\n",
       "      <td>0.270</td>\n",
       "      <td>0.270</td>\n",
       "    </tr>\n",
       "  </tbody>\n",
       "</table>\n",
       "</div>"
      ],
      "text/plain": [
       "        TwoDays  SevenDays   diff  diffr\n",
       "Sample                                  \n",
       "1         2.830      3.505  0.675  0.675\n",
       "2         3.295      3.430  0.135  0.135\n",
       "3         2.710      3.670  0.960  0.960\n",
       "4         2.855      3.355  0.500  0.500\n",
       "5         2.980      3.985  1.005  1.005\n",
       "6         3.065      3.630  0.565  0.565\n",
       "7         3.765      4.570  0.805  0.805\n",
       "8         3.265      3.700  0.435  0.435\n",
       "9         3.170      3.660  0.490  0.490\n",
       "10        2.895      3.250  0.355  0.355\n",
       "11        2.630      2.850  0.220  0.220\n",
       "12        2.830      3.340  0.510  0.510\n",
       "13        2.935      3.630  0.695  0.695\n",
       "14        3.115      3.675  0.560  0.560\n",
       "15        2.985      3.475  0.490  0.490\n",
       "16        3.135      3.605  0.470  0.470\n",
       "17        2.750      3.250  0.500  0.500\n",
       "18        3.205      3.540  0.335  0.335\n",
       "19        3.000      4.005  1.005  1.005\n",
       "20        3.035      3.595  0.560  0.560\n",
       "21        1.635      2.275  0.640  0.640\n",
       "22        2.270      3.910  1.640  1.640\n",
       "23        2.895      2.915  0.020  0.020\n",
       "24        2.845      4.530  1.685  1.685\n",
       "25        2.205      2.280  0.075  0.075\n",
       "26        3.590      3.915  0.325  0.325\n",
       "27        3.080      3.140  0.060  0.060\n",
       "28        3.335      3.580  0.245  0.245\n",
       "29        3.800      4.070  0.270  0.270\n",
       "30        2.680      3.805  1.125  1.125\n",
       "31        3.760      4.130  0.370  0.370\n",
       "32        3.605      3.720  0.115  0.115\n",
       "33        2.005      2.690  0.685  0.685\n",
       "34        2.495      3.230  0.735  0.735\n",
       "35        3.205      3.590  0.385  0.385\n",
       "36        2.060      2.945  0.885  0.885\n",
       "37        3.425      4.030  0.605  0.605\n",
       "38        3.315      3.685  0.370  0.370\n",
       "39        3.825      4.175  0.350  0.350\n",
       "40        3.160      3.430  0.270  0.270"
      ]
     },
     "execution_count": 16,
     "metadata": {},
     "output_type": "execute_result"
    }
   ],
   "source": [
    "df"
   ]
  },
  {
   "cell_type": "code",
   "execution_count": 7,
   "metadata": {},
   "outputs": [],
   "source": [
    "import matplotlib.pyplot as plt\n",
    "%matplotlib inline\n",
    "\n",
    "import seaborn as sns"
   ]
  },
  {
   "cell_type": "code",
   "execution_count": 8,
   "metadata": {},
   "outputs": [
    {
     "data": {
      "text/html": [
       "<div>\n",
       "<style scoped>\n",
       "    .dataframe tbody tr th:only-of-type {\n",
       "        vertical-align: middle;\n",
       "    }\n",
       "\n",
       "    .dataframe tbody tr th {\n",
       "        vertical-align: top;\n",
       "    }\n",
       "\n",
       "    .dataframe thead th {\n",
       "        text-align: right;\n",
       "    }\n",
       "</style>\n",
       "<table border=\"1\" class=\"dataframe\">\n",
       "  <thead>\n",
       "    <tr style=\"text-align: right;\">\n",
       "      <th></th>\n",
       "      <th>TwoDays</th>\n",
       "      <th>SevenDays</th>\n",
       "      <th>diff</th>\n",
       "    </tr>\n",
       "  </thead>\n",
       "  <tbody>\n",
       "    <tr>\n",
       "      <th>count</th>\n",
       "      <td>40.000000</td>\n",
       "      <td>40.000000</td>\n",
       "      <td>40.000000</td>\n",
       "    </tr>\n",
       "    <tr>\n",
       "      <th>mean</th>\n",
       "      <td>2.991000</td>\n",
       "      <td>3.544125</td>\n",
       "      <td>0.553125</td>\n",
       "    </tr>\n",
       "    <tr>\n",
       "      <th>std</th>\n",
       "      <td>0.496086</td>\n",
       "      <td>0.503577</td>\n",
       "      <td>0.373265</td>\n",
       "    </tr>\n",
       "    <tr>\n",
       "      <th>min</th>\n",
       "      <td>1.635000</td>\n",
       "      <td>2.275000</td>\n",
       "      <td>0.020000</td>\n",
       "    </tr>\n",
       "    <tr>\n",
       "      <th>25%</th>\n",
       "      <td>2.810000</td>\n",
       "      <td>3.317500</td>\n",
       "      <td>0.332500</td>\n",
       "    </tr>\n",
       "    <tr>\n",
       "      <th>50%</th>\n",
       "      <td>3.017500</td>\n",
       "      <td>3.600000</td>\n",
       "      <td>0.495000</td>\n",
       "    </tr>\n",
       "    <tr>\n",
       "      <th>75%</th>\n",
       "      <td>3.272500</td>\n",
       "      <td>3.831250</td>\n",
       "      <td>0.687500</td>\n",
       "    </tr>\n",
       "    <tr>\n",
       "      <th>max</th>\n",
       "      <td>3.825000</td>\n",
       "      <td>4.570000</td>\n",
       "      <td>1.685000</td>\n",
       "    </tr>\n",
       "  </tbody>\n",
       "</table>\n",
       "</div>"
      ],
      "text/plain": [
       "         TwoDays  SevenDays       diff\n",
       "count  40.000000  40.000000  40.000000\n",
       "mean    2.991000   3.544125   0.553125\n",
       "std     0.496086   0.503577   0.373265\n",
       "min     1.635000   2.275000   0.020000\n",
       "25%     2.810000   3.317500   0.332500\n",
       "50%     3.017500   3.600000   0.495000\n",
       "75%     3.272500   3.831250   0.687500\n",
       "max     3.825000   4.570000   1.685000"
      ]
     },
     "execution_count": 8,
     "metadata": {},
     "output_type": "execute_result"
    }
   ],
   "source": [
    "df.describe()"
   ]
  },
  {
   "cell_type": "code",
   "execution_count": 10,
   "metadata": {},
   "outputs": [
    {
     "name": "stdout",
     "output_type": "stream",
     "text": [
      "<class 'pandas.core.frame.DataFrame'>\n",
      "Int64Index: 40 entries, 1 to 40\n",
      "Data columns (total 3 columns):\n",
      "TwoDays      40 non-null float64\n",
      "SevenDays    40 non-null float64\n",
      "diff         40 non-null float64\n",
      "dtypes: float64(3)\n",
      "memory usage: 1.2 KB\n"
     ]
    }
   ],
   "source": [
    "df.info()"
   ]
  },
  {
   "cell_type": "code",
   "execution_count": 17,
   "metadata": {},
   "outputs": [
    {
     "data": {
      "image/png": "[encoded data removed]",
      "text/plain": [
       "<Figure size 432x288 with 1 Axes>"
      ]
     },
     "metadata": {
      "needs_background": "light"
     },
     "output_type": "display_data"
    }
   ],
   "source": [
    "sns.distplot(df.diffr);"
   ]
  },
  {
   "cell_type": "code",
   "execution_count": 18,
   "metadata": {},
   "outputs": [
    {
     "name": "stdout",
     "output_type": "stream",
     "text": [
      "\n",
      " The t-statistic is 9.372 and the p-value is 0.000.\n"
     ]
    }
   ],
   "source": [
    "import scipy.stats as st\n",
    "\n",
    "two_sample = st.ttest_rel(df.SevenDays, df.TwoDays)\n",
    "print(\"\\n The t-statistic is %.3f and the p-value is %.3f.\" % two_sample)"
   ]
  },
  {
   "cell_type": "code",
   "execution_count": 19,
   "metadata": {},
   "outputs": [
    {
     "name": "stdout",
     "output_type": "stream",
     "text": [
      "The t-statistic is 9.372 and the p-value is 0.000.\n"
     ]
    }
   ],
   "source": [
    "one_sample = st.ttest_1samp(df.diffr, 0)\n",
    "print(\"The t-statistic is %.3f and the p-value is %.3f.\" % one_sample)"
   ]
  },
  {
   "cell_type": "code",
   "execution_count": null,
   "metadata": {},
   "outputs": [],
   "source": []
  }
 ],
 "metadata": {
  "kernelspec": {
   "display_name": "Python 3",
   "language": "python",
   "name": "python3"
  },
  "language_info": {
   "codemirror_mode": {
    "name": "ipython",
    "version": 3
   },
   "file_extension": ".py",
   "mimetype": "text/x-python",
   "name": "python",
   "nbconvert_exporter": "python",
   "pygments_lexer": "ipython3",
   "version": "3.7.3"
  }
 },
 "nbformat": 4,
 "nbformat_minor": 2
}
