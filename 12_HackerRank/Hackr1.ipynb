{
 "cells": [
  {
   "cell_type": "markdown",
   "metadata": {},
   "source": [
    "### Task\n",
    "Given an integer,n, perform the following conditional actions:\n",
    "\n",
    "If  is odd, print Weird\n",
    "If  is even and in the inclusive range of  to , print Not Weird\n",
    "If  is even and in the inclusive range of  to , print Weird\n",
    "If  is even and greater than , print Not Weird\n",
    "\n",
    "##### Input Format\n",
    "A single line containing a positive integer, .\n",
    "\n",
    "##### Constraints\n",
    "$1<=n<=100$\n",
    "\n",
    "##### Output Format\n",
    "Print 'Weird' if the number is weird. Otherwise, print 'Not Weird'.\n"
   ]
  },
  {
   "cell_type": "code",
   "execution_count": null,
   "metadata": {},
   "outputs": [],
   "source": [
    "# \n",
    "n = int(input(\"Enter an integer between 1 and 100 inclusive : \"))\n",
    "\n",
    "if(n<1 or n>100):\n",
    "    print(\"Invalid number\")\n",
    "elif (n%2 == 1):\n",
    "    print(\"Weird\")\n",
    "elif (n>=2 and n<=5):\n",
    "    print(\"Not Weird\")\n",
    "elif (n>=6 and n<=20):\n",
    "    print(\"Weird\")\n",
    "else:\n",
    "    print(\"Not Weird\")"
   ]
  },
  {
   "cell_type": "markdown",
   "metadata": {},
   "source": [
    "### Task\n",
    "For two integers from STDIN, a and b, add code to print three lines where:\n",
    "\n",
    "The first line contains the sum of the two numbers.\n",
    "The second line contains the difference of the two numbers (first - second).\n",
    "The third line contains the product of the two numbers.\n",
    "\n",
    "##### Input Format\n",
    "The first line contains the first integer, a.\n",
    "The second line contains the second integer, b.\n",
    "\n",
    "##### Constraints\n",
    "$1<=a<= 10^{10}$\n",
    "$\\\\$\n",
    "$1<=b<= 10^{10}$\n",
    "\n",
    "##### Output Format\n",
    "\n",
    "Print the three lines as explained above."
   ]
  },
  {
   "cell_type": "code",
   "execution_count": null,
   "metadata": {},
   "outputs": [],
   "source": [
    "#\n",
    "a = int(input(\"Enter an integer between 1 and 10^10 :\"))\n",
    "\n",
    "while(a<1 or a>10**10):\n",
    "    print(\"Invalid Number, try again... \\n\")\n",
    "    a = int(input(\"Enter an integer between 1 and 10^10 :\"))\n",
    "\n",
    "b = int(input(\"Enter another integer between 1 and 10^10 :\"))\n",
    "\n",
    "while(b<1 or b>10**10):\n",
    "    print(\"Invalid Number, try again... \\n\")\n",
    "    b = int(input(\"Enter another integer between 1 and 10^10 :\"))\n",
    "\n",
    "print(\"\\nSum of the two numbers is : \",a+b )\n",
    "print(\"Difference of the two numbers is : \", a-b)\n",
    "print(\"Product of the two numbers is : \", a*b)"
   ]
  },
  {
   "cell_type": "markdown",
   "metadata": {},
   "source": [
    "### Task\n",
    "For given integer n from STDIN, for all non-negative integers $i<n$, print $i^2$ .\n",
    "\n",
    "##### Input Format\n",
    "The first and only line contains the integer, .\n",
    "\n",
    "##### Constraints\n",
    "$1 <=n<=20$\n",
    "\n",
    "##### Output Format\n",
    "Print n lines, one corresponding to each i."
   ]
  },
  {
   "cell_type": "code",
   "execution_count": null,
   "metadata": {},
   "outputs": [],
   "source": [
    "#\n",
    "n = int(input(\"Enter an integer between 1 and 20 inclusive :\"))\n",
    "\n",
    "while(n<1 or n>20):\n",
    "    print(\"Invalid Number, try again... \\n\")\n",
    "    n = int(input(\"Enter an integer between 1 and 20 inclusive :\"))\n",
    "\n",
    "for i in range(n):\n",
    "    print(i**2)\n"
   ]
  },
  {
   "cell_type": "markdown",
   "metadata": {},
   "source": [
    "### Task\n",
    "\n",
    "Given a year, determine whether it is a leap year. If it is a leap year, return the Boolean True, otherwise return False.\n",
    "\n",
    "\n",
    "##### Input Format\n",
    "\n",
    "Read the year to test.\n",
    "\n",
    "##### Constraints\n",
    "$1900 <=year <= 10^5$\n",
    "\n",
    "##### Output Format\n",
    "\n",
    "The function must return a Boolean value (True/False)"
   ]
  },
  {
   "cell_type": "code",
   "execution_count": null,
   "metadata": {},
   "outputs": [],
   "source": [
    "def isLeap(yr):\n",
    "    if(yr%4 == 0): \n",
    "        if(yr%100 != 0): \n",
    "            return True\n",
    "        elif(yr%400 == 0):\n",
    "            return True\n",
    "        else:\n",
    "            return False\n",
    "    else:\n",
    "        return False\n",
    "\n",
    "year = int(input(\"Enter year between 1900 and 100000 inclusive :\"))\n",
    "\n",
    "while(year<1900 or year>10**5):\n",
    "    print(\"Invalid year, try again... \\n\")\n",
    "    year = int(input(\"Enter year between 1900 and 100000 inclusive :\"))\n",
    "\n",
    "if(isLeap(year)):\n",
    "    print(\"Year is Leap\")\n",
    "else:\n",
    "    print(\"Year is not Leap\")"
   ]
  },
  {
   "cell_type": "markdown",
   "metadata": {},
   "source": [
    "### Task\n",
    "Read an integer 'n from STDIN and try to print the following:\n",
    "\n",
    "12345...n\n",
    "\n",
    "Note that \"...\" represents the consecutive values in between.\n",
    "\n",
    "##### Input Format\n",
    "\n",
    "The first line contains an integer .\n",
    "\n",
    "##### Constraints\n",
    "$1<=n<=150$\n",
    "\n",
    "##### Output Format\n",
    "\n",
    "Print the list of integers from 1 through n as a string, without spaces."
   ]
  },
  {
   "cell_type": "code",
   "execution_count": null,
   "metadata": {},
   "outputs": [],
   "source": [
    "import numpy as np\n",
    "\n",
    "n = int(input(\"Enter integer between 1 and 150 inclusive :\"))\n",
    "\n",
    "while(n<0 or n>150):\n",
    "    print(\"Invalid number, try again... \\n\")\n",
    "    n = int(input(\"Enter integer between 1 and 150 inclusive :\"))\n",
    "\n",
    "n_arr = np.arange(n)\n",
    "n_list = n_arr.tolist()\n",
    "n_list.pop(0)\n",
    "n_list.append(n)\n",
    "n_str_list = list(map(str,n_list))\n",
    "n_str = \"\".join(n_str_list)\n",
    "print(n_str)"
   ]
  },
  {
   "cell_type": "markdown",
   "metadata": {},
   "source": [
    "### Task\n",
    "You are given three integers x, y and z representing the dimensions of a cuboid along with an integer n. Print a list of all possible coordinates given by (i,j,k) on a 3D grid where the sum of i+j+k is not equal to n. Here, $ 0<=i<=x ; 0 <=j<=y ; 0 <=k<=z $\n",
    "\n",
    "Please use list comprehensions rather than multiple loops, as a learning exercise\n",
    "\n",
    "##### Input Format\n",
    "Four integers x, y, z and n, each on a separate line.\n",
    "\n",
    "##### Constraints\n",
    "Print the list in lexicographic increasing order."
   ]
  },
  {
   "cell_type": "code",
   "execution_count": null,
   "metadata": {},
   "outputs": [],
   "source": [
    "#\n",
    "x_val = int( input(\"Enter value for x : \"))\n",
    "y_val = int( input(\"Enter value for y : \"))\n",
    "z_val = int( input(\"Enter value for z : \"))\n",
    "n = int(input(\"Enter value for n : \"))\n",
    "\n",
    "cuboid = [[x,y,z] for x in range(x_val+1) for y in range(y_val+1) for z in range(z_val+1) if x+y+z != n]\n",
    "\n",
    "print(cuboid)"
   ]
  },
  {
   "cell_type": "markdown",
   "metadata": {},
   "source": [
    "### Task\n",
    "Given the participants' score sheet for your University Sports Day, you are required to find the runner-up score. You are given  'n' scores. Store them in a list and find the score of the runner-up.\n",
    "\n",
    "##### Input Format\n",
    "The first line contains 'n'. The second line contains an array of n  integers each separated by a space.\n",
    "\n",
    "##### Constraints\n",
    "$\n",
    "2 <= n <= 10 \\\\\n",
    "-100 <= A[i] <= 100\n",
    "$\n",
    "\n",
    "##### Output Format\n",
    "\n",
    "Print the runner-up score."
   ]
  },
  {
   "cell_type": "code",
   "execution_count": 3,
   "metadata": {},
   "outputs": [
    {
     "name": "stdout",
     "output_type": "stream",
     "text": [
      "Enter number of scores : 10\n",
      "Enter scores separated by space : 3 4 1 7 9 10 -3 10 8 9\n",
      "Runner up score is :  9\n"
     ]
    }
   ],
   "source": [
    "n = int(input(\"Enter number of scores : \"))\n",
    "while(n<2 or n>10):\n",
    "    print(\"Invalid number, try again... \\n\")\n",
    "    n = int(input(\"Enter number of scores\"))\n",
    "\n",
    "args = input(\"Enter scores separated by space : \")\n",
    "s_args = args.split()\n",
    "\n",
    "while(len(s_args) != n):\n",
    "    print(\"Invalid number of scores, try again... \\n\")\n",
    "    args = input(\"Enter scores separated by space : \")\n",
    "    s_args = args.split()\n",
    "\n",
    "scores = list(map(int,s_args))\n",
    "scores.sort()\n",
    "scores.reverse()\n",
    "print(\"Runner up score is : \",scores[scores.count(scores[0])])"
   ]
  }
 ],
 "metadata": {
  "kernelspec": {
   "display_name": "Python 3",
   "language": "python",
   "name": "python3"
  },
  "language_info": {
   "codemirror_mode": {
    "name": "ipython",
    "version": 3
   },
   "file_extension": ".py",
   "mimetype": "text/x-python",
   "name": "python",
   "nbconvert_exporter": "python",
   "pygments_lexer": "ipython3",
   "version": "3.7.3"
  }
 },
 "nbformat": 4,
 "nbformat_minor": 4
}
