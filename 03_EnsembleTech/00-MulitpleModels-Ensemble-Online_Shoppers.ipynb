{
 "cells": [
  {
   "cell_type": "code",
   "execution_count": 1,
   "metadata": {},
   "outputs": [],
   "source": [
    "import pandas as pd\n",
    "import numpy as np\n",
    "\n",
    "import matplotlib.pyplot as plt\n",
    "%matplotlib inline\n",
    "\n",
    "import seaborn as sns\n",
    "sns.set_style(style='darkgrid')\n",
    "\n",
    "import plotly.express as px\n",
    "\n",
    "from sklearn.model_selection import train_test_split as tts\n",
    "from sklearn.tree import DecisionTreeClassifier as dtc\n",
    "from sklearn import tree\n",
    "from sklearn import metrics as mtr\n",
    "\n",
    "from IPython.display import Image as img\n",
    "import subprocess"
   ]
  },
  {
   "cell_type": "code",
   "execution_count": 2,
   "metadata": {},
   "outputs": [],
   "source": [
    "from sklearn.model_selection import GridSearchCV\n",
    "from sklearn.model_selection import cross_validate\n",
    "\n",
    "# from sklearn.metrics import accuracy_score, f1_score, recall_score, precision_score, confusion_matrix, classification_report"
   ]
  },
  {
   "cell_type": "code",
   "execution_count": 3,
   "metadata": {},
   "outputs": [
    {
     "data": {
      "text/html": [
       "<style>.container { width:80% !important; }</style>"
      ],
      "text/plain": [
       "<IPython.core.display.HTML object>"
      ]
     },
     "metadata": {},
     "output_type": "display_data"
    }
   ],
   "source": [
    "import warnings\n",
    "warnings.filterwarnings('ignore')\n",
    "\n",
    "pd.options.display.float_format = '{:,.4f}'.format        \n",
    "\n",
    "from IPython.core.display import display, HTML\n",
    "display(HTML(\"<style>.container { width:80% !important; }</style>\"))"
   ]
  },
  {
   "cell_type": "code",
   "execution_count": 4,
   "metadata": {},
   "outputs": [],
   "source": [
    "df = pd.read_csv('online_shoppers_intention.csv') "
   ]
  },
  {
   "cell_type": "code",
   "execution_count": 5,
   "metadata": {},
   "outputs": [],
   "source": [
    "df.rename(columns={'Administrative':'Admin','Administrative_Duration':'Admin_dur','Informational':'Info','Informational_Duration':'Info_dur',\n",
    "                   'ProductRelated':'Prod','ProductRelated_Duration':'Prod_dur','SpecialDay':'Spl_Prxmty','OperatingSystems':'OS'}, inplace=True)"
   ]
  },
  {
   "cell_type": "code",
   "execution_count": 6,
   "metadata": {},
   "outputs": [],
   "source": [
    "# Data for Browser 11 & 9 are dropped considering the smaller number of occurences which shouldn't influence the results\n",
    "\n",
    "df1 = df.drop(df[((df.Browser == 9) | (df.Browser == 11) )].index, axis=0)"
   ]
  },
  {
   "cell_type": "code",
   "execution_count": 7,
   "metadata": {},
   "outputs": [],
   "source": [
    "# Data for TrafficTypes 16,12,17 are dropped considering the smaller number of occurences which shouldn't influence the results\n",
    "\n",
    "df1.drop(df1[(df1.TrafficType == 17) | (df1.TrafficType == 12) | (df1.TrafficType == 16)].index,axis=0, inplace=True)"
   ]
  },
  {
   "cell_type": "code",
   "execution_count": 37,
   "metadata": {},
   "outputs": [],
   "source": [
    "# replaceStruct = {\n",
    "#     'OS':{1:'OS_1',2:'OS_2',3:'OS_3',4:'OS_4',5:'OS_5',6:'OS_6',7:'OS_7',8:'OS_8'},\n",
    "#     'Broswer':{1:'Browser_1',2:'Browser_2',3:'Browser_3',4:'Browser_4',5:'Browser_5',6:'Browser_6',7:'Browser_7',\n",
    "#                8:'Browser_8',9:'Browser_9',10:'Browser_10',11:'Browser_11',12:'Browser_12',13:'Browser_13'},\n",
    "#     'Region':{1:'Region_1',2:'Region_2',3:'Region_3',4:'Region_4',5:'Region_5',6:'Region_6',7:'Region_7',8:'Region_8',9:'Region_9'},\n",
    "#     'TrafficType':{1:'TrTyp_1',2:'TrTyp_2',3:'TrTyp_3',4:'TrTyp_4',5:'TrTyp_5',6:'TrTyp_6',7:'TrTyp_7',8:'TrTyp_8',\n",
    "#                    9:'TrTyp_9',10:'TrTyp_10',11:'TrTyp_11',12:'TrTyp_12',13:'TrTyp_13',14:'TrTyp_14',15:'TrTyp_15',16:'TrTyp_16',\n",
    "#                    17:'TrTyp_17',18:'TrTyp_18',19:'TrTyp_19',20:'TrTyp_20'},\n",
    "#     'Weekend':{False:'No',True:'Yes'}\n",
    "# }"
   ]
  },
  {
   "cell_type": "code",
   "execution_count": 38,
   "metadata": {},
   "outputs": [],
   "source": [
    "# df1.replace(replaceStruct, inplace=True)"
   ]
  },
  {
   "cell_type": "code",
   "execution_count": 9,
   "metadata": {},
   "outputs": [],
   "source": [
    "for col in {'OS','Browser','Region','TrafficType','Weekend','Month','VisitorType'}:\n",
    "    df1[col] = df1[col].astype('category')\n",
    "\n",
    "df1.Revenue = df1.Revenue.astype('int64')\n",
    "# df1.head(10)"
   ]
  },
  {
   "cell_type": "code",
   "execution_count": 10,
   "metadata": {},
   "outputs": [],
   "source": [
    "df1 = pd.get_dummies(df1,columns={'Month','OS','Browser','Region','TrafficType','VisitorType','Weekend'})"
   ]
  },
  {
   "cell_type": "code",
   "execution_count": 11,
   "metadata": {},
   "outputs": [],
   "source": [
    "# df1.describe(include='all').T"
   ]
  },
  {
   "cell_type": "code",
   "execution_count": 12,
   "metadata": {},
   "outputs": [],
   "source": [
    "dfy = df1['Revenue'].copy()\n",
    "dfX = df1.drop('Revenue', axis=1).copy()"
   ]
  },
  {
   "cell_type": "markdown",
   "metadata": {},
   "source": [
    "## Using CV for validating dataset class imbalance"
   ]
  },
  {
   "cell_type": "code",
   "execution_count": 13,
   "metadata": {},
   "outputs": [
    {
     "name": "stdout",
     "output_type": "stream",
     "text": [
      "[0.86931818 0.89529221 0.90340909 0.87175325 0.875      0.78652597\n",
      " 0.81493506 0.81818182 0.84809098 0.79528838] \n",
      "\n",
      "Accuracy: 0.85 (+/- 0.08)\n"
     ]
    }
   ],
   "source": [
    "from sklearn.model_selection import cross_val_score\n",
    "dtree = dtc(criterion='entropy',splitter='best')\n",
    "\n",
    "scores = cross_val_score(dtree, dfX, dfy, cv=10)\n",
    "print(scores,'\\n')\n",
    "print(\"Accuracy: %0.2f (+/- %0.2f)\" % (scores.mean(), scores.std() * 2))"
   ]
  },
  {
   "cell_type": "code",
   "execution_count": 14,
   "metadata": {},
   "outputs": [
    {
     "name": "stdout",
     "output_type": "stream",
     "text": [
      "[0.64290691 0.78306779 0.80892877 0.71321496 0.75056604 0.64611983\n",
      " 0.66840335 0.69203688 0.70984855 0.65179217] \n",
      "\n",
      "F1 score: 0.71 (+/- 0.11)\n"
     ]
    }
   ],
   "source": [
    "scores = cross_val_score(dtree, dfX, dfy, cv=10, scoring='f1_macro')\n",
    "print(scores,'\\n')\n",
    "print(\"F1 score: %0.2f (+/- %0.2f)\" % (scores.mean(), scores.std() * 2))"
   ]
  },
  {
   "cell_type": "markdown",
   "metadata": {},
   "source": [
    "## Splitting train & test dataset"
   ]
  },
  {
   "cell_type": "code",
   "execution_count": 15,
   "metadata": {},
   "outputs": [],
   "source": [
    "dfX_tr,dfX_ts,dfy_tr,dfy_ts = tts(dfX, dfy, test_size=0.3, random_state=6)"
   ]
  },
  {
   "cell_type": "code",
   "execution_count": 16,
   "metadata": {},
   "outputs": [
    {
     "data": {
      "text/plain": [
       "0   84.5238\n",
       "1   15.4762\n",
       "Name: Revenue, dtype: float64"
      ]
     },
     "execution_count": 16,
     "metadata": {},
     "output_type": "execute_result"
    }
   ],
   "source": [
    "dfy_ts.value_counts(normalize=True)*100"
   ]
  },
  {
   "cell_type": "markdown",
   "metadata": {},
   "source": [
    "## 1) DecisionTreeClassifier Model & Choosing the best Hyper parameters based on GridSearchCV"
   ]
  },
  {
   "cell_type": "code",
   "execution_count": 67,
   "metadata": {},
   "outputs": [
    {
     "name": "stdout",
     "output_type": "stream",
     "text": [
      "Fitting 5 folds for each of 60 candidates, totalling 300 fits\n"
     ]
    },
    {
     "name": "stderr",
     "output_type": "stream",
     "text": [
      "[Parallel(n_jobs=-1)]: Using backend LokyBackend with 8 concurrent workers.\n",
      "[Parallel(n_jobs=-1)]: Done  56 tasks      | elapsed:    0.6s\n"
     ]
    },
    {
     "name": "stdout",
     "output_type": "stream",
     "text": [
      "Best Params :  {'criterion': 'gini', 'max_depth': 4, 'splitter': 'best'}\n",
      "              precision    recall  f1-score   support\n",
      "\n",
      "           0       0.92      0.97      0.95      3124\n",
      "           1       0.79      0.52      0.63       572\n",
      "\n",
      "    accuracy                           0.90      3696\n",
      "   macro avg       0.85      0.75      0.79      3696\n",
      "weighted avg       0.90      0.90      0.90      3696\n",
      "\n",
      "----\n",
      "\n",
      "Best score: 0.794\n",
      "DecisionTreeClassifier(max_depth=4)\n"
     ]
    },
    {
     "name": "stderr",
     "output_type": "stream",
     "text": [
      "[Parallel(n_jobs=-1)]: Done 300 out of 300 | elapsed:    3.0s finished\n"
     ]
    }
   ],
   "source": [
    "param_grid = {\n",
    "    'criterion':['entropy','gini'],\n",
    "    'splitter':['best','random'],\n",
    "#     'min_impurity_decrease':[0.01,0.015,0.02,0.025,0.035,0.05,0.1,0.15,0.2]\n",
    "    'max_depth':[1,2,3,4,5,6,7,8,9,10,12,15,20,30,50],\n",
    "}\n",
    "\n",
    "grid = GridSearchCV(dtc(),param_grid,refit=True, verbose=True, n_jobs=-1, scoring='f1_macro')\n",
    "gfit = grid.fit(dfX_tr,dfy_tr)\n",
    "\n",
    "# print best parameter after tuning \n",
    "print('Best Params : ',grid.best_params_) \n",
    "grid_predictions = grid.predict(dfX_ts) \n",
    "   \n",
    "# print classification report \n",
    "print(mtr.classification_report(dfy_ts, grid_predictions)) \n",
    "\n",
    "print(\"----\\n\")\n",
    "\n",
    "print(\"Best score: %0.3f\" % gfit.best_score_)\n",
    "print(gfit.best_estimator_)\n"
   ]
  },
  {
   "cell_type": "code",
   "execution_count": 17,
   "metadata": {},
   "outputs": [
    {
     "name": "stdout",
     "output_type": "stream",
     "text": [
      "0.9038506147065646\n",
      "0.9042207792207793\n"
     ]
    },
    {
     "data": {
      "image/png": "[encoded data removed]",
      "text/plain": [
       "<Figure size 360x216 with 1 Axes>"
      ]
     },
     "metadata": {
      "needs_background": "light"
     },
     "output_type": "display_data"
    }
   ],
   "source": [
    "# dtree = dtc(criterion='entropy',splitter='best',min_impurity_decrease=0.01 )\n",
    "dtree = dtc(criterion='gini',splitter='best',max_depth=4 )\n",
    "\n",
    "dtree.fit(dfX_tr, dfy_tr)\n",
    "print(dtree.score(dfX_tr, dfy_tr))\n",
    "print(dtree.score(dfX_ts, dfy_ts))\n",
    "\n",
    "y_pred1 = dtree.predict(dfX_ts)\n",
    "cmat1 = mtr.confusion_matrix(dfy_ts,y_pred1, labels=[1,0])\n",
    "dfcm1 = pd.DataFrame(cmat1, index=['Yes','No'],columns=['Yes','No'])\n",
    "plt.figure(figsize=[5,3])\n",
    "sns.set(font_scale=1.2)\n",
    "fig = sns.heatmap(dfcm1, annot=True, fmt='d',linewidth=0.5, cbar=False)\n",
    "plt.tick_params(axis='both', which='major', labelbottom = False, bottom=False, top = False, labeltop=True)\n",
    "plt.ylabel('Predicted\\n')\n",
    "plt.show()"
   ]
  },
  {
   "cell_type": "code",
   "execution_count": 41,
   "metadata": {},
   "outputs": [
    {
     "name": "stdout",
     "output_type": "stream",
     "text": [
      "Accuracy of the model :  0.9042207792207793\n",
      "Recall of the model :  0.7853403141361257\n",
      "Precision of the model :  0.5244755244755245\n"
     ]
    }
   ],
   "source": [
    "npcm1 = np.array(cmat1)\n",
    "print('Accuracy of the model : ',npcm1.trace()/npcm1.sum())\n",
    "print('Recall of the model : ',npcm1[0,0]/npcm1[:,0].sum())\n",
    "print('Precision of the model : ',npcm1[0,0]/npcm1[0].sum())\n",
    "\n",
    "appr1 = np.array([[npcm1.trace()/npcm1.sum()],[npcm1[0,0]/npcm1[:,0].sum()],[npcm1[0,0]/npcm1[0].sum()]])"
   ]
  },
  {
   "cell_type": "markdown",
   "metadata": {},
   "source": [
    "## 2) Bagging (Bootstrap Aggregating)"
   ]
  },
  {
   "cell_type": "code",
   "execution_count": 21,
   "metadata": {},
   "outputs": [],
   "source": [
    "from sklearn.ensemble import BaggingClassifier"
   ]
  },
  {
   "cell_type": "code",
   "execution_count": 65,
   "metadata": {},
   "outputs": [
    {
     "name": "stdout",
     "output_type": "stream",
     "text": [
      "Fitting 5 folds for each of 96 candidates, totalling 480 fits\n"
     ]
    },
    {
     "name": "stderr",
     "output_type": "stream",
     "text": [
      "[Parallel(n_jobs=-1)]: Using backend LokyBackend with 8 concurrent workers.\n",
      "[Parallel(n_jobs=-1)]: Done  52 tasks      | elapsed:    1.2s\n",
      "[Parallel(n_jobs=-1)]: Done 343 tasks      | elapsed:   13.9s\n"
     ]
    },
    {
     "name": "stdout",
     "output_type": "stream",
     "text": [
      "Best Params :  {'max_features': 20, 'n_estimators': 5}\n",
      "              precision    recall  f1-score   support\n",
      "\n",
      "           0       0.86      0.98      0.92      3124\n",
      "           1       0.53      0.15      0.23       572\n",
      "\n",
      "    accuracy                           0.85      3696\n",
      "   macro avg       0.69      0.56      0.57      3696\n",
      "weighted avg       0.81      0.85      0.81      3696\n",
      "\n",
      "----\n",
      "\n",
      "Best score: 0.643\n",
      "BaggingClassifier(max_features=20, n_estimators=5)\n"
     ]
    },
    {
     "name": "stderr",
     "output_type": "stream",
     "text": [
      "[Parallel(n_jobs=-1)]: Done 480 out of 480 | elapsed:   31.4s finished\n"
     ]
    }
   ],
   "source": [
    "param_grid = {\n",
    "    'n_estimators':[5,10,15,20,30,50,75,100],\n",
    "    'max_features':[1,2,3,4,5,6,8,10,12,15,20,25]\n",
    "}\n",
    "\n",
    "grid = GridSearchCV(BaggingClassifier(),param_grid,refit=True, verbose=True, n_jobs=-1, scoring='f1_macro')\n",
    "gfit = grid.fit(dfX_tr,dfy_tr)\n",
    "\n",
    "# print best parameter after tuning \n",
    "print('Best Params : ',grid.best_params_) \n",
    "grid_predictions = grid.predict(dfX_ts) \n",
    "   \n",
    "# print classification report \n",
    "print(mtr.classification_report(dfy_ts, grid_predictions)) \n",
    "\n",
    "print(\"----\\n\")\n",
    "\n",
    "print(\"Best score: %0.3f\" % gfit.best_score_)\n",
    "print(gfit.best_estimator_)\n",
    "\n"
   ]
  },
  {
   "cell_type": "code",
   "execution_count": 22,
   "metadata": {},
   "outputs": [
    {
     "name": "stdout",
     "output_type": "stream",
     "text": [
      "0.9479239155648341\n",
      "0.8425324675324676\n"
     ]
    },
    {
     "data": {
      "image/png": "[encoded data removed]",
      "text/plain": [
       "<Figure size 360x216 with 1 Axes>"
      ]
     },
     "metadata": {},
     "output_type": "display_data"
    }
   ],
   "source": [
    "bgcl = BaggingClassifier(n_estimators=5 ,max_features=20)\n",
    "bgcl = bgcl.fit(dfX_tr, dfy_tr)\n",
    "\n",
    "print(bgcl.score(dfX_tr , dfy_tr))\n",
    "print(bgcl.score(dfX_ts , dfy_ts))\n",
    "\n",
    "y_pred2 = bgcl.predict(dfX_ts)\n",
    "cmat2 = mtr.confusion_matrix(dfy_ts,y_pred2, labels=[1,0])\n",
    "dfcm2 = pd.DataFrame(cmat2, index=['Yes','No'],columns=['Yes','No'])\n",
    "plt.figure(figsize=[5,3])\n",
    "sns.set(font_scale=1.2)\n",
    "fig = sns.heatmap(dfcm2, annot=True, fmt='d',linewidth=0.5, cbar=False)\n",
    "plt.tick_params(axis='both', which='major', labelbottom = False, bottom=False, top = False, labeltop=True)\n",
    "plt.ylabel('Predicted\\n')\n",
    "plt.show()"
   ]
  },
  {
   "cell_type": "code",
   "execution_count": 36,
   "metadata": {},
   "outputs": [
    {
     "name": "stdout",
     "output_type": "stream",
     "text": [
      "Accuracy of the model :  0.8425324675324676\n",
      "Recall of the model :  0.47023809523809523\n",
      "Precision of the model :  0.1381118881118881\n"
     ]
    }
   ],
   "source": [
    "npcm2 = np.array(cmat2)\n",
    "print('Accuracy of the model : ',npcm2.trace()/npcm2.sum())\n",
    "print('Recall of the model : ',npcm2[0,0]/npcm2[:,0].sum())\n",
    "print('Precision of the model : ',npcm2[0,0]/npcm2[0].sum())\n",
    "\n",
    "appr2 = np.array([[npcm2.trace()/npcm2.sum()],[npcm2[0,0]/npcm2[:,0].sum()],[npcm2[0,0]/npcm2[0].sum()]])"
   ]
  },
  {
   "cell_type": "markdown",
   "metadata": {},
   "source": [
    "## 3) AdaBoosting (Adaptive Boosting)"
   ]
  },
  {
   "cell_type": "code",
   "execution_count": 27,
   "metadata": {},
   "outputs": [],
   "source": [
    "from sklearn.ensemble import AdaBoostClassifier\n",
    "\n",
    "dtr1 = dtc(criterion='gini',splitter='best',max_depth=1)\n",
    "dtr2 = dtc(criterion='gini',splitter='best',max_depth=2)\n",
    "dtr4 = dtc(criterion='gini',splitter='best',max_depth=4)\n"
   ]
  },
  {
   "cell_type": "code",
   "execution_count": 89,
   "metadata": {},
   "outputs": [
    {
     "name": "stdout",
     "output_type": "stream",
     "text": [
      "Fitting 5 folds for each of 432 candidates, totalling 2160 fits\n"
     ]
    },
    {
     "name": "stderr",
     "output_type": "stream",
     "text": [
      "[Parallel(n_jobs=-1)]: Using backend LokyBackend with 8 concurrent workers.\n",
      "[Parallel(n_jobs=-1)]: Done  52 tasks      | elapsed:    3.9s\n",
      "[Parallel(n_jobs=-1)]: Done 216 tasks      | elapsed:   18.2s\n",
      "[Parallel(n_jobs=-1)]: Done 466 tasks      | elapsed:   44.3s\n",
      "[Parallel(n_jobs=-1)]: Done 816 tasks      | elapsed:  1.7min\n",
      "[Parallel(n_jobs=-1)]: Done 1266 tasks      | elapsed:  2.9min\n",
      "[Parallel(n_jobs=-1)]: Done 1816 tasks      | elapsed:  4.1min\n",
      "[Parallel(n_jobs=-1)]: Done 2160 out of 2160 | elapsed:  5.5min finished\n"
     ]
    },
    {
     "name": "stdout",
     "output_type": "stream",
     "text": [
      "Best Params :  {'algorithm': 'SAMME', 'base_estimator': DecisionTreeClassifier(max_depth=4), 'learning_rate': 0.08, 'n_estimators': 50}\n",
      "              precision    recall  f1-score   support\n",
      "\n",
      "           0       0.93      0.97      0.95      3124\n",
      "           1       0.77      0.59      0.67       572\n",
      "\n",
      "    accuracy                           0.91      3696\n",
      "   macro avg       0.85      0.78      0.81      3696\n",
      "weighted avg       0.90      0.91      0.91      3696\n",
      "\n",
      "----\n",
      "\n",
      "Best score: 0.802\n",
      "AdaBoostClassifier(algorithm='SAMME',\n",
      "                   base_estimator=DecisionTreeClassifier(max_depth=4),\n",
      "                   learning_rate=0.08)\n"
     ]
    }
   ],
   "source": [
    "\n",
    "param_grid = {\n",
    "    'base_estimator':[dtr1,dtr2,dtr4],\n",
    "    'n_estimators':[5,10,15,20,30,50,75,100],\n",
    "    'learning_rate':[0.05,0.08,0.1,0.2,0.3,0.4,0.5,0.7,1.0],\n",
    "    'algorithm':['SAMME','SAMME.R']\n",
    "}\n",
    "\n",
    "grid = GridSearchCV(AdaBoostClassifier(),param_grid,refit=True, verbose=True, n_jobs=-1, scoring='f1_macro')\n",
    "gfit = grid.fit(dfX_tr,dfy_tr)\n",
    "\n",
    "# print best parameter after tuning \n",
    "print('Best Params : ',grid.best_params_) \n",
    "grid_predictions = grid.predict(dfX_ts) \n",
    "   \n",
    "# print classification report \n",
    "print(mtr.classification_report(dfy_ts, grid_predictions)) \n",
    "\n",
    "print(\"----\\n\")\n",
    "\n",
    "print(\"Best score: %0.3f\" % gfit.best_score_)\n",
    "print(gfit.best_estimator_)\n"
   ]
  },
  {
   "cell_type": "code",
   "execution_count": 28,
   "metadata": {},
   "outputs": [
    {
     "name": "stdout",
     "output_type": "stream",
     "text": [
      "0.9119693806541406\n",
      "0.9099025974025974\n"
     ]
    },
    {
     "data": {
      "image/png": "[encoded data removed]",
      "text/plain": [
       "<Figure size 360x216 with 1 Axes>"
      ]
     },
     "metadata": {},
     "output_type": "display_data"
    }
   ],
   "source": [
    "\n",
    "abcl = AdaBoostClassifier(algorithm='SAMME', base_estimator=dtr4 ,learning_rate=0.08)\n",
    "\n",
    "abcl = abcl.fit(dfX_tr, dfy_tr)\n",
    "print(abcl.score(dfX_tr , dfy_tr))\n",
    "print(abcl.score(dfX_ts , dfy_ts))\n",
    "\n",
    "y_pred3 = abcl.predict(dfX_ts)\n",
    "cmat3 = mtr.confusion_matrix(dfy_ts,y_pred3, labels=[1,0])\n",
    "dfcm3 = pd.DataFrame(cmat3, index=['Yes','No'],columns=['Yes','No'])\n",
    "plt.figure(figsize=[5,3])\n",
    "sns.set(font_scale=1.2)\n",
    "fig = sns.heatmap(dfcm3, annot=True, fmt='d',linewidth=0.5, cbar=False)\n",
    "plt.tick_params(axis='both', which='major', labelbottom = False, bottom=False, top = False, labeltop=True)\n",
    "plt.ylabel('Predicted\\n')\n",
    "plt.show()"
   ]
  },
  {
   "cell_type": "code",
   "execution_count": 37,
   "metadata": {},
   "outputs": [
    {
     "name": "stdout",
     "output_type": "stream",
     "text": [
      "Accuracy of the model :  0.9099025974025974\n",
      "Recall of the model :  0.7709750566893424\n",
      "Precision of the model :  0.5944055944055944\n"
     ]
    }
   ],
   "source": [
    "npcm3 = np.array(cmat3)\n",
    "print('Accuracy of the model : ',npcm3.trace()/npcm3.sum())\n",
    "print('Recall of the model : ',npcm3[0,0]/npcm3[:,0].sum())\n",
    "print('Precision of the model : ',npcm3[0,0]/npcm3[0].sum())\n",
    "\n",
    "appr3 = np.array([[npcm3.trace()/npcm3.sum()],[npcm3[0,0]/npcm3[:,0].sum()],[npcm3[0,0]/npcm3[0].sum()]])"
   ]
  },
  {
   "cell_type": "markdown",
   "metadata": {},
   "source": [
    "## 4) Gradient Boosting"
   ]
  },
  {
   "cell_type": "code",
   "execution_count": 30,
   "metadata": {},
   "outputs": [],
   "source": [
    "from sklearn.ensemble import GradientBoostingClassifier"
   ]
  },
  {
   "cell_type": "code",
   "execution_count": 64,
   "metadata": {},
   "outputs": [
    {
     "name": "stdout",
     "output_type": "stream",
     "text": [
      "Fitting 5 folds for each of 12960 candidates, totalling 64800 fits\n"
     ]
    },
    {
     "name": "stderr",
     "output_type": "stream",
     "text": [
      "[Parallel(n_jobs=-1)]: Using backend LokyBackend with 8 concurrent workers.\n",
      "[Parallel(n_jobs=-1)]: Done  34 tasks      | elapsed:    5.5s\n",
      "[Parallel(n_jobs=-1)]: Done 184 tasks      | elapsed:   11.8s\n",
      "[Parallel(n_jobs=-1)]: Done 434 tasks      | elapsed:   17.4s\n",
      "[Parallel(n_jobs=-1)]: Done 784 tasks      | elapsed:   51.3s\n",
      "[Parallel(n_jobs=-1)]: Done 1234 tasks      | elapsed:  1.9min\n",
      "[Parallel(n_jobs=-1)]: Done 1784 tasks      | elapsed:  3.1min\n",
      "[Parallel(n_jobs=-1)]: Done 2434 tasks      | elapsed:  4.5min\n",
      "[Parallel(n_jobs=-1)]: Done 3184 tasks      | elapsed:  5.1min\n",
      "[Parallel(n_jobs=-1)]: Done 4034 tasks      | elapsed:  7.0min\n",
      "[Parallel(n_jobs=-1)]: Done 4984 tasks      | elapsed: 10.5min\n",
      "[Parallel(n_jobs=-1)]: Done 6034 tasks      | elapsed: 12.6min\n",
      "[Parallel(n_jobs=-1)]: Done 7184 tasks      | elapsed: 15.2min\n",
      "[Parallel(n_jobs=-1)]: Done 8434 tasks      | elapsed: 16.9min\n",
      "[Parallel(n_jobs=-1)]: Done 9784 tasks      | elapsed: 20.0min\n",
      "[Parallel(n_jobs=-1)]: Done 11234 tasks      | elapsed: 24.1min\n",
      "[Parallel(n_jobs=-1)]: Done 12784 tasks      | elapsed: 26.4min\n",
      "[Parallel(n_jobs=-1)]: Done 14434 tasks      | elapsed: 28.5min\n",
      "[Parallel(n_jobs=-1)]: Done 16184 tasks      | elapsed: 32.7min\n",
      "[Parallel(n_jobs=-1)]: Done 18034 tasks      | elapsed: 35.4min\n",
      "[Parallel(n_jobs=-1)]: Done 19984 tasks      | elapsed: 38.2min\n",
      "[Parallel(n_jobs=-1)]: Done 22034 tasks      | elapsed: 41.8min\n",
      "[Parallel(n_jobs=-1)]: Done 24184 tasks      | elapsed: 42.9min\n",
      "[Parallel(n_jobs=-1)]: Done 26434 tasks      | elapsed: 44.1min\n",
      "[Parallel(n_jobs=-1)]: Done 28784 tasks      | elapsed: 45.5min\n",
      "[Parallel(n_jobs=-1)]: Done 31234 tasks      | elapsed: 46.8min\n",
      "[Parallel(n_jobs=-1)]: Done 33784 tasks      | elapsed: 48.2min\n",
      "[Parallel(n_jobs=-1)]: Done 36434 tasks      | elapsed: 49.6min\n",
      "[Parallel(n_jobs=-1)]: Done 39184 tasks      | elapsed: 51.3min\n",
      "[Parallel(n_jobs=-1)]: Done 42034 tasks      | elapsed: 53.0min\n",
      "[Parallel(n_jobs=-1)]: Done 44984 tasks      | elapsed: 128.8min\n",
      "[Parallel(n_jobs=-1)]: Done 48034 tasks      | elapsed: 238.8min\n",
      "[Parallel(n_jobs=-1)]: Done 51184 tasks      | elapsed: 358.5min\n",
      "[Parallel(n_jobs=-1)]: Done 54434 tasks      | elapsed: 483.0min\n",
      "[Parallel(n_jobs=-1)]: Done 57784 tasks      | elapsed: 604.6min\n",
      "[Parallel(n_jobs=-1)]: Done 61234 tasks      | elapsed: 740.2min\n",
      "[Parallel(n_jobs=-1)]: Done 64784 tasks      | elapsed: 864.7min\n",
      "[Parallel(n_jobs=-1)]: Done 64800 out of 64800 | elapsed: 865.1min finished\n"
     ]
    },
    {
     "name": "stdout",
     "output_type": "stream",
     "text": [
      "Best Params :  {'criterion': 'friedman_mse', 'learning_rate': 0.1, 'loss': 'exponential', 'max_depth': 5, 'max_features': 'auto', 'min_impurity_decrease': 0.2, 'n_estimators': 60, 'subsample': 0.2}\n",
      "              precision    recall  f1-score   support\n",
      "\n",
      "           0       0.92      0.96      0.94      3124\n",
      "           1       0.73      0.57      0.64       572\n",
      "\n",
      "    accuracy                           0.90      3696\n",
      "   macro avg       0.83      0.77      0.79      3696\n",
      "weighted avg       0.89      0.90      0.90      3696\n",
      "\n",
      "----\n",
      "\n",
      "Best score: 0.801\n",
      "GradientBoostingClassifier(loss='exponential', max_depth=5, max_features='auto',\n",
      "                           min_impurity_decrease=0.2, n_estimators=60,\n",
      "                           subsample=0.2)\n"
     ]
    }
   ],
   "source": [
    "# param_grid = {\n",
    "#     'loss':['deviance', 'exponential'],\n",
    "#     'learning_rate':[0.05,0.08,0.1,0.2,0.3,0.4,0.5,0.7,1.0],\n",
    "#     'n_estimators':[5,10,15,20,30,50,75,100],\n",
    "#     'subsample':[0.1,0.2,0.3,0.4,0.5,0.7,1.0],\n",
    "#     'criterion' : ['friedman_mse', 'mse', 'mae'],\n",
    "#     'max_depth':[1,2,3,4,5,6,7,8,9,10,12,15,20,30,50],\n",
    "#     'min_impurity_decrease':[0.01,0.015,0.02,0.025,0.035,0.05,0.1,0.15,0.2],\n",
    "#     'max_features':['auto', 'sqrt', 'log2','']\n",
    "# #     'max_features':['auto', 'sqrt', 'log2','',5,8,10,12,15,20,25,35,50]\n",
    "# }\n",
    "\n",
    "param_grid = {\n",
    "    'loss':['deviance', 'exponential'],\n",
    "    'learning_rate':[0.05,0.1,0.5,1.0],\n",
    "    'n_estimators':[40,50,60],\n",
    "    'subsample':[0.1,0.2,0.5,1.0],\n",
    "    'criterion' : ['friedman_mse', 'mse', 'mae'],\n",
    "    'max_depth':[1,5,10,20,50],\n",
    "    'min_impurity_decrease':[0.1,0.15,0.2],\n",
    "    'max_features':['auto', 'sqrt', 'log2']\n",
    "}\n",
    "\n",
    "grid = GridSearchCV(GradientBoostingClassifier(),param_grid,refit=True, verbose=True, n_jobs=-1, scoring='f1_macro')\n",
    "gfit = grid.fit(dfX_tr,dfy_tr)\n",
    "\n",
    "# print best parameter after tuning \n",
    "print('Best Params : ',grid.best_params_) \n",
    "grid_predictions = grid.predict(dfX_ts) \n",
    "   \n",
    "# print classification report \n",
    "print(mtr.classification_report(dfy_ts, grid_predictions)) \n",
    "\n",
    "print(\"----\\n\")\n",
    "\n",
    "print(\"Best score: %0.3f\" % gfit.best_score_)\n",
    "print(gfit.best_estimator_)\n"
   ]
  },
  {
   "cell_type": "code",
   "execution_count": 31,
   "metadata": {},
   "outputs": [
    {
     "name": "stdout",
     "output_type": "stream",
     "text": [
      "0.914173045697054\n",
      "0.9023268398268398\n"
     ]
    },
    {
     "data": {
      "image/png": "[encoded data removed]",
      "text/plain": [
       "<Figure size 360x216 with 1 Axes>"
      ]
     },
     "metadata": {},
     "output_type": "display_data"
    }
   ],
   "source": [
    "gbcl = GradientBoostingClassifier(criterion='friedman_mse', learning_rate=0.1, loss='exponential', max_depth=5, max_features='auto', min_impurity_decrease=0.2, n_estimators=60, subsample=0.2)\n",
    "gbcl = gbcl.fit(dfX_tr, dfy_tr)\n",
    "\n",
    "print(gbcl.score(dfX_tr , dfy_tr))\n",
    "print(gbcl.score(dfX_ts , dfy_ts))\n",
    "\n",
    "y_pred4 = gbcl.predict(dfX_ts)\n",
    "cmat4 = mtr.confusion_matrix(dfy_ts,y_pred4, labels=[1,0])\n",
    "dfcm4 = pd.DataFrame(cmat4, index=['Yes','No'],columns=['Yes','No'])\n",
    "plt.figure(figsize=[5,3])\n",
    "sns.set(font_scale=1.2)\n",
    "fig = sns.heatmap(dfcm4, annot=True, fmt='d',linewidth=0.5, cbar=False)\n",
    "plt.tick_params(axis='both', which='major', labelbottom = False, bottom=False, top = False, labeltop=True)\n",
    "plt.ylabel('Predicted\\n')\n",
    "plt.show()"
   ]
  },
  {
   "cell_type": "code",
   "execution_count": 38,
   "metadata": {},
   "outputs": [
    {
     "name": "stdout",
     "output_type": "stream",
     "text": [
      "Accuracy of the model :  0.9023268398268398\n",
      "Recall of the model :  0.7298474945533769\n",
      "Precision of the model :  0.5856643356643356\n"
     ]
    }
   ],
   "source": [
    "npcm4 = np.array(cmat4)\n",
    "print('Accuracy of the model : ',npcm4.trace()/npcm4.sum())\n",
    "print('Recall of the model : ',npcm4[0,0]/npcm4[:,0].sum())\n",
    "print('Precision of the model : ',npcm4[0,0]/npcm4[0].sum())\n",
    "\n",
    "appr4 = np.array([[npcm4.trace()/npcm4.sum()],[npcm4[0,0]/npcm4[:,0].sum()],[npcm4[0,0]/npcm4[0].sum()]])"
   ]
  },
  {
   "cell_type": "markdown",
   "metadata": {},
   "source": [
    "## 5) RandomForest"
   ]
  },
  {
   "cell_type": "code",
   "execution_count": 33,
   "metadata": {},
   "outputs": [],
   "source": [
    "from sklearn.ensemble import RandomForestClassifier"
   ]
  },
  {
   "cell_type": "code",
   "execution_count": 55,
   "metadata": {},
   "outputs": [
    {
     "name": "stdout",
     "output_type": "stream",
     "text": [
      "Fitting 5 folds for each of 216 candidates, totalling 1080 fits\n"
     ]
    },
    {
     "name": "stderr",
     "output_type": "stream",
     "text": [
      "[Parallel(n_jobs=-1)]: Using backend LokyBackend with 8 concurrent workers.\n",
      "[Parallel(n_jobs=-1)]: Done  34 tasks      | elapsed:    1.1s\n",
      "[Parallel(n_jobs=-1)]: Done 184 tasks      | elapsed:    5.3s\n",
      "[Parallel(n_jobs=-1)]: Done 434 tasks      | elapsed:   12.6s\n",
      "[Parallel(n_jobs=-1)]: Done 784 tasks      | elapsed:   28.1s\n",
      "[Parallel(n_jobs=-1)]: Done 1080 out of 1080 | elapsed:   51.1s finished\n"
     ]
    },
    {
     "name": "stdout",
     "output_type": "stream",
     "text": [
      "Best Params :  {'class_weight': 'balanced_subsample', 'criterion': 'gini', 'max_depth': 1, 'max_features': 'auto', 'min_impurity_decrease': 0.18, 'n_estimators': 50}\n",
      "              precision    recall  f1-score   support\n",
      "\n",
      "           0       0.96      0.89      0.93      3124\n",
      "           1       0.58      0.82      0.68       572\n",
      "\n",
      "    accuracy                           0.88      3696\n",
      "   macro avg       0.77      0.86      0.80      3696\n",
      "weighted avg       0.91      0.88      0.89      3696\n",
      "\n",
      "----\n",
      "\n",
      "Best score: 0.790\n",
      "RandomForestClassifier(class_weight='balanced_subsample', max_depth=1,\n",
      "                       min_impurity_decrease=0.18, n_estimators=50)\n"
     ]
    }
   ],
   "source": [
    "param_grid = {\n",
    "    'n_estimators':[48,50,52],\n",
    "    'criterion':['gini','entropy'],\n",
    "    'max_depth':[1,2],\n",
    "    'max_features':['auto','sqrt','log2'],\n",
    "    'min_impurity_decrease':[0.18,0.19,0.2],\n",
    "    'class_weight':['balanced','balanced_subsample']\n",
    "}\n",
    "\n",
    "grid = GridSearchCV(RandomForestClassifier(),param_grid,refit=True, verbose=True, n_jobs=-1, scoring='f1_macro')\n",
    "gfit = grid.fit(dfX_tr,dfy_tr)\n",
    "\n",
    "# print best parameter after tuning \n",
    "print('Best Params : ',grid.best_params_) \n",
    "grid_predictions = grid.predict(dfX_ts) \n",
    "   \n",
    "# print classification report \n",
    "print(mtr.classification_report(dfy_ts, grid_predictions)) \n",
    "\n",
    "print(\"----\\n\")\n",
    "\n",
    "print(\"Best score: %0.3f\" % gfit.best_score_)\n",
    "print(gfit.best_estimator_)\n"
   ]
  },
  {
   "cell_type": "code",
   "execution_count": 34,
   "metadata": {},
   "outputs": [
    {
     "name": "stdout",
     "output_type": "stream",
     "text": [
      "0.8702157272094642\n",
      "0.8806818181818182\n"
     ]
    },
    {
     "data": {
      "image/png": "[encoded data removed]",
      "text/plain": [
       "<Figure size 360x216 with 1 Axes>"
      ]
     },
     "metadata": {},
     "output_type": "display_data"
    }
   ],
   "source": [
    "rfcl = RandomForestClassifier(class_weight='balanced_subsample', criterion='gini', max_features='auto', min_impurity_decrease= 0.18, n_estimators=50)\n",
    "rfcl = rfcl.fit(dfX_tr, dfy_tr)\n",
    "\n",
    "print(rfcl.score(dfX_tr , dfy_tr))\n",
    "print(rfcl.score(dfX_ts , dfy_ts))\n",
    "\n",
    "y_pred5 = rfcl.predict(dfX_ts)\n",
    "cmat5 = mtr.confusion_matrix(dfy_ts,y_pred5, labels=[1,0])\n",
    "dfcm5 = pd.DataFrame(cmat5, index=['Yes','No'],columns=['Yes','No'])\n",
    "plt.figure(figsize=[5,3])\n",
    "sns.set(font_scale=1.2)\n",
    "fig = sns.heatmap(dfcm5, annot=True, fmt='d',linewidth=0.5, cbar=False)\n",
    "plt.tick_params(axis='both', which='major', labelbottom = False, bottom=False, top = False, labeltop=True)\n",
    "plt.ylabel('Predicted\\n')\n",
    "plt.show()"
   ]
  },
  {
   "cell_type": "code",
   "execution_count": 39,
   "metadata": {},
   "outputs": [
    {
     "name": "stdout",
     "output_type": "stream",
     "text": [
      "Accuracy of the model :  0.8806818181818182\n",
      "Recall of the model :  0.5807644882860666\n",
      "Precision of the model :  0.8234265734265734\n"
     ]
    }
   ],
   "source": [
    "npcm5 = np.array(cmat5)\n",
    "print('Accuracy of the model : ',npcm5.trace()/npcm5.sum())\n",
    "print('Recall of the model : ',npcm5[0,0]/npcm5[:,0].sum())\n",
    "print('Precision of the model : ',npcm5[0,0]/npcm5[0].sum())\n",
    "\n",
    "appr5 = np.array([[npcm5.trace()/npcm5.sum()],[npcm5[0,0]/npcm5[:,0].sum()],[npcm5[0,0]/npcm5[0].sum()]])\n"
   ]
  },
  {
   "cell_type": "markdown",
   "metadata": {},
   "source": [
    "## 6) XGBoost"
   ]
  },
  {
   "cell_type": "code",
   "execution_count": 47,
   "metadata": {},
   "outputs": [],
   "source": [
    "from xgboost import XGBClassifier"
   ]
  },
  {
   "cell_type": "code",
   "execution_count": 58,
   "metadata": {},
   "outputs": [
    {
     "name": "stdout",
     "output_type": "stream",
     "text": [
      "Fitting 5 folds for each of 972 candidates, totalling 4860 fits\n"
     ]
    },
    {
     "name": "stderr",
     "output_type": "stream",
     "text": [
      "[Parallel(n_jobs=-1)]: Using backend LokyBackend with 8 concurrent workers.\n",
      "[Parallel(n_jobs=-1)]: Done  34 tasks      | elapsed:    3.6s\n",
      "[Parallel(n_jobs=-1)]: Done 184 tasks      | elapsed:   22.2s\n",
      "[Parallel(n_jobs=-1)]: Done 434 tasks      | elapsed:   50.5s\n",
      "[Parallel(n_jobs=-1)]: Done 784 tasks      | elapsed:  1.8min\n",
      "[Parallel(n_jobs=-1)]: Done 1234 tasks      | elapsed:  2.7min\n",
      "[Parallel(n_jobs=-1)]: Done 1784 tasks      | elapsed:  4.1min\n",
      "[Parallel(n_jobs=-1)]: Done 2434 tasks      | elapsed:  6.4min\n",
      "[Parallel(n_jobs=-1)]: Done 3184 tasks      | elapsed:  9.0min\n",
      "[Parallel(n_jobs=-1)]: Done 4860 out of 4860 | elapsed:  9.4min finished\n"
     ]
    },
    {
     "name": "stdout",
     "output_type": "stream",
     "text": [
      "Best Params :  {'colsample_bytree': 1.0, 'gamma': 1.5, 'max_delta_step': 0, 'max_depth': 4, 'min_child_weight': 12, 'reg_lambda': 0.8, 'subsample': 0.7}\n",
      "              precision    recall  f1-score   support\n",
      "\n",
      "           0       0.93      0.97      0.95      3124\n",
      "           1       0.75      0.58      0.66       572\n",
      "\n",
      "    accuracy                           0.91      3696\n",
      "   macro avg       0.84      0.77      0.80      3696\n",
      "weighted avg       0.90      0.91      0.90      3696\n",
      "\n",
      "----\n",
      "\n",
      "Best score: 0.803\n",
      "XGBClassifier(colsample_bytree=1.0, gamma=1.5, max_depth=4, min_child_weight=12,\n",
      "              n_estimators=60, reg_lambda=0.8, subsample=0.7)\n"
     ]
    }
   ],
   "source": [
    "param_grid = {\n",
    "    'max_depth':[3,4,6],\n",
    "#     'learning_rate':[0.05,0.1,0.2],\n",
    "    'min_child_weight':[12,14],\n",
    "    'gamma':[1.5,2,3],\n",
    "#     'n_estimators':[40,50,60],\n",
    "    'max_delta_step':[0,1,2],\n",
    "    'subsample':[0.7,0.8],\n",
    "    'colsample_bytree':[0.5,1.0,2.0],\n",
    "    'reg_lambda':[0.8,1.0,1.2]\n",
    "#     'scale_pos_weight':[0.2,0.5,1.0,3.0]\n",
    "}\n",
    "\n",
    "grid = GridSearchCV(XGBClassifier(objective='binary:logistic', learning_rate=0.1,n_estimators=60),param_grid,refit=True, verbose=True, n_jobs=-1, scoring='f1_macro')\n",
    "gfit = grid.fit(dfX_tr,dfy_tr)\n",
    "\n",
    "# print best parameter after tuning \n",
    "print('Best Params : ',grid.best_params_) \n",
    "grid_predictions = grid.predict(dfX_ts) \n",
    "   \n",
    "# print classification report \n",
    "print(mtr.classification_report(dfy_ts, grid_predictions)) \n",
    "\n",
    "print(\"----\\n\")\n",
    "\n",
    "print(\"Best score: %0.3f\" % gfit.best_score_)\n",
    "print(gfit.best_estimator_)\n"
   ]
  },
  {
   "cell_type": "code",
   "execution_count": null,
   "metadata": {},
   "outputs": [],
   "source": [
    "xgbcl = XGBClassifier()\n",
    "xgbcl = xcbl.fit(dfX_tr, dfy_tr)\n",
    "\n",
    "print(xgbcl.score(dfX_tr , dfy_tr))\n",
    "print(xgbcl.score(dfX_ts , dfy_ts))\n",
    "\n",
    "y_pred6 = xgbcl.predict(dfX_ts)\n",
    "cmat6 = mtr.confusion_matrix(dfy_ts,y_pred6, labels=[1,0])\n",
    "dfcm6 = pd.DataFrame(cmat6, index=['Yes','No'],columns=['Yes','No'])\n",
    "plt.figure(figsize=[5,3])\n",
    "sns.set(font_scale=1.2)\n",
    "fig = sns.heatmap(dfcm6, annot=True, fmt='d',linewidth=0.5, cbar=False)\n",
    "plt.tick_params(axis='both', which='major', labelbottom = False, bottom=False, top = False, labeltop=True)\n",
    "plt.ylabel('Predicted\\n')\n",
    "plt.show()"
   ]
  },
  {
   "cell_type": "code",
   "execution_count": 46,
   "metadata": {},
   "outputs": [
    {
     "data": {
      "application/vnd.plotly.v1+json": {
       "config": {
        "plotlyServerURL": "https://plot.ly"
       },
       "data": [
        {
         "hovertemplate": "index=Accuracy<br>Model=%{x}<br>Value=%{y}<extra></extra>",
         "legendgroup": "Accuracy",
         "line": {
          "color": "#636efa",
          "dash": "solid"
         },
         "mode": "markers+lines",
         "name": "Accuracy",
         "orientation": "v",
         "showlegend": true,
         "type": "scatter",
         "x": [
          "DTC",
          "Bagging",
          "AdaBoost",
          "GradBoost",
          "RandomForest"
         ],
         "xaxis": "x",
         "y": [
          0.9042207792207793,
          0.8425324675324676,
          0.9099025974025974,
          0.9023268398268398,
          0.8806818181818182
         ],
         "yaxis": "y"
        },
        {
         "hovertemplate": "index=Recall<br>Model=%{x}<br>Value=%{y}<extra></extra>",
         "legendgroup": "Recall",
         "line": {
          "color": "#EF553B",
          "dash": "solid"
         },
         "mode": "markers+lines",
         "name": "Recall",
         "orientation": "v",
         "showlegend": true,
         "type": "scatter",
         "x": [
          "DTC",
          "Bagging",
          "AdaBoost",
          "GradBoost",
          "RandomForest"
         ],
         "xaxis": "x",
         "y": [
          0.7853403141361257,
          0.47023809523809523,
          0.7709750566893424,
          0.7298474945533769,
          0.5807644882860666
         ],
         "yaxis": "y"
        },
        {
         "hovertemplate": "index=Precision<br>Model=%{x}<br>Value=%{y}<extra></extra>",
         "legendgroup": "Precision",
         "line": {
          "color": "#00cc96",
          "dash": "solid"
         },
         "mode": "markers+lines",
         "name": "Precision",
         "orientation": "v",
         "showlegend": true,
         "type": "scatter",
         "x": [
          "DTC",
          "Bagging",
          "AdaBoost",
          "GradBoost",
          "RandomForest"
         ],
         "xaxis": "x",
         "y": [
          0.5244755244755245,
          0.1381118881118881,
          0.5944055944055944,
          0.5856643356643356,
          0.8234265734265734
         ],
         "yaxis": "y"
        }
       ],
       "layout": {
        "height": 600,
        "legend": {
         "title": {
          "text": "index"
         },
         "tracegroupgap": 0
        },
        "margin": {
         "t": 60
        },
        "template": {
         "data": {
          "bar": [
           {
            "error_x": {
             "color": "#2a3f5f"
            },
            "error_y": {
             "color": "#2a3f5f"
            },
            "marker": {
             "line": {
              "color": "#E5ECF6",
              "width": 0.5
             }
            },
            "type": "bar"
           }
          ],
          "barpolar": [
           {
            "marker": {
             "line": {
              "color": "#E5ECF6",
              "width": 0.5
             }
            },
            "type": "barpolar"
           }
          ],
          "carpet": [
           {
            "aaxis": {
             "endlinecolor": "#2a3f5f",
             "gridcolor": "white",
             "linecolor": "white",
             "minorgridcolor": "white",
             "startlinecolor": "#2a3f5f"
            },
            "baxis": {
             "endlinecolor": "#2a3f5f",
             "gridcolor": "white",
             "linecolor": "white",
             "minorgridcolor": "white",
             "startlinecolor": "#2a3f5f"
            },
            "type": "carpet"
           }
          ],
          "choropleth": [
           {
            "colorbar": {
             "outlinewidth": 0,
             "ticks": ""
            },
            "type": "choropleth"
           }
          ],
          "contour": [
           {
            "colorbar": {
             "outlinewidth": 0,
             "ticks": ""
            },
            "colorscale": [
             [
              0,
              "#0d0887"
             ],
             [
              0.1111111111111111,
              "#46039f"
             ],
             [
              0.2222222222222222,
              "#7201a8"
             ],
             [
              0.3333333333333333,
              "#9c179e"
             ],
             [
              0.4444444444444444,
              "#bd3786"
             ],
             [
              0.5555555555555556,
              "#d8576b"
             ],
             [
              0.6666666666666666,
              "#ed7953"
             ],
             [
              0.7777777777777778,
              "#fb9f3a"
             ],
             [
              0.8888888888888888,
              "#fdca26"
             ],
             [
              1,
              "#f0f921"
             ]
            ],
            "type": "contour"
           }
          ],
          "contourcarpet": [
           {
            "colorbar": {
             "outlinewidth": 0,
             "ticks": ""
            },
            "type": "contourcarpet"
           }
          ],
          "heatmap": [
           {
            "colorbar": {
             "outlinewidth": 0,
             "ticks": ""
            },
            "colorscale": [
             [
              0,
              "#0d0887"
             ],
             [
              0.1111111111111111,
              "#46039f"
             ],
             [
              0.2222222222222222,
              "#7201a8"
             ],
             [
              0.3333333333333333,
              "#9c179e"
             ],
             [
              0.4444444444444444,
              "#bd3786"
             ],
             [
              0.5555555555555556,
              "#d8576b"
             ],
             [
              0.6666666666666666,
              "#ed7953"
             ],
             [
              0.7777777777777778,
              "#fb9f3a"
             ],
             [
              0.8888888888888888,
              "#fdca26"
             ],
             [
              1,
              "#f0f921"
             ]
            ],
            "type": "heatmap"
           }
          ],
          "heatmapgl": [
           {
            "colorbar": {
             "outlinewidth": 0,
             "ticks": ""
            },
            "colorscale": [
             [
              0,
              "#0d0887"
             ],
             [
              0.1111111111111111,
              "#46039f"
             ],
             [
              0.2222222222222222,
              "#7201a8"
             ],
             [
              0.3333333333333333,
              "#9c179e"
             ],
             [
              0.4444444444444444,
              "#bd3786"
             ],
             [
              0.5555555555555556,
              "#d8576b"
             ],
             [
              0.6666666666666666,
              "#ed7953"
             ],
             [
              0.7777777777777778,
              "#fb9f3a"
             ],
             [
              0.8888888888888888,
              "#fdca26"
             ],
             [
              1,
              "#f0f921"
             ]
            ],
            "type": "heatmapgl"
           }
          ],
          "histogram": [
           {
            "marker": {
             "colorbar": {
              "outlinewidth": 0,
              "ticks": ""
             }
            },
            "type": "histogram"
           }
          ],
          "histogram2d": [
           {
            "colorbar": {
             "outlinewidth": 0,
             "ticks": ""
            },
            "colorscale": [
             [
              0,
              "#0d0887"
             ],
             [
              0.1111111111111111,
              "#46039f"
             ],
             [
              0.2222222222222222,
              "#7201a8"
             ],
             [
              0.3333333333333333,
              "#9c179e"
             ],
             [
              0.4444444444444444,
              "#bd3786"
             ],
             [
              0.5555555555555556,
              "#d8576b"
             ],
             [
              0.6666666666666666,
              "#ed7953"
             ],
             [
              0.7777777777777778,
              "#fb9f3a"
             ],
             [
              0.8888888888888888,
              "#fdca26"
             ],
             [
              1,
              "#f0f921"
             ]
            ],
            "type": "histogram2d"
           }
          ],
          "histogram2dcontour": [
           {
            "colorbar": {
             "outlinewidth": 0,
             "ticks": ""
            },
            "colorscale": [
             [
              0,
              "#0d0887"
             ],
             [
              0.1111111111111111,
              "#46039f"
             ],
             [
              0.2222222222222222,
              "#7201a8"
             ],
             [
              0.3333333333333333,
              "#9c179e"
             ],
             [
              0.4444444444444444,
              "#bd3786"
             ],
             [
              0.5555555555555556,
              "#d8576b"
             ],
             [
              0.6666666666666666,
              "#ed7953"
             ],
             [
              0.7777777777777778,
              "#fb9f3a"
             ],
             [
              0.8888888888888888,
              "#fdca26"
             ],
             [
              1,
              "#f0f921"
             ]
            ],
            "type": "histogram2dcontour"
           }
          ],
          "mesh3d": [
           {
            "colorbar": {
             "outlinewidth": 0,
             "ticks": ""
            },
            "type": "mesh3d"
           }
          ],
          "parcoords": [
           {
            "line": {
             "colorbar": {
              "outlinewidth": 0,
              "ticks": ""
             }
            },
            "type": "parcoords"
           }
          ],
          "pie": [
           {
            "automargin": true,
            "type": "pie"
           }
          ],
          "scatter": [
           {
            "marker": {
             "colorbar": {
              "outlinewidth": 0,
              "ticks": ""
             }
            },
            "type": "scatter"
           }
          ],
          "scatter3d": [
           {
            "line": {
             "colorbar": {
              "outlinewidth": 0,
              "ticks": ""
             }
            },
            "marker": {
             "colorbar": {
              "outlinewidth": 0,
              "ticks": ""
             }
            },
            "type": "scatter3d"
           }
          ],
          "scattercarpet": [
           {
            "marker": {
             "colorbar": {
              "outlinewidth": 0,
              "ticks": ""
             }
            },
            "type": "scattercarpet"
           }
          ],
          "scattergeo": [
           {
            "marker": {
             "colorbar": {
              "outlinewidth": 0,
              "ticks": ""
             }
            },
            "type": "scattergeo"
           }
          ],
          "scattergl": [
           {
            "marker": {
             "colorbar": {
              "outlinewidth": 0,
              "ticks": ""
             }
            },
            "type": "scattergl"
           }
          ],
          "scattermapbox": [
           {
            "marker": {
             "colorbar": {
              "outlinewidth": 0,
              "ticks": ""
             }
            },
            "type": "scattermapbox"
           }
          ],
          "scatterpolar": [
           {
            "marker": {
             "colorbar": {
              "outlinewidth": 0,
              "ticks": ""
             }
            },
            "type": "scatterpolar"
           }
          ],
          "scatterpolargl": [
           {
            "marker": {
             "colorbar": {
              "outlinewidth": 0,
              "ticks": ""
             }
            },
            "type": "scatterpolargl"
           }
          ],
          "scatterternary": [
           {
            "marker": {
             "colorbar": {
              "outlinewidth": 0,
              "ticks": ""
             }
            },
            "type": "scatterternary"
           }
          ],
          "surface": [
           {
            "colorbar": {
             "outlinewidth": 0,
             "ticks": ""
            },
            "colorscale": [
             [
              0,
              "#0d0887"
             ],
             [
              0.1111111111111111,
              "#46039f"
             ],
             [
              0.2222222222222222,
              "#7201a8"
             ],
             [
              0.3333333333333333,
              "#9c179e"
             ],
             [
              0.4444444444444444,
              "#bd3786"
             ],
             [
              0.5555555555555556,
              "#d8576b"
             ],
             [
              0.6666666666666666,
              "#ed7953"
             ],
             [
              0.7777777777777778,
              "#fb9f3a"
             ],
             [
              0.8888888888888888,
              "#fdca26"
             ],
             [
              1,
              "#f0f921"
             ]
            ],
            "type": "surface"
           }
          ],
          "table": [
           {
            "cells": {
             "fill": {
              "color": "#EBF0F8"
             },
             "line": {
              "color": "white"
             }
            },
            "header": {
             "fill": {
              "color": "#C8D4E3"
             },
             "line": {
              "color": "white"
             }
            },
            "type": "table"
           }
          ]
         },
         "layout": {
          "annotationdefaults": {
           "arrowcolor": "#2a3f5f",
           "arrowhead": 0,
           "arrowwidth": 1
          },
          "coloraxis": {
           "colorbar": {
            "outlinewidth": 0,
            "ticks": ""
           }
          },
          "colorscale": {
           "diverging": [
            [
             0,
             "#8e0152"
            ],
            [
             0.1,
             "#c51b7d"
            ],
            [
             0.2,
             "#de77ae"
            ],
            [
             0.3,
             "#f1b6da"
            ],
            [
             0.4,
             "#fde0ef"
            ],
            [
             0.5,
             "#f7f7f7"
            ],
            [
             0.6,
             "#e6f5d0"
            ],
            [
             0.7,
             "#b8e186"
            ],
            [
             0.8,
             "#7fbc41"
            ],
            [
             0.9,
             "#4d9221"
            ],
            [
             1,
             "#276419"
            ]
           ],
           "sequential": [
            [
             0,
             "#0d0887"
            ],
            [
             0.1111111111111111,
             "#46039f"
            ],
            [
             0.2222222222222222,
             "#7201a8"
            ],
            [
             0.3333333333333333,
             "#9c179e"
            ],
            [
             0.4444444444444444,
             "#bd3786"
            ],
            [
             0.5555555555555556,
             "#d8576b"
            ],
            [
             0.6666666666666666,
             "#ed7953"
            ],
            [
             0.7777777777777778,
             "#fb9f3a"
            ],
            [
             0.8888888888888888,
             "#fdca26"
            ],
            [
             1,
             "#f0f921"
            ]
           ],
           "sequentialminus": [
            [
             0,
             "#0d0887"
            ],
            [
             0.1111111111111111,
             "#46039f"
            ],
            [
             0.2222222222222222,
             "#7201a8"
            ],
            [
             0.3333333333333333,
             "#9c179e"
            ],
            [
             0.4444444444444444,
             "#bd3786"
            ],
            [
             0.5555555555555556,
             "#d8576b"
            ],
            [
             0.6666666666666666,
             "#ed7953"
            ],
            [
             0.7777777777777778,
             "#fb9f3a"
            ],
            [
             0.8888888888888888,
             "#fdca26"
            ],
            [
             1,
             "#f0f921"
            ]
           ]
          },
          "colorway": [
           "#636efa",
           "#EF553B",
           "#00cc96",
           "#ab63fa",
           "#FFA15A",
           "#19d3f3",
           "#FF6692",
           "#B6E880",
           "#FF97FF",
           "#FECB52"
          ],
          "font": {
           "color": "#2a3f5f"
          },
          "geo": {
           "bgcolor": "white",
           "lakecolor": "white",
           "landcolor": "#E5ECF6",
           "showlakes": true,
           "showland": true,
           "subunitcolor": "white"
          },
          "hoverlabel": {
           "align": "left"
          },
          "hovermode": "closest",
          "mapbox": {
           "style": "light"
          },
          "paper_bgcolor": "white",
          "plot_bgcolor": "#E5ECF6",
          "polar": {
           "angularaxis": {
            "gridcolor": "white",
            "linecolor": "white",
            "ticks": ""
           },
           "bgcolor": "#E5ECF6",
           "radialaxis": {
            "gridcolor": "white",
            "linecolor": "white",
            "ticks": ""
           }
          },
          "scene": {
           "xaxis": {
            "backgroundcolor": "#E5ECF6",
            "gridcolor": "white",
            "gridwidth": 2,
            "linecolor": "white",
            "showbackground": true,
            "ticks": "",
            "zerolinecolor": "white"
           },
           "yaxis": {
            "backgroundcolor": "#E5ECF6",
            "gridcolor": "white",
            "gridwidth": 2,
            "linecolor": "white",
            "showbackground": true,
            "ticks": "",
            "zerolinecolor": "white"
           },
           "zaxis": {
            "backgroundcolor": "#E5ECF6",
            "gridcolor": "white",
            "gridwidth": 2,
            "linecolor": "white",
            "showbackground": true,
            "ticks": "",
            "zerolinecolor": "white"
           }
          },
          "shapedefaults": {
           "line": {
            "color": "#2a3f5f"
           }
          },
          "ternary": {
           "aaxis": {
            "gridcolor": "white",
            "linecolor": "white",
            "ticks": ""
           },
           "baxis": {
            "gridcolor": "white",
            "linecolor": "white",
            "ticks": ""
           },
           "bgcolor": "#E5ECF6",
           "caxis": {
            "gridcolor": "white",
            "linecolor": "white",
            "ticks": ""
           }
          },
          "title": {
           "x": 0.05
          },
          "xaxis": {
           "automargin": true,
           "gridcolor": "white",
           "linecolor": "white",
           "ticks": "",
           "title": {
            "standoff": 15
           },
           "zerolinecolor": "white",
           "zerolinewidth": 2
          },
          "yaxis": {
           "automargin": true,
           "gridcolor": "white",
           "linecolor": "white",
           "ticks": "",
           "title": {
            "standoff": 15
           },
           "zerolinecolor": "white",
           "zerolinewidth": 2
          }
         }
        },
        "width": 1000,
        "xaxis": {
         "anchor": "y",
         "domain": [
          0,
          1
         ],
         "title": {
          "text": "Model"
         }
        },
        "yaxis": {
         "anchor": "x",
         "domain": [
          0,
          1
         ],
         "range": [
          0,
          1.1
         ],
         "title": {
          "text": "Value"
         }
        }
       }
      },
      "text/html": [
       "<div>                            <div id=\"072353b3-49ed-4b72-bc55-6fe795d499da\" class=\"plotly-graph-div\" style=\"height:600px; width:1000px;\"></div>            <script type=\"text/javascript\">                require([\"plotly\"], function(Plotly) {                    window.PLOTLYENV=window.PLOTLYENV || {};                                    if (document.getElementById(\"072353b3-49ed-4b72-bc55-6fe795d499da\")) {                    Plotly.newPlot(                        \"072353b3-49ed-4b72-bc55-6fe795d499da\",                        [{\"hovertemplate\": \"index=Accuracy<br>Model=%{x}<br>Value=%{y}<extra></extra>\", \"legendgroup\": \"Accuracy\", \"line\": {\"color\": \"#636efa\", \"dash\": \"solid\"}, \"mode\": \"markers+lines\", \"name\": \"Accuracy\", \"orientation\": \"v\", \"showlegend\": true, \"type\": \"scatter\", \"x\": [\"DTC\", \"Bagging\", \"AdaBoost\", \"GradBoost\", \"RandomForest\"], \"xaxis\": \"x\", \"y\": [0.9042207792207793, 0.8425324675324676, 0.9099025974025974, 0.9023268398268398, 0.8806818181818182], \"yaxis\": \"y\"}, {\"hovertemplate\": \"index=Recall<br>Model=%{x}<br>Value=%{y}<extra></extra>\", \"legendgroup\": \"Recall\", \"line\": {\"color\": \"#EF553B\", \"dash\": \"solid\"}, \"mode\": \"markers+lines\", \"name\": \"Recall\", \"orientation\": \"v\", \"showlegend\": true, \"type\": \"scatter\", \"x\": [\"DTC\", \"Bagging\", \"AdaBoost\", \"GradBoost\", \"RandomForest\"], \"xaxis\": \"x\", \"y\": [0.7853403141361257, 0.47023809523809523, 0.7709750566893424, 0.7298474945533769, 0.5807644882860666], \"yaxis\": \"y\"}, {\"hovertemplate\": \"index=Precision<br>Model=%{x}<br>Value=%{y}<extra></extra>\", \"legendgroup\": \"Precision\", \"line\": {\"color\": \"#00cc96\", \"dash\": \"solid\"}, \"mode\": \"markers+lines\", \"name\": \"Precision\", \"orientation\": \"v\", \"showlegend\": true, \"type\": \"scatter\", \"x\": [\"DTC\", \"Bagging\", \"AdaBoost\", \"GradBoost\", \"RandomForest\"], \"xaxis\": \"x\", \"y\": [0.5244755244755245, 0.1381118881118881, 0.5944055944055944, 0.5856643356643356, 0.8234265734265734], \"yaxis\": \"y\"}],                        {\"height\": 600, \"legend\": {\"title\": {\"text\": \"index\"}, \"tracegroupgap\": 0}, \"margin\": {\"t\": 60}, \"template\": {\"data\": {\"bar\": [{\"error_x\": {\"color\": \"#2a3f5f\"}, \"error_y\": {\"color\": \"#2a3f5f\"}, \"marker\": {\"line\": {\"color\": \"#E5ECF6\", \"width\": 0.5}}, \"type\": \"bar\"}], \"barpolar\": [{\"marker\": {\"line\": {\"color\": \"#E5ECF6\", \"width\": 0.5}}, \"type\": \"barpolar\"}], \"carpet\": [{\"aaxis\": {\"endlinecolor\": \"#2a3f5f\", \"gridcolor\": \"white\", \"linecolor\": \"white\", \"minorgridcolor\": \"white\", \"startlinecolor\": \"#2a3f5f\"}, \"baxis\": {\"endlinecolor\": \"#2a3f5f\", \"gridcolor\": \"white\", \"linecolor\": \"white\", \"minorgridcolor\": \"white\", \"startlinecolor\": \"#2a3f5f\"}, \"type\": \"carpet\"}], \"choropleth\": [{\"colorbar\": {\"outlinewidth\": 0, \"ticks\": \"\"}, \"type\": \"choropleth\"}], \"contour\": [{\"colorbar\": {\"outlinewidth\": 0, \"ticks\": \"\"}, \"colorscale\": [[0.0, \"#0d0887\"], [0.1111111111111111, \"#46039f\"], [0.2222222222222222, \"#7201a8\"], [0.3333333333333333, \"#9c179e\"], [0.4444444444444444, \"#bd3786\"], [0.5555555555555556, \"#d8576b\"], [0.6666666666666666, \"#ed7953\"], [0.7777777777777778, \"#fb9f3a\"], [0.8888888888888888, \"#fdca26\"], [1.0, \"#f0f921\"]], \"type\": \"contour\"}], \"contourcarpet\": [{\"colorbar\": {\"outlinewidth\": 0, \"ticks\": \"\"}, \"type\": \"contourcarpet\"}], \"heatmap\": [{\"colorbar\": {\"outlinewidth\": 0, \"ticks\": \"\"}, \"colorscale\": [[0.0, \"#0d0887\"], [0.1111111111111111, \"#46039f\"], [0.2222222222222222, \"#7201a8\"], [0.3333333333333333, \"#9c179e\"], [0.4444444444444444, \"#bd3786\"], [0.5555555555555556, \"#d8576b\"], [0.6666666666666666, \"#ed7953\"], [0.7777777777777778, \"#fb9f3a\"], [0.8888888888888888, \"#fdca26\"], [1.0, \"#f0f921\"]], \"type\": \"heatmap\"}], \"heatmapgl\": [{\"colorbar\": {\"outlinewidth\": 0, \"ticks\": \"\"}, \"colorscale\": [[0.0, \"#0d0887\"], [0.1111111111111111, \"#46039f\"], [0.2222222222222222, \"#7201a8\"], [0.3333333333333333, \"#9c179e\"], [0.4444444444444444, \"#bd3786\"], [0.5555555555555556, \"#d8576b\"], [0.6666666666666666, \"#ed7953\"], [0.7777777777777778, \"#fb9f3a\"], [0.8888888888888888, \"#fdca26\"], [1.0, \"#f0f921\"]], \"type\": \"heatmapgl\"}], \"histogram\": [{\"marker\": {\"colorbar\": {\"outlinewidth\": 0, \"ticks\": \"\"}}, \"type\": \"histogram\"}], \"histogram2d\": [{\"colorbar\": {\"outlinewidth\": 0, \"ticks\": \"\"}, \"colorscale\": [[0.0, \"#0d0887\"], [0.1111111111111111, \"#46039f\"], [0.2222222222222222, \"#7201a8\"], [0.3333333333333333, \"#9c179e\"], [0.4444444444444444, \"#bd3786\"], [0.5555555555555556, \"#d8576b\"], [0.6666666666666666, \"#ed7953\"], [0.7777777777777778, \"#fb9f3a\"], [0.8888888888888888, \"#fdca26\"], [1.0, \"#f0f921\"]], \"type\": \"histogram2d\"}], \"histogram2dcontour\": [{\"colorbar\": {\"outlinewidth\": 0, \"ticks\": \"\"}, \"colorscale\": [[0.0, \"#0d0887\"], [0.1111111111111111, \"#46039f\"], [0.2222222222222222, \"#7201a8\"], [0.3333333333333333, \"#9c179e\"], [0.4444444444444444, \"#bd3786\"], [0.5555555555555556, \"#d8576b\"], [0.6666666666666666, \"#ed7953\"], [0.7777777777777778, \"#fb9f3a\"], [0.8888888888888888, \"#fdca26\"], [1.0, \"#f0f921\"]], \"type\": \"histogram2dcontour\"}], \"mesh3d\": [{\"colorbar\": {\"outlinewidth\": 0, \"ticks\": \"\"}, \"type\": \"mesh3d\"}], \"parcoords\": [{\"line\": {\"colorbar\": {\"outlinewidth\": 0, \"ticks\": \"\"}}, \"type\": \"parcoords\"}], \"pie\": [{\"automargin\": true, \"type\": \"pie\"}], \"scatter\": [{\"marker\": {\"colorbar\": {\"outlinewidth\": 0, \"ticks\": \"\"}}, \"type\": \"scatter\"}], \"scatter3d\": [{\"line\": {\"colorbar\": {\"outlinewidth\": 0, \"ticks\": \"\"}}, \"marker\": {\"colorbar\": {\"outlinewidth\": 0, \"ticks\": \"\"}}, \"type\": \"scatter3d\"}], \"scattercarpet\": [{\"marker\": {\"colorbar\": {\"outlinewidth\": 0, \"ticks\": \"\"}}, \"type\": \"scattercarpet\"}], \"scattergeo\": [{\"marker\": {\"colorbar\": {\"outlinewidth\": 0, \"ticks\": \"\"}}, \"type\": \"scattergeo\"}], \"scattergl\": [{\"marker\": {\"colorbar\": {\"outlinewidth\": 0, \"ticks\": \"\"}}, \"type\": \"scattergl\"}], \"scattermapbox\": [{\"marker\": {\"colorbar\": {\"outlinewidth\": 0, \"ticks\": \"\"}}, \"type\": \"scattermapbox\"}], \"scatterpolar\": [{\"marker\": {\"colorbar\": {\"outlinewidth\": 0, \"ticks\": \"\"}}, \"type\": \"scatterpolar\"}], \"scatterpolargl\": [{\"marker\": {\"colorbar\": {\"outlinewidth\": 0, \"ticks\": \"\"}}, \"type\": \"scatterpolargl\"}], \"scatterternary\": [{\"marker\": {\"colorbar\": {\"outlinewidth\": 0, \"ticks\": \"\"}}, \"type\": \"scatterternary\"}], \"surface\": [{\"colorbar\": {\"outlinewidth\": 0, \"ticks\": \"\"}, \"colorscale\": [[0.0, \"#0d0887\"], [0.1111111111111111, \"#46039f\"], [0.2222222222222222, \"#7201a8\"], [0.3333333333333333, \"#9c179e\"], [0.4444444444444444, \"#bd3786\"], [0.5555555555555556, \"#d8576b\"], [0.6666666666666666, \"#ed7953\"], [0.7777777777777778, \"#fb9f3a\"], [0.8888888888888888, \"#fdca26\"], [1.0, \"#f0f921\"]], \"type\": \"surface\"}], \"table\": [{\"cells\": {\"fill\": {\"color\": \"#EBF0F8\"}, \"line\": {\"color\": \"white\"}}, \"header\": {\"fill\": {\"color\": \"#C8D4E3\"}, \"line\": {\"color\": \"white\"}}, \"type\": \"table\"}]}, \"layout\": {\"annotationdefaults\": {\"arrowcolor\": \"#2a3f5f\", \"arrowhead\": 0, \"arrowwidth\": 1}, \"coloraxis\": {\"colorbar\": {\"outlinewidth\": 0, \"ticks\": \"\"}}, \"colorscale\": {\"diverging\": [[0, \"#8e0152\"], [0.1, \"#c51b7d\"], [0.2, \"#de77ae\"], [0.3, \"#f1b6da\"], [0.4, \"#fde0ef\"], [0.5, \"#f7f7f7\"], [0.6, \"#e6f5d0\"], [0.7, \"#b8e186\"], [0.8, \"#7fbc41\"], [0.9, \"#4d9221\"], [1, \"#276419\"]], \"sequential\": [[0.0, \"#0d0887\"], [0.1111111111111111, \"#46039f\"], [0.2222222222222222, \"#7201a8\"], [0.3333333333333333, \"#9c179e\"], [0.4444444444444444, \"#bd3786\"], [0.5555555555555556, \"#d8576b\"], [0.6666666666666666, \"#ed7953\"], [0.7777777777777778, \"#fb9f3a\"], [0.8888888888888888, \"#fdca26\"], [1.0, \"#f0f921\"]], \"sequentialminus\": [[0.0, \"#0d0887\"], [0.1111111111111111, \"#46039f\"], [0.2222222222222222, \"#7201a8\"], [0.3333333333333333, \"#9c179e\"], [0.4444444444444444, \"#bd3786\"], [0.5555555555555556, \"#d8576b\"], [0.6666666666666666, \"#ed7953\"], [0.7777777777777778, \"#fb9f3a\"], [0.8888888888888888, \"#fdca26\"], [1.0, \"#f0f921\"]]}, \"colorway\": [\"#636efa\", \"#EF553B\", \"#00cc96\", \"#ab63fa\", \"#FFA15A\", \"#19d3f3\", \"#FF6692\", \"#B6E880\", \"#FF97FF\", \"#FECB52\"], \"font\": {\"color\": \"#2a3f5f\"}, \"geo\": {\"bgcolor\": \"white\", \"lakecolor\": \"white\", \"landcolor\": \"#E5ECF6\", \"showlakes\": true, \"showland\": true, \"subunitcolor\": \"white\"}, \"hoverlabel\": {\"align\": \"left\"}, \"hovermode\": \"closest\", \"mapbox\": {\"style\": \"light\"}, \"paper_bgcolor\": \"white\", \"plot_bgcolor\": \"#E5ECF6\", \"polar\": {\"angularaxis\": {\"gridcolor\": \"white\", \"linecolor\": \"white\", \"ticks\": \"\"}, \"bgcolor\": \"#E5ECF6\", \"radialaxis\": {\"gridcolor\": \"white\", \"linecolor\": \"white\", \"ticks\": \"\"}}, \"scene\": {\"xaxis\": {\"backgroundcolor\": \"#E5ECF6\", \"gridcolor\": \"white\", \"gridwidth\": 2, \"linecolor\": \"white\", \"showbackground\": true, \"ticks\": \"\", \"zerolinecolor\": \"white\"}, \"yaxis\": {\"backgroundcolor\": \"#E5ECF6\", \"gridcolor\": \"white\", \"gridwidth\": 2, \"linecolor\": \"white\", \"showbackground\": true, \"ticks\": \"\", \"zerolinecolor\": \"white\"}, \"zaxis\": {\"backgroundcolor\": \"#E5ECF6\", \"gridcolor\": \"white\", \"gridwidth\": 2, \"linecolor\": \"white\", \"showbackground\": true, \"ticks\": \"\", \"zerolinecolor\": \"white\"}}, \"shapedefaults\": {\"line\": {\"color\": \"#2a3f5f\"}}, \"ternary\": {\"aaxis\": {\"gridcolor\": \"white\", \"linecolor\": \"white\", \"ticks\": \"\"}, \"baxis\": {\"gridcolor\": \"white\", \"linecolor\": \"white\", \"ticks\": \"\"}, \"bgcolor\": \"#E5ECF6\", \"caxis\": {\"gridcolor\": \"white\", \"linecolor\": \"white\", \"ticks\": \"\"}}, \"title\": {\"x\": 0.05}, \"xaxis\": {\"automargin\": true, \"gridcolor\": \"white\", \"linecolor\": \"white\", \"ticks\": \"\", \"title\": {\"standoff\": 15}, \"zerolinecolor\": \"white\", \"zerolinewidth\": 2}, \"yaxis\": {\"automargin\": true, \"gridcolor\": \"white\", \"linecolor\": \"white\", \"ticks\": \"\", \"title\": {\"standoff\": 15}, \"zerolinecolor\": \"white\", \"zerolinewidth\": 2}}}, \"width\": 1000, \"xaxis\": {\"anchor\": \"y\", \"domain\": [0.0, 1.0], \"title\": {\"text\": \"Model\"}}, \"yaxis\": {\"anchor\": \"x\", \"domain\": [0.0, 1.0], \"range\": [0.0, 1.1], \"title\": {\"text\": \"Value\"}}},                        {\"responsive\": true}                    ).then(function(){\n",
       "                            \n",
       "var gd = document.getElementById('072353b3-49ed-4b72-bc55-6fe795d499da');\n",
       "var x = new MutationObserver(function (mutations, observer) {{\n",
       "        var display = window.getComputedStyle(gd).display;\n",
       "        if (!display || display === 'none') {{\n",
       "            console.log([gd, 'removed!']);\n",
       "            Plotly.purge(gd);\n",
       "            observer.disconnect();\n",
       "        }}\n",
       "}});\n",
       "\n",
       "// Listen for the removal of the full notebook cells\n",
       "var notebookContainer = gd.closest('#notebook-container');\n",
       "if (notebookContainer) {{\n",
       "    x.observe(notebookContainer, {childList: true});\n",
       "}}\n",
       "\n",
       "// Listen for the clearing of the current output cell\n",
       "var outputEl = gd.closest('.output');\n",
       "if (outputEl) {{\n",
       "    x.observe(outputEl, {childList: true});\n",
       "}}\n",
       "\n",
       "                        })                };                });            </script>        </div>"
      ]
     },
     "metadata": {},
     "output_type": "display_data"
    }
   ],
   "source": [
    "compare = pd.DataFrame('',index=['Accuracy','Recall','Precision'],columns=['DTC','Bagging','AdaBoost','GradBoost','RandomForest'])\n",
    "compare.DTC = appr1\n",
    "compare.Bagging = appr2\n",
    "compare.AdaBoost = appr3\n",
    "compare.GradBoost = appr4\n",
    "compare.RandomForest = appr5\n",
    "\n",
    "cmpr = compare.T\n",
    "cmpr = compare.reset_index()\n",
    "cmpr = cmpr.melt(id_vars='index',value_vars=['DTC','Bagging','AdaBoost','GradBoost','RandomForest'], var_name='Model',value_name='Value')\n",
    "cmpr\n",
    "\n",
    "fig = px.line(cmpr, x='Model', y='Value', color='index', range_y=[0.0,1.1], width=1000, height=600)\n",
    "fig.data[0].update(mode='markers+lines')\n",
    "fig.data[1].update(mode='markers+lines')\n",
    "fig.data[2].update(mode='markers+lines')\n",
    "\n",
    "fig.show()\n"
   ]
  },
  {
   "cell_type": "code",
   "execution_count": null,
   "metadata": {},
   "outputs": [],
   "source": []
  }
 ],
 "metadata": {
  "kernelspec": {
   "display_name": "Python 3",
   "language": "python",
   "name": "python3"
  },
  "language_info": {
   "codemirror_mode": {
    "name": "ipython",
    "version": 3
   },
   "file_extension": ".py",
   "mimetype": "text/x-python",
   "name": "python",
   "nbconvert_exporter": "python",
   "pygments_lexer": "ipython3",
   "version": "3.7.3"
  }
 },
 "nbformat": 4,
 "nbformat_minor": 4
}
