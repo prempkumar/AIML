{
 "cells": [
  {
   "cell_type": "code",
   "execution_count": null,
   "metadata": {},
   "outputs": [],
   "source": [
    "import pandas as pd\n",
    "import numpy as np\n",
    "\n",
    "import matplotlib.pyplot as plt\n",
    "%matplotlib inline\n",
    "\n",
    "import seaborn as sns\n",
    "\n",
    "from sklearn.model_selection import train_test_split as tts\n",
    "from sklearn.tree import DecisionTreeClassifier as dtc\n",
    "from sklearn import tree\n",
    "from sklearn import metrics as mtr\n",
    "\n",
    "from IPython.display import Image as img\n",
    "import subprocess"
   ]
  },
  {
   "cell_type": "code",
   "execution_count": 40,
   "metadata": {},
   "outputs": [
    {
     "data": {
      "text/html": [
       "<style>.container { width:80% !important; }</style>"
      ],
      "text/plain": [
       "<IPython.core.display.HTML object>"
      ]
     },
     "metadata": {},
     "output_type": "display_data"
    }
   ],
   "source": [
    "import warnings\n",
    "warnings.filterwarnings('ignore')\n",
    "\n",
    "pd.options.display.float_format = '{:,.4f}'.format        \n",
    "\n",
    "from IPython.core.display import display, HTML\n",
    "display(HTML(\"<style>.container { width:80% !important; }</style>\"))"
   ]
  },
  {
   "cell_type": "code",
   "execution_count": null,
   "metadata": {},
   "outputs": [],
   "source": [
    "df = pd.read_csv('credit.csv')\n",
    "df.info()"
   ]
  },
  {
   "cell_type": "code",
   "execution_count": null,
   "metadata": {},
   "outputs": [],
   "source": [
    "df.head(10)"
   ]
  },
  {
   "cell_type": "code",
   "execution_count": null,
   "metadata": {},
   "outputs": [],
   "source": [
    "df.isnull().sum()"
   ]
  },
  {
   "cell_type": "code",
   "execution_count": null,
   "metadata": {},
   "outputs": [],
   "source": [
    "df[df == 0].count()"
   ]
  },
  {
   "cell_type": "code",
   "execution_count": null,
   "metadata": {},
   "outputs": [],
   "source": [
    "df.nunique()"
   ]
  },
  {
   "cell_type": "code",
   "execution_count": null,
   "metadata": {},
   "outputs": [],
   "source": [
    "for col in df.columns:\n",
    "    if (df[col].nunique() < 10):\n",
    "        print(col,\" : \",df[col].unique())"
   ]
  },
  {
   "cell_type": "code",
   "execution_count": null,
   "metadata": {},
   "outputs": [],
   "source": [
    "df.drop(df[df.checking_balance == 'unknown'].index,axis=0,inplace=True)\n",
    "df.drop(df[df.savings_balance == 'unknown'].index,axis=0,inplace=True)\n"
   ]
  },
  {
   "cell_type": "code",
   "execution_count": null,
   "metadata": {},
   "outputs": [],
   "source": [
    "replaceStruct = {\n",
    "    'checking_balance':{'< 0 DM':1, '1 - 200 DM':2, '> 200 DM':3},\n",
    "    'credit_history':{'critical':1, 'poor':2, 'good':3, 'very good':4,'perfect':5},\n",
    "    'savings_balance':{'< 100 DM':1,'100 - 500 DM':2, '500 - 1000 DM':3, '> 1000 DM':4 },\n",
    "    'employment_duration':{'unemployed':0, '< 1 year':1, '1 - 4 years':2, '4 - 7 years':3, '> 7 years':4 },\n",
    "    'job':{ 'unemployed':0, 'unskilled':1,'skilled':2, 'management':3},\n",
    "    'phone':{'no':0,'yes':1},\n",
    "    'default':{'no':0,'yes':1}\n",
    "}"
   ]
  },
  {
   "cell_type": "code",
   "execution_count": null,
   "metadata": {},
   "outputs": [],
   "source": [
    "df.replace(replaceStruct, inplace=True)\n",
    "\n",
    "for col in df.columns:\n",
    "    if (df[col].nunique() < 10):\n",
    "        df[col] = df[col].astype('category')\n",
    "\n",
    "df.head(10)"
   ]
  },
  {
   "cell_type": "code",
   "execution_count": null,
   "metadata": {},
   "outputs": [],
   "source": []
  },
  {
   "cell_type": "code",
   "execution_count": null,
   "metadata": {},
   "outputs": [],
   "source": [
    "# for col in df.columns:\n",
    "#     if (df[col].nunique() < 10):\n",
    "#         print(df[col].value_counts(),\"\\n\")\n",
    "       \n",
    "df.info()"
   ]
  },
  {
   "cell_type": "code",
   "execution_count": null,
   "metadata": {},
   "outputs": [],
   "source": [
    "df1 = df.drop(['purpose','housing'],axis=1).copy()"
   ]
  },
  {
   "cell_type": "code",
   "execution_count": null,
   "metadata": {},
   "outputs": [],
   "source": [
    "df1 = pd.get_dummies(df1,columns=['other_credit'])\n",
    "df1.info()"
   ]
  },
  {
   "cell_type": "code",
   "execution_count": null,
   "metadata": {},
   "outputs": [],
   "source": []
  },
  {
   "cell_type": "code",
   "execution_count": null,
   "metadata": {},
   "outputs": [],
   "source": [
    "df1.head(10)"
   ]
  },
  {
   "cell_type": "code",
   "execution_count": null,
   "metadata": {},
   "outputs": [],
   "source": [
    "dfy = df1.default.copy()\n",
    "dfX = df1.drop('default',axis=1).copy()\n",
    "\n",
    "dfX_train, dfX_test, dfy_train,dfy_test = tts(dfX,dfy,test_size=0.3,random_state=600)"
   ]
  },
  {
   "cell_type": "code",
   "execution_count": null,
   "metadata": {},
   "outputs": [],
   "source": [
    "dfy_test.value_counts(normalize=True)*100"
   ]
  },
  {
   "cell_type": "code",
   "execution_count": 42,
   "metadata": {},
   "outputs": [
    {
     "name": "stdout",
     "output_type": "stream",
     "text": [
      "1.0\n",
      "0.6560509554140127\n"
     ]
    }
   ],
   "source": [
    "dtree = dtc(criterion='gini',random_state=600)\n",
    "dtree.fit(dfX_train,dfy_train)\n",
    "print(dtree.score(dfX_train,dfy_train))\n",
    "print(dtree.score(dfX_test,dfy_test))"
   ]
  },
  {
   "cell_type": "code",
   "execution_count": null,
   "metadata": {},
   "outputs": [],
   "source": [
    "y_pred = dtree.predict(dfX_test)\n",
    "cmat = mtr.confusion_matrix(dfy_test,y_pred, labels=[1,0])\n",
    "dfcm = pd.DataFrame(cmat, index=['Yes','No'],columns=['Yes','No'])\n",
    "plt.figure(figsize=[5,3])\n",
    "sns.set(font_scale=1.2)\n",
    "fig = sns.heatmap(dfcm, annot=True, fmt='d',linewidth=0.5, cbar=False)\n",
    "plt.tick_params(axis='both', which='major', labelbottom = False, bottom=False, top = False, labeltop=True)\n",
    "plt.ylabel('Predicted\\n')\n",
    "plt.show()"
   ]
  },
  {
   "cell_type": "code",
   "execution_count": null,
   "metadata": {},
   "outputs": [],
   "source": [
    "char_labels = ['N','Y']\n",
    "dtree_file = open('credit_tree.dot','w')\n",
    "dot_data = tree.export_graphviz(dtree, out_file=dtree_file, feature_names=list(dfX_train), class_names=list(char_labels),\n",
    "                               label='all', filled=True, rounded=True )\n",
    "dtree_file.close()"
   ]
  },
  {
   "cell_type": "code",
   "execution_count": null,
   "metadata": {},
   "outputs": [],
   "source": [
    "retcode = subprocess.call('dot -Tpng credit_tree.dot -o credit_tree.png',shell=True)\n",
    "if(retcode > 0):\n",
    "    print('Error running Graphviz; error code: ', str(retcode))\n",
    "else:\n",
    "    display(img('credit_tree.png'))\n"
   ]
  },
  {
   "cell_type": "code",
   "execution_count": 49,
   "metadata": {},
   "outputs": [
    {
     "name": "stdout",
     "output_type": "stream",
     "text": [
      "0.9671232876712329\n",
      "0.6942675159235668\n"
     ]
    }
   ],
   "source": [
    "dtree1 = dtc(criterion='gini', max_depth=12, random_state=600)\n",
    "dtree1.fit(dfX_train,dfy_train)\n",
    "print(dtree1.score(dfX_train,dfy_train))\n",
    "print(dtree1.score(dfX_test,dfy_test))"
   ]
  },
  {
   "cell_type": "code",
   "execution_count": null,
   "metadata": {},
   "outputs": [],
   "source": [
    "dtree_file1 = open('credit_tree1.dot','w')\n",
    "dot_data1 = tree.export_graphviz(dtree1, out_file=dtree_file1, feature_names=list(dfX_train), class_names=list(char_labels),\n",
    "                               label='all', filled=True, rounded=True )\n",
    "dtree_file1.close()\n",
    "\n",
    "retcode = subprocess.call('dot -Tpng credit_tree1.dot -o credit_tree1.png',shell=True)\n",
    "if(retcode > 0):\n",
    "    print('Error running Graphviz; error code: ', str(retcode))\n",
    "else:\n",
    "    display(img('credit_tree1.png'))\n"
   ]
  },
  {
   "cell_type": "code",
   "execution_count": null,
   "metadata": {},
   "outputs": [],
   "source": [
    "print(pd.DataFrame(dtree1.feature_importances_, columns=['Imp'],index=dfX_train.columns).sort_values('Imp',ascending=False))"
   ]
  },
  {
   "cell_type": "code",
   "execution_count": 46,
   "metadata": {},
   "outputs": [
    {
     "data": {
      "image/png": "[encoded data removed]",
      "text/plain": [
       "<Figure size 360x216 with 1 Axes>"
      ]
     },
     "metadata": {},
     "output_type": "display_data"
    }
   ],
   "source": [
    "y_pred1 = dtree1.predict(dfX_test)\n",
    "cmat1 = mtr.confusion_matrix(dfy_test,y_pred1, labels=[1,0])\n",
    "dfcm1 = pd.DataFrame(cmat1, index=['Yes','No'],columns=['Yes','No'])\n",
    "plt.figure(figsize=[5,3])\n",
    "sns.set(font_scale=1.2)\n",
    "fig = sns.heatmap(dfcm1, annot=True, fmt='d',linewidth=0.5, cbar=False)\n",
    "plt.tick_params(axis='both', which='major', labelbottom = False, bottom=False, top = False, labeltop=True)\n",
    "plt.ylabel('Predicted\\n')\n",
    "plt.show()\n"
   ]
  },
  {
   "cell_type": "markdown",
   "metadata": {},
   "source": [
    "# Ensemble Techniques"
   ]
  },
  {
   "cell_type": "markdown",
   "metadata": {},
   "source": [
    "## Bagging (Bootstrap Aggregating)"
   ]
  },
  {
   "cell_type": "code",
   "execution_count": 60,
   "metadata": {},
   "outputs": [
    {
     "name": "stdout",
     "output_type": "stream",
     "text": [
      "1.0\n",
      "0.7006369426751592\n"
     ]
    }
   ],
   "source": [
    "from sklearn.ensemble import BaggingClassifier\n",
    "\n",
    "bgcl = BaggingClassifier(n_estimators=50,random_state=10)\n",
    "\n",
    "bgcl = bgcl.fit(dfX_train, dfy_train)\n",
    "print(bgcl.score(dfX_train , dfy_train))\n",
    "print(bgcl.score(dfX_test , dfy_test))"
   ]
  },
  {
   "cell_type": "code",
   "execution_count": 61,
   "metadata": {},
   "outputs": [
    {
     "data": {
      "image/png": "[encoded data removed]",
      "text/plain": [
       "<Figure size 360x216 with 1 Axes>"
      ]
     },
     "metadata": {},
     "output_type": "display_data"
    }
   ],
   "source": [
    "y_pred2 = bgcl.predict(dfX_test)\n",
    "cmat2 = mtr.confusion_matrix(dfy_test,y_pred2, labels=[1,0])\n",
    "dfcm2 = pd.DataFrame(cmat2, index=['Yes','No'],columns=['Yes','No'])\n",
    "plt.figure(figsize=[5,3])\n",
    "sns.set(font_scale=1.2)\n",
    "fig = sns.heatmap(dfcm2, annot=True, fmt='d',linewidth=0.5, cbar=False)\n",
    "plt.tick_params(axis='both', which='major', labelbottom = False, bottom=False, top = False, labeltop=True)\n",
    "plt.ylabel('Predicted\\n')\n",
    "plt.show()"
   ]
  },
  {
   "cell_type": "markdown",
   "metadata": {},
   "source": [
    "## AdaBoosting (Adaptive Boosting)"
   ]
  },
  {
   "cell_type": "code",
   "execution_count": 80,
   "metadata": {},
   "outputs": [
    {
     "name": "stdout",
     "output_type": "stream",
     "text": [
      "0.7917808219178082\n",
      "0.6815286624203821\n"
     ]
    }
   ],
   "source": [
    "from sklearn.ensemble import AdaBoostClassifier\n",
    "abcl = AdaBoostClassifier(n_estimators=70, random_state=6)\n",
    "\n",
    "abcl = abcl.fit(dfX_train, dfy_train)\n",
    "print(abcl.score(dfX_train , dfy_train))\n",
    "print(abcl.score(dfX_test , dfy_test))"
   ]
  },
  {
   "cell_type": "code",
   "execution_count": 81,
   "metadata": {},
   "outputs": [
    {
     "data": {
      "image/png": "[encoded data removed]",
      "text/plain": [
       "<Figure size 360x216 with 1 Axes>"
      ]
     },
     "metadata": {},
     "output_type": "display_data"
    }
   ],
   "source": [
    "y_pred3 = abcl.predict(dfX_test)\n",
    "cmat3 = mtr.confusion_matrix(dfy_test,y_pred3, labels=[1,0])\n",
    "dfcm3 = pd.DataFrame(cmat3, index=['Yes','No'],columns=['Yes','No'])\n",
    "plt.figure(figsize=[5,3])\n",
    "sns.set(font_scale=1.2)\n",
    "fig = sns.heatmap(dfcm3, annot=True, fmt='d',linewidth=0.5, cbar=False)\n",
    "plt.tick_params(axis='both', which='major', labelbottom = False, bottom=False, top = False, labeltop=True)\n",
    "plt.ylabel('Predicted\\n')\n",
    "plt.show()"
   ]
  },
  {
   "cell_type": "markdown",
   "metadata": {},
   "source": [
    "## Gradient Boosting"
   ]
  },
  {
   "cell_type": "code",
   "execution_count": 99,
   "metadata": {},
   "outputs": [
    {
     "name": "stdout",
     "output_type": "stream",
     "text": [
      "0.8931506849315068\n",
      "0.6815286624203821\n"
     ]
    }
   ],
   "source": [
    "from sklearn.ensemble import GradientBoostingClassifier\n",
    "gbcl = GradientBoostingClassifier(n_estimators = 70,random_state=6)\n",
    "gbcl = gbcl.fit(dfX_train, dfy_train)\n",
    "\n",
    "print(gbcl.score(dfX_train , dfy_train))\n",
    "print(gbcl.score(dfX_test , dfy_test))"
   ]
  },
  {
   "cell_type": "code",
   "execution_count": 100,
   "metadata": {},
   "outputs": [
    {
     "data": {
      "image/png": "[encoded data removed]",
      "text/plain": [
       "<Figure size 360x216 with 1 Axes>"
      ]
     },
     "metadata": {},
     "output_type": "display_data"
    }
   ],
   "source": [
    "y_pred4 = gbcl.predict(dfX_test)\n",
    "cmat4 = mtr.confusion_matrix(dfy_test,y_pred4, labels=[1,0])\n",
    "dfcm4 = pd.DataFrame(cmat4, index=['Yes','No'],columns=['Yes','No'])\n",
    "plt.figure(figsize=[5,3])\n",
    "sns.set(font_scale=1.2)\n",
    "fig = sns.heatmap(dfcm4, annot=True, fmt='d',linewidth=0.5, cbar=False)\n",
    "plt.tick_params(axis='both', which='major', labelbottom = False, bottom=False, top = False, labeltop=True)\n",
    "plt.ylabel('Predicted\\n')\n",
    "plt.show()"
   ]
  },
  {
   "cell_type": "markdown",
   "metadata": {},
   "source": [
    "## RandomForest"
   ]
  },
  {
   "cell_type": "code",
   "execution_count": 138,
   "metadata": {},
   "outputs": [
    {
     "name": "stdout",
     "output_type": "stream",
     "text": [
      "0.9643835616438357\n",
      "0.7133757961783439\n"
     ]
    }
   ],
   "source": [
    "from sklearn.ensemble import RandomForestClassifier\n",
    "rfcl = RandomForestClassifier(n_estimators = 5, random_state=6,max_features=6)\n",
    "rfcl = rfcl.fit(dfX_train, dfy_train)\n",
    "\n",
    "print(rfcl.score(dfX_train , dfy_train))\n",
    "print(rfcl.score(dfX_test , dfy_test))"
   ]
  },
  {
   "cell_type": "code",
   "execution_count": 139,
   "metadata": {},
   "outputs": [
    {
     "data": {
      "image/png": "[encoded data removed]",
      "text/plain": [
       "<Figure size 360x216 with 1 Axes>"
      ]
     },
     "metadata": {},
     "output_type": "display_data"
    }
   ],
   "source": [
    "y_pred5 = rfcl.predict(dfX_test)\n",
    "cmat5 = mtr.confusion_matrix(dfy_test,y_pred5, labels=[1,0])\n",
    "dfcm5 = pd.DataFrame(cmat5, index=['Yes','No'],columns=['Yes','No'])\n",
    "plt.figure(figsize=[5,3])\n",
    "sns.set(font_scale=1.2)\n",
    "fig = sns.heatmap(dfcm5, annot=True, fmt='d',linewidth=0.5, cbar=False)\n",
    "plt.tick_params(axis='both', which='major', labelbottom = False, bottom=False, top = False, labeltop=True)\n",
    "plt.ylabel('Predicted\\n')\n",
    "plt.show()"
   ]
  },
  {
   "cell_type": "code",
   "execution_count": null,
   "metadata": {},
   "outputs": [],
   "source": []
  }
 ],
 "metadata": {
  "kernelspec": {
   "display_name": "Python 3",
   "language": "python",
   "name": "python3"
  },
  "language_info": {
   "codemirror_mode": {
    "name": "ipython",
    "version": 3
   },
   "file_extension": ".py",
   "mimetype": "text/x-python",
   "name": "python",
   "nbconvert_exporter": "python",
   "pygments_lexer": "ipython3",
   "version": "3.7.3"
  }
 },
 "nbformat": 4,
 "nbformat_minor": 4
}
