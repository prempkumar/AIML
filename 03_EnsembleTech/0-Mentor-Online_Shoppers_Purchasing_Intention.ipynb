{
 "cells": [
  {
   "cell_type": "markdown",
   "metadata": {
    "id": "P7txTUIOdQQp"
   },
   "source": [
    "# **Study \"Online Shoppers Purchasing Intention\" using Decision Tree Classifier**"
   ]
  },
  {
   "cell_type": "markdown",
   "metadata": {
    "id": "_iTU2wjaaVB2"
   },
   "source": [
    "# Context:\n",
    "\n",
    "Typically e-commerce datasets are proprietary and consequently hard to find among publicly available data.\n",
    "This is a transnational data set which contains all the transactions occurring online retail.\n",
    "Ecommerce data is information relating to the visitors and performance of an online shop. It's mostly used by marketers e.g. in understanding consumer behavior and enhancing conversion funnels."
   ]
  },
  {
   "cell_type": "markdown",
   "metadata": {
    "id": "dCdux8RWbDMN"
   },
   "source": [
    "# Objective:\n",
    "\n",
    "The objective is to find out the features which have the most information context to differentiate the positive class and negative class and also build a model to predict whether a customer will buy a product or not."
   ]
  },
  {
   "cell_type": "markdown",
   "metadata": {
    "id": "R1vCghTUbuWj"
   },
   "source": [
    "# Data Description:\n",
    "\n",
    "- Out of the 12,330 customer samples in the dataset, 84.5% (10,422) were negative class samples (i.e. customers who did not end up buying the product), and the rest (1908) were positive class samples (i.e. customers who ended up buying).\n",
    "- The dataset consists of 10 numerical and 8 categorical attributes.\n",
    "- The 'Revenue' attribute can be used as the class label.\n",
    "\n",
    "--------------------------------------\n",
    "- \"Administrative\", \"Administrative Duration\", \"Informational\", \"Informational Duration\", \"Product Related\" and \"Product Related Duration\": These represent the number of different types of pages visited by the visitor in that session and total time spent in each of these page categories.\n",
    "- The values of these features are derived from the URL information of the pages visited by the user and updated in real time when a user takes an action, e.g. moving from one page to another.\n",
    "--------------------------------------\n",
    "- The \"Bounce Rate\", \"Exit Rate\" and \"Page Value\" features represent the metrics measured by \"Google Analytics\" for each page in the e-commerce site.\n",
    "- **Bounce Rate:** The value of \"Bounce Rate\" feature for a web page refers to the percentage of visitors who enter the site from that page and then leave (\"bounce\") without triggering any other requests to the analytics server during that session.\n",
    "- **Exit Rate:** The value of \"Exit Rate\" feature for a specific web page is calculated as for all pageviews to the page, the percentage that were the last in the session.\n",
    "\n",
    "Read more about **Bounce Rate** vs **Exit Rate** [here](https://support.google.com/analytics/answer/2525491?hl=en&ref_topic=6156780)\n",
    "- **Page Value:** The \"Page Value\" feature represents the average value for a web page that a user visited before completing an e-commerce transaction.\n",
    "\n",
    "Read more about **Page Value** [here](https://support.google.com/analytics/answer/2695658?hl=en).\n",
    "\n",
    "--------------------------------------\n",
    "- **Special Day:** The \"Special Day\" feature indicates the closeness of the site visiting time to a specific special day (e.g. Mother’s Day, Valentine's Day) in which the sessions are more likely to be finalized with transaction.\n",
    "- The value of this attribute is determined by considering the dynamics of e-commerce such as the duration between the order date and delivery date.\n",
    "- For example, for Valentina’s day, this value takes a nonzero value between February 2 and February 12, zero before and after this date unless it is close to another special day, and its maximum value of 1 on February 8.\n",
    "--------------------------------------\n",
    "- The dataset also includes operating system, browser, region, traffic type, visitor type as returning or new visitor, a Boolean value indicating whether the date of the visit is weekend, and month of the year."
   ]
  },
  {
   "cell_type": "markdown",
   "metadata": {
    "id": "q_k4cHJ5_AZE"
   },
   "source": [
    "------------------------\n",
    "# Concepts to Cover\n",
    "------------------------\n",
    "- 1. <a href = #link1>Overview of the data</a>\n",
    "- 2. <a href = #link2>Data Visualization</a>\n",
    "- 3. <a href = #link3>Data Preparation</a>\n",
    "- 4. <a href = #link4>Choose Model, Train and Evaluate</a>\n",
    "- 5. <a href = #link5>Visualization of Decision Tree</a>\n",
    "- 6. <a href = #link6>Conclusion</a>"
   ]
  },
  {
   "cell_type": "markdown",
   "metadata": {
    "id": "EGqgZZAodipt"
   },
   "source": [
    "# Let's Start Coding!"
   ]
  },
  {
   "cell_type": "code",
   "execution_count": null,
   "metadata": {
    "id": "xfnhu4MOQQom"
   },
   "outputs": [],
   "source": [
    "# Import necessary libraries.\n",
    "import numpy as np\n",
    "import pandas as pd\n",
    "\n",
    "import seaborn as sns\n",
    "from matplotlib import pyplot as plt\n",
    "%matplotlib inline\n",
    "\n",
    "from sklearn.model_selection import train_test_split, GridSearchCV, cross_validate\n",
    "from sklearn.tree import DecisionTreeClassifier\n",
    "from sklearn.metrics import accuracy_score, f1_score, recall_score, precision_score, confusion_matrix, classification_report"
   ]
  },
  {
   "cell_type": "code",
   "execution_count": null,
   "metadata": {},
   "outputs": [],
   "source": []
  },
  {
   "cell_type": "code",
   "execution_count": null,
   "metadata": {
    "colab": {
     "base_uri": "https://localhost:8080/",
     "height": 72,
     "resources": {
      "http://localhost:8080/nbextensions/google.colab/files.js": {
       "data": "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",
       "headers": [
        [
         "content-type",
         "application/javascript"
        ]
       ],
       "ok": true,
       "status": 200,
       "status_text": ""
      }
     }
    },
    "id": "rd3_rMhgVBMZ",
    "outputId": "92c5cc2a-f4f6-413c-923d-caf82db94128"
   },
   "outputs": [],
   "source": [
    "# from google.colab import files\n",
    "# uploaded = files.upload()"
   ]
  },
  {
   "cell_type": "code",
   "execution_count": null,
   "metadata": {
    "id": "WfzdNIQ4Qfo7"
   },
   "outputs": [],
   "source": [
    "data = pd.read_csv('online_shoppers_intention.csv')                    # Load the dataset, provide the suitable folder path to dataset in it."
   ]
  },
  {
   "cell_type": "markdown",
   "metadata": {
    "id": "wy5kJNkM_ljJ"
   },
   "source": [
    "# <a id='link1'>Overview of the data</a>"
   ]
  },
  {
   "cell_type": "code",
   "execution_count": null,
   "metadata": {
    "colab": {
     "base_uri": "https://localhost:8080/",
     "height": 224
    },
    "id": "52NisZXyQl82",
    "outputId": "621fa972-b17a-4b3e-d582-12c75133ab2b"
   },
   "outputs": [],
   "source": [
    "data.head()                                                                     # Check the first 5 rows of dataset"
   ]
  },
  {
   "cell_type": "code",
   "execution_count": null,
   "metadata": {
    "colab": {
     "base_uri": "https://localhost:8080/",
     "height": 34
    },
    "id": "6mFYBwTUQpRl",
    "outputId": "de956023-e2f4-4b35-9490-a8d66e027028"
   },
   "outputs": [],
   "source": [
    "data.shape                                                                      # Check the shape of the dataset."
   ]
  },
  {
   "cell_type": "markdown",
   "metadata": {
    "id": "YcKktlyXeYXi"
   },
   "source": [
    "- The above output is a tuple: (rows, columns).\n",
    "- This means that, number of rows=12330 and number of columns=18."
   ]
  },
  {
   "cell_type": "markdown",
   "metadata": {
    "id": "2ndOsclUQolK"
   },
   "source": [
    "### Let's check the duplicate data. And if any, we should remove it."
   ]
  },
  {
   "cell_type": "code",
   "execution_count": null,
   "metadata": {
    "colab": {
     "base_uri": "https://localhost:8080/",
     "height": 340
    },
    "id": "dutvoq6kKsD3",
    "outputId": "62a53209-c869-4dc7-a83e-ef483bf64f9f"
   },
   "outputs": [],
   "source": [
    "data[data.duplicated()].count()"
   ]
  },
  {
   "cell_type": "markdown",
   "metadata": {
    "id": "kIzYcHyw2Rt8"
   },
   "source": [
    "### Let's drop the duplicate values. As we can see from above that 125 are duplicates."
   ]
  },
  {
   "cell_type": "code",
   "execution_count": null,
   "metadata": {
    "id": "d3nbBOv5K96i"
   },
   "outputs": [],
   "source": [
    "# data.drop_duplicates(inplace=True)"
   ]
  },
  {
   "cell_type": "code",
   "execution_count": null,
   "metadata": {
    "colab": {
     "base_uri": "https://localhost:8080/",
     "height": 442
    },
    "id": "WupXKd2mQuTY",
    "outputId": "972cb826-a5fa-4531-9085-f3a5520bc553"
   },
   "outputs": [],
   "source": [
    "data.info()                                                                     # Check information about data."
   ]
  },
  {
   "cell_type": "markdown",
   "metadata": {
    "id": "MOt9tRtJevn_"
   },
   "source": [
    "### Insights:\n",
    "\n",
    "- We can see that all the entries in data are non-null. Means no missing values.\n",
    "- Most of the data-types are either **int64** or **float64**.\n",
    "- 2 columns are having data-types as **object**, this means we need to convert these into suitable data-type before we feed our data into the model.\n",
    "- Last two columns: \"Weekend\" and \"Revenue\", have the data-type as **bool**.\n",
    "\n",
    "### Think about it:\n",
    "\n",
    "- We already know that we convert the categorical data-types into suitable form using either the \"LabelEncoder\" or \"OneHotEncoding\".\n",
    "- But here we have **bool** data type. What should we do here?\n",
    "- In Python, True and False are cast implicitly into integers:\n",
    "\n",
    "    `True == 1`\n",
    "    \n",
    "    `False == 0`\n",
    "    \n",
    "    This means that an algorithm running in pure Python should work without conversion."
   ]
  },
  {
   "cell_type": "code",
   "execution_count": null,
   "metadata": {
    "colab": {
     "base_uri": "https://localhost:8080/",
     "height": 607
    },
    "id": "ovEcifRIQvr-",
    "outputId": "efa9b189-5f9a-43b9-bb7d-bd950699163e"
   },
   "outputs": [],
   "source": [
    "data.describe(include='all').transpose()"
   ]
  },
  {
   "cell_type": "markdown",
   "metadata": {
    "id": "845xe6mHhr9t"
   },
   "source": [
    "- The above code is used to Generate descriptive statistics.\n",
    "\n",
    "- Descriptive statistics include those that summarize the central tendency, dispersion and shape of a dataset’s distribution, excluding NaN values."
   ]
  },
  {
   "cell_type": "markdown",
   "metadata": {
    "id": "wxlRIFk8_rOh"
   },
   "source": [
    "# <a id='link2'>Data Visualization</a>"
   ]
  },
  {
   "cell_type": "code",
   "execution_count": null,
   "metadata": {
    "colab": {
     "base_uri": "https://localhost:8080/",
     "height": 411
    },
    "id": "aMUeFsbVQ6AD",
    "outputId": "b41696a1-9839-4c98-808b-9aa4d0d3fc0d"
   },
   "outputs": [],
   "source": [
    "sns.set(rc={'figure.figsize':(8,6)})\n",
    "sns.countplot(data=data, x='VisitorType', hue='Revenue')"
   ]
  },
  {
   "cell_type": "markdown",
   "metadata": {
    "id": "VMxVetA5idkK"
   },
   "source": [
    "### Insights:\n",
    "\n",
    "- It's clear that the number of False (Customers who didn't purchase) is more than number of True(Customers who purchased) in both types of visitors: Returning_Visitor and New_Visitor."
   ]
  },
  {
   "cell_type": "code",
   "execution_count": null,
   "metadata": {
    "colab": {
     "base_uri": "https://localhost:8080/",
     "height": 411
    },
    "id": "kyubGwcyLboa",
    "outputId": "524f6173-10a5-49a1-cfc9-569bb5dcc68c"
   },
   "outputs": [],
   "source": [
    "sns.countplot(data=data,x='Weekend',hue='Revenue')"
   ]
  },
  {
   "cell_type": "markdown",
   "metadata": {
    "id": "YCcWvnDn3Aa8"
   },
   "source": [
    "### Insights:\n",
    "\n",
    "- Weekend sales are also comparatively good as compared to the other weekdays combined."
   ]
  },
  {
   "cell_type": "markdown",
   "metadata": {
    "id": "QWqcl1m3i2yN"
   },
   "source": [
    "### Let's see the correlation between various features:"
   ]
  },
  {
   "cell_type": "code",
   "execution_count": null,
   "metadata": {
    "colab": {
     "base_uri": "https://localhost:8080/",
     "height": 830
    },
    "id": "adXZnuoHRH7U",
    "outputId": "f3e1077d-425e-46b6-f4a5-6d1b615eabc2"
   },
   "outputs": [],
   "source": [
    "# sns.set(rc={'figure.figsize':(16,12)})\n",
    "# sns.heatmap(data.corr(),\n",
    "#             annot=True,\n",
    "#             linewidths=.5,\n",
    "#             center=0,\n",
    "#             cbar=False,\n",
    "#             cmap=\"YlGnBu\")\n",
    "# plt.show()"
   ]
  },
  {
   "cell_type": "markdown",
   "metadata": {
    "id": "LiqFAlZ3i-V_"
   },
   "source": [
    "### Insights:\n",
    "\n",
    "- There is significant correlation between the target variable \"Revenue\" and the feature \"PageValues\".\n",
    "- \"Administrative\" and \"Administrative_Duration\" also have high correlation (0.6)\n",
    "\n",
    "Observe the plot closely and see other than above insight, what else can you find?"
   ]
  },
  {
   "cell_type": "markdown",
   "metadata": {
    "id": "hHA9sKeQkAyj"
   },
   "source": [
    "- As the feature \"Month\" needs to be converted into suitable data-type, let's see what is the distribution of customer counts in different months."
   ]
  },
  {
   "cell_type": "code",
   "execution_count": null,
   "metadata": {
    "colab": {
     "base_uri": "https://localhost:8080/",
     "height": 204
    },
    "id": "yK3YO3KZSBNq",
    "outputId": "5f42468a-a6fa-482f-b803-c3da8ba370c8"
   },
   "outputs": [],
   "source": [
    "data['Month'].value_counts(normalize=True)"
   ]
  },
  {
   "cell_type": "code",
   "execution_count": null,
   "metadata": {
    "colab": {
     "base_uri": "https://localhost:8080/",
     "height": 411
    },
    "id": "GSvNkQ-fnu6r",
    "outputId": "34b0a3f9-fd2f-4cc6-e8f6-2d06c686d0e3"
   },
   "outputs": [],
   "source": [
    "sns.set(rc={'figure.figsize':(12,6)})\n",
    "sns.countplot(data=data,x='Month',hue='Revenue')"
   ]
  },
  {
   "cell_type": "markdown",
   "metadata": {
    "id": "jRYpZ5JJ3dSx"
   },
   "source": [
    "### Insights:\n",
    "\n",
    "- Sales are higher in months like March, May, November or December.\n",
    "- November has higher ratio of conversion (Customers are more likely to purchase)."
   ]
  },
  {
   "cell_type": "code",
   "execution_count": null,
   "metadata": {
    "colab": {
     "base_uri": "https://localhost:8080/",
     "height": 1000
    },
    "id": "fZ_vU1XVLxWa",
    "outputId": "9377e657-6c20-4809-be86-7e7713b25ead"
   },
   "outputs": [],
   "source": [
    "plt.rcParams['figure.figsize'] = (10, 15)\n",
    "\n",
    "labels = ['Informational_Duration', 'Administrative_Duration', 'ProductRelated_Duration']\n",
    "palettes = ['spring', 'rainbow', 'pastel']\n",
    "for index, label in enumerate(labels):\n",
    "    plt.subplot(3, 1, index+1)\n",
    "    sns.stripplot(x=data['Revenue'], y=data[label], palette = palettes[index])\n",
    "    title = label + ' vs Revenue' \n",
    "    plt.title(title, fontsize = 30)\n",
    "    plt.ylabel(label, fontsize = 15)\n",
    "    plt.xlabel('Revenue', fontsize = 15)\n",
    "    plt.tight_layout()"
   ]
  },
  {
   "cell_type": "markdown",
   "metadata": {
    "id": "LnKp9V-_4CYB"
   },
   "source": [
    "### Insights:\n",
    "\n",
    "- We can see that values of different durations are concentrated at lower portion of the graph for Revenue=False and has some outliers too.\n",
    "- At the same time point, Revenue=True has lower number of ouliers comparatively.\n",
    "- If this is not evident from the graph, you can use different jitter values to see the same."
   ]
  },
  {
   "cell_type": "code",
   "execution_count": null,
   "metadata": {
    "colab": {
     "base_uri": "https://localhost:8080/",
     "height": 1000
    },
    "id": "H_4TLlOSMAUF",
    "outputId": "2bd63cc3-22d0-4f2e-f0bb-8fa86800c50f"
   },
   "outputs": [],
   "source": [
    "plt.rcParams['figure.figsize'] = (20, 10)\n",
    "labels = ['PageValues', 'ExitRates', 'BounceRates']\n",
    "palettes = ['spring', 'rainbow', 'pastel']\n",
    "\n",
    "for index, label in enumerate(labels):\n",
    "    plt.subplot(1, 2, 1)\n",
    "    sns.boxenplot(x=data['Revenue'], y=data[label], palette = palettes[index])\n",
    "    title = label + ' vs Revenue' \n",
    "    plt.title(title, fontsize = 30)\n",
    "    plt.ylabel(label, fontsize = 15)\n",
    "    plt.xlabel('Revenue', fontsize = 15)\n",
    "    plt.show()"
   ]
  },
  {
   "cell_type": "markdown",
   "metadata": {
    "id": "Rf0Vk9ZWKkQn"
   },
   "source": [
    "### Insights:\n",
    "\n",
    "- Boxenplpots are similar to a box plot in plotting a nonparametric representation of a distribution. By plotting more quantiles, it provides more information about \n",
    "the shape of the distribution, particularly in the tails.\n",
    "- We can see that, Revenue=True has larger values, for Page Values, in the second quantile and each corresponsing quantile has more values as compared to Revenue=False.\n",
    "- On the other hand, the case is opposite for Exit Rates and Bounce Rates."
   ]
  },
  {
   "cell_type": "markdown",
   "metadata": {
    "id": "y2WjY6vy4XML"
   },
   "source": [
    "###  We can use pd.groupby(‘Revenue’).mean() and see a significant difference between two classes in terms of time spent on the website or bounce rates etc."
   ]
  },
  {
   "cell_type": "code",
   "execution_count": null,
   "metadata": {
    "id": "wEvBY672MNQ3"
   },
   "outputs": [],
   "source": [
    "grouped = data.groupby(by='Revenue')"
   ]
  },
  {
   "cell_type": "code",
   "execution_count": null,
   "metadata": {
    "colab": {
     "base_uri": "https://localhost:8080/",
     "height": 162
    },
    "id": "_eAZeh2EMPRX",
    "outputId": "ae74725d-3a65-4ea5-f857-b6fe55c8221a"
   },
   "outputs": [],
   "source": [
    "grouped.mean()"
   ]
  },
  {
   "cell_type": "code",
   "execution_count": null,
   "metadata": {
    "colab": {
     "base_uri": "https://localhost:8080/",
     "height": 478
    },
    "id": "QXZpQWwXMSoO",
    "outputId": "8d947ae6-9bc1-4fa3-976c-e4c52d17da19"
   },
   "outputs": [],
   "source": [
    "plt.rcParams['figure.figsize'] = (12, 6)\n",
    "pd.crosstab(data.VisitorType, data.Revenue).plot(kind='bar');"
   ]
  },
  {
   "cell_type": "code",
   "execution_count": null,
   "metadata": {
    "colab": {
     "base_uri": "https://localhost:8080/",
     "height": 142
    },
    "id": "4IqKFniKMkf-",
    "outputId": "ab9d4e27-0289-4181-e098-7ab914c6cd9f"
   },
   "outputs": [],
   "source": [
    "pd.crosstab(data.Weekend,data.Revenue,normalize='columns')"
   ]
  },
  {
   "cell_type": "code",
   "execution_count": null,
   "metadata": {
    "colab": {
     "base_uri": "https://localhost:8080/",
     "height": 85
    },
    "id": "Js9gTb7TNdSJ",
    "outputId": "83427629-a437-4848-ea89-cf0cc90783d5"
   },
   "outputs": [],
   "source": [
    "data['VisitorType'].value_counts()"
   ]
  },
  {
   "cell_type": "code",
   "execution_count": null,
   "metadata": {
    "id": "vEzmcxspMsEe"
   },
   "outputs": [],
   "source": [
    "index = data[data['VisitorType']=='Other'].index"
   ]
  },
  {
   "cell_type": "code",
   "execution_count": null,
   "metadata": {
    "id": "fhWAbwQSM_9Y"
   },
   "outputs": [],
   "source": [
    "data.drop(index=index,axis=0,inplace=True)"
   ]
  },
  {
   "cell_type": "code",
   "execution_count": null,
   "metadata": {
    "colab": {
     "base_uri": "https://localhost:8080/",
     "height": 68
    },
    "id": "aQuxtW4hNDGb",
    "outputId": "904ce0f4-9dbc-46fb-ef2f-00fd161fad68"
   },
   "outputs": [],
   "source": [
    "data.VisitorType.value_counts()"
   ]
  },
  {
   "cell_type": "markdown",
   "metadata": {
    "id": "lYa9Nhoi_yKA"
   },
   "source": [
    "# <a id='link3'>Data Preparation</a>"
   ]
  },
  {
   "cell_type": "markdown",
   "metadata": {
    "id": "GOY5-fUEktje"
   },
   "source": [
    "### Conversion of features using LabelEncoder:"
   ]
  },
  {
   "cell_type": "code",
   "execution_count": null,
   "metadata": {
    "colab": {
     "base_uri": "https://localhost:8080/",
     "height": 224
    },
    "id": "frFuz-sRTr0b",
    "outputId": "026cb0ba-026e-43cd-83a9-220984a28fd6"
   },
   "outputs": [],
   "source": [
    "# from sklearn.preprocessing import LabelEncoder\n",
    "\n",
    "# le = LabelEncoder()\n",
    "# data['Month'] = le.fit_transform(data['Month'])\n",
    "# data['VisitorType'] = le.fit_transform(data['VisitorType'])\n",
    "\n",
    "data = pd.get_dummies(data, columns=['Month', 'VisitorType'])\n",
    "\n",
    "data.head()"
   ]
  },
  {
   "cell_type": "code",
   "execution_count": null,
   "metadata": {
    "colab": {
     "base_uri": "https://localhost:8080/",
     "height": 54
    },
    "id": "VXxMc9y4e3qw",
    "outputId": "790762fe-4e6f-475a-be77-c5a45a204fa2"
   },
   "outputs": [],
   "source": [
    "column_names = list(data.columns)\n",
    "column_names.remove('Revenue')                     # Keep only names of features by removing the name of target variable\n",
    "feature_names = column_names\n",
    "print(feature_names)"
   ]
  },
  {
   "cell_type": "markdown",
   "metadata": {
    "id": "no2YlLGxk1ll"
   },
   "source": [
    "- We can see that the names of months in the column \"Month\" are converted into numbers.\n",
    "- Also, the Names of VisitorType is converted into number."
   ]
  },
  {
   "cell_type": "code",
   "execution_count": null,
   "metadata": {
    "id": "RcvtsOOulKu4"
   },
   "outputs": [],
   "source": [
    "X = data.drop('Revenue',axis=1)                                                 # Features\n",
    "y = data['Revenue']                                                             # Labels (Target Variable)"
   ]
  },
  {
   "cell_type": "code",
   "execution_count": null,
   "metadata": {
    "colab": {
     "base_uri": "https://localhost:8080/",
     "height": 34
    },
    "id": "JqVHLEHVRRKK",
    "outputId": "c05575bb-cda5-4b49-d6dd-3f6c8cb0678e"
   },
   "outputs": [],
   "source": [
    "# Splitting data into training and test set:\n",
    "X_train, X_test, y_train, y_test =train_test_split(X, y, test_size=0.3, random_state=42, stratify=y)\n",
    "print(X_train.shape, X_test.shape)"
   ]
  },
  {
   "cell_type": "code",
   "execution_count": null,
   "metadata": {
    "colab": {
     "base_uri": "https://localhost:8080/",
     "height": 68
    },
    "id": "bAtOpEeWO-di",
    "outputId": "1bbc413c-71a9-479f-cc05-1bcc92094e72"
   },
   "outputs": [],
   "source": [
    "y_train.value_counts()"
   ]
  },
  {
   "cell_type": "markdown",
   "metadata": {
    "id": "H4SA2aDN_4_Y"
   },
   "source": [
    "# <a id='link4'>Choose Model, Train and Evaluate</a>"
   ]
  },
  {
   "cell_type": "code",
   "execution_count": null,
   "metadata": {
    "id": "LYsH6SEbR2Zv"
   },
   "outputs": [],
   "source": [
    "model_gini = DecisionTreeClassifier(criterion='gini')"
   ]
  },
  {
   "cell_type": "markdown",
   "metadata": {
    "id": "FI95Q8zgr10a"
   },
   "source": [
    "- The above step is a decision tree classifier which has a function to measure the quality of a split using the criterian as “gini”(for the Gini impurity.)\n",
    "- There are two criterian, “gini” for the Gini impurity and “entropy” for the information gain."
   ]
  },
  {
   "cell_type": "code",
   "execution_count": null,
   "metadata": {
    "colab": {
     "base_uri": "https://localhost:8080/",
     "height": 119
    },
    "id": "xPGtpHSWR6oe",
    "outputId": "ec6e65d5-3611-41e6-aeb4-d2afd2fb37ab"
   },
   "outputs": [],
   "source": [
    "model_gini.fit(X_train, y_train)"
   ]
  },
  {
   "cell_type": "code",
   "execution_count": null,
   "metadata": {
    "colab": {
     "base_uri": "https://localhost:8080/",
     "height": 34
    },
    "id": "h8yoUBc1R8uF",
    "outputId": "0e276f5f-afc8-4883-94d5-b2f3ee494d31"
   },
   "outputs": [],
   "source": [
    "model_gini.score(X_train, y_train)  # performance on train data"
   ]
  },
  {
   "cell_type": "code",
   "execution_count": null,
   "metadata": {
    "colab": {
     "base_uri": "https://localhost:8080/",
     "height": 34
    },
    "id": "Wr5UjWTaUwwh",
    "outputId": "86b9aa30-550c-466c-f719-9808e496df0a"
   },
   "outputs": [],
   "source": [
    "model_gini.score(X_test, y_test)  # performance on test data"
   ]
  },
  {
   "cell_type": "markdown",
   "metadata": {
    "id": "LPzoIN5csWhc"
   },
   "source": [
    "- The performance on training data is 1 while for test data, it's 0.85. Hence the model is a overfit.\n",
    "- As we chose to build the decision tree till the last split, the model is overfit hence not performing well on the test (unseen) data."
   ]
  },
  {
   "cell_type": "code",
   "execution_count": null,
   "metadata": {
    "colab": {
     "base_uri": "https://localhost:8080/",
     "height": 34
    },
    "id": "nZYVP2FYhvhw",
    "outputId": "027c38e5-0b4a-491e-8cce-17395e469bbc"
   },
   "outputs": [],
   "source": [
    "predictions = model_gini.predict(X_test)\n",
    "print(accuracy_score(y_test, predictions))"
   ]
  },
  {
   "cell_type": "code",
   "execution_count": null,
   "metadata": {
    "colab": {
     "base_uri": "https://localhost:8080/",
     "height": 394
    },
    "id": "uc1U4ZOVxfom",
    "outputId": "bf645f8f-ee37-431a-b1f0-58b05dff09a8"
   },
   "outputs": [],
   "source": [
    "# Constructing the confusion matrix.\n",
    "from sklearn.metrics import confusion_matrix, classification_report\n",
    "cf_matrix = confusion_matrix(y_test, predictions)\n",
    "sns.heatmap(cf_matrix, linewidths=1, annot=True, fmt='g')"
   ]
  },
  {
   "cell_type": "markdown",
   "metadata": {
    "id": "BXnzG1Y5TPDa"
   },
   "source": [
    "### Insights:\n",
    "\n",
    "Let's make the following definitions:\n",
    "\n",
    "- \"True\" is a positive class.\n",
    "- \"False\" is a negative class.\n",
    "\n",
    "\n",
    "- **True Positives:**\n",
    "    - Reality: A customer made purchase.\n",
    "    - Model predicted: The customer will contribute to revenue.\n",
    "    - Outcome: Model is good.\n",
    "\n",
    "- **True Negatives:**\n",
    "    - Reality: A customer did NOT made purchase.\n",
    "    - Model predicted: The customer will NOT contribute to revenue.\n",
    "    - Outcome: The business is unaffected.\n",
    "\n",
    "- **False Positives:**\n",
    "    - Reality: A customer did NOT made purchase.\n",
    "    - Model predicted: The customer will contribute to revenue.\n",
    "    - Outcome: The team which is targeting the potential customers will be wasting their resources on the people/customers who will not be contributing to the revenue.\n",
    "\n",
    "- **False Negatives:**\n",
    "    - Reality: A customer made purchase.\n",
    "    - Model predicted: The customer will NOT contribute to revenue.\n",
    "    - Outcome: The potential customer is missed by the sales/marketing team, the team could have offered the potential customer some discount or loyalty card to make the customer come again to purchase. (Customer retention will get affected.)"
   ]
  },
  {
   "cell_type": "markdown",
   "metadata": {
    "id": "sUGz-pJK8OwL"
   },
   "source": [
    "Now, let's try to prune the tree using some other hyperparameters that will give more appropriate result.\n",
    "\n",
    "\n",
    "- We are using a different set of hyperparameters, which will build the decision tree upto a certain depth (in our case the max_depth is 5.)\n",
    "\n",
    "- You can read more about hyperparameters of DecisionTreeClassifier from [here](https://scikit-learn.org/stable/modules/generated/sklearn.tree.DecisionTreeClassifier.html)."
   ]
  },
  {
   "cell_type": "markdown",
   "metadata": {
    "id": "G6k2rA_XTVdY"
   },
   "source": [
    "# Add on:\n",
    "\n",
    "- **GridSearchCV** can be used to find the optimal choice of hyperparameters among a set of hyperparameters we provide in that function.\n",
    "- You can read more about it from [here](https://scikit-learn.org/stable/modules/generated/sklearn.model_selection.GridSearchCV.html) and [here](https://www.geeksforgeeks.org/hyperparameter-tuning/)"
   ]
  },
  {
   "cell_type": "code",
   "execution_count": null,
   "metadata": {
    "id": "mp7y53i0smc1"
   },
   "outputs": [],
   "source": [
    "clf = DecisionTreeClassifier(criterion='gini', max_depth=5, min_samples_leaf=20, min_samples_split=150)"
   ]
  },
  {
   "cell_type": "code",
   "execution_count": null,
   "metadata": {
    "colab": {
     "base_uri": "https://localhost:8080/",
     "height": 119
    },
    "id": "q17I8zuSUuZG",
    "outputId": "a4afa1cc-005a-4509-fb8e-35504a88682a"
   },
   "outputs": [],
   "source": [
    "clf.fit(X_train, y_train)"
   ]
  },
  {
   "cell_type": "code",
   "execution_count": null,
   "metadata": {
    "colab": {
     "base_uri": "https://localhost:8080/",
     "height": 34
    },
    "id": "AnckThRtWzKv",
    "outputId": "073bea31-c21d-48ae-87ad-a8a69a81da96"
   },
   "outputs": [],
   "source": [
    "clf.score(X_train, y_train)"
   ]
  },
  {
   "cell_type": "code",
   "execution_count": null,
   "metadata": {
    "id": "HVMoNHGixgjb"
   },
   "outputs": [],
   "source": [
    "print(classification_report(predictions, y_test))"
   ]
  },
  {
   "cell_type": "code",
   "execution_count": null,
   "metadata": {
    "colab": {
     "base_uri": "https://localhost:8080/",
     "height": 34
    },
    "id": "aMTJA62VvI4g",
    "outputId": "0861a71f-7425-4d55-b1c6-dc136c18bec6"
   },
   "outputs": [],
   "source": [
    "predictions = clf.predict(X_test)\n",
    "print(accuracy_score(y_test, predictions))"
   ]
  },
  {
   "cell_type": "markdown",
   "metadata": {
    "id": "6fKee39XW6rU"
   },
   "source": [
    "### Think about it:\n",
    "\n",
    "- After pruning, the accuracy score for training score is reduced from 100% to ~90%. But at the same time, we see that there is increase in accuracy for test dataset, i.e. accuracy increased from 85% to 89.4%.\n",
    "- Why is this happening?\n",
    "\n",
    "\n",
    "### Pruning:\n",
    "\n",
    "- Tree pruning is performed in order to remove anomalies in the training data due to noise or outliers. The pruned trees are smaller and less complex.\n",
    "- As the anamolies due to noise is removed, the ability of model to perform better on the unseen (test) data is increased."
   ]
  },
  {
   "cell_type": "code",
   "execution_count": null,
   "metadata": {
    "colab": {
     "base_uri": "https://localhost:8080/",
     "height": 394
    },
    "id": "VlCRa_CsgkBV",
    "outputId": "c09d1c30-68d1-42c1-a6ff-76a021e77baa"
   },
   "outputs": [],
   "source": [
    "cf_matrix = confusion_matrix(y_test, predictions)\n",
    "sns.heatmap(cf_matrix, linewidths=1, annot=True, fmt='g')"
   ]
  },
  {
   "cell_type": "markdown",
   "metadata": {
    "id": "RXdEYyUORSSk"
   },
   "source": [
    "### Insights:\n",
    "\n",
    "Let's make the following definitions:\n",
    "\n",
    "- \"True\" is a positive class.\n",
    "- \"False\" is a negative class.\n",
    "\n",
    "\n",
    "- **True Positives:**\n",
    "    - Reality: A customer made purchase.\n",
    "    - Model predicted: The customer will contribute to revenue.\n",
    "    - Outcome: Model is good.\n",
    "\n",
    "- **True Negatives:**\n",
    "    - Reality: A customer did NOT made purchase.\n",
    "    - Model predicted: The customer will NOT contribute to revenue.\n",
    "    - Outcome: The business is unaffected.\n",
    "\n",
    "- **False Positives:**\n",
    "    - Reality: A customer did NOT made purchase.\n",
    "    - Model predicted: The customer will contribute to revenue.\n",
    "    - Outcome: The team which is targeting the potential customers will be wasting their resources on the people/customers who will not be contributing to the revenue.\n",
    "\n",
    "- **False Negatives:**\n",
    "    - Reality: A customer made purchase.\n",
    "    - Model predicted: The customer will NOT contribute to revenue.\n",
    "    - Outcome: The potential customer is missed by the sales/marketing team, the team could have offered the potential customer some discount or loyalty card to make the customer come again to purchase. (Customer retention will get affected.)"
   ]
  },
  {
   "cell_type": "code",
   "execution_count": null,
   "metadata": {
    "colab": {
     "base_uri": "https://localhost:8080/",
     "height": 170
    },
    "id": "pj-K-DtRxPY7",
    "outputId": "1bd4fc1f-f006-4b58-9bf1-c7191ebd4975"
   },
   "outputs": [],
   "source": [
    "print(classification_report(predictions, y_test))"
   ]
  },
  {
   "cell_type": "markdown",
   "metadata": {
    "id": "BjAwR0q5iXPZ"
   },
   "source": [
    "### Insights:\n",
    "\n",
    "- If we compare this classification report with the previous one. We see that there is an increase in F1-Score for both classes: False and True.\n",
    "- Also, overall F1-Score is also more this time."
   ]
  },
  {
   "cell_type": "markdown",
   "metadata": {
    "id": "0rqfvQ955KZ1"
   },
   "source": [
    "# <a id='link5'>Visualization of Decision Tree</a>"
   ]
  },
  {
   "cell_type": "code",
   "execution_count": null,
   "metadata": {
    "colab": {
     "base_uri": "https://localhost:8080/",
     "height": 71
    },
    "id": "xnKCK0lI38OR",
    "outputId": "2e51f00d-d704-4be7-c2e7-af20cb905803"
   },
   "outputs": [],
   "source": [
    "from sklearn.tree import export_graphviz\n",
    "from sklearn.externals.six import StringIO  \n",
    "from IPython.display import Image  \n",
    "import pydotplus\n",
    "import graphviz"
   ]
  },
  {
   "cell_type": "code",
   "execution_count": null,
   "metadata": {
    "colab": {
     "base_uri": "https://localhost:8080/",
     "height": 286
    },
    "id": "MNaPP9m5U7xF",
    "outputId": "6c59be9c-6bb5-49e4-b835-3d23ac34556c"
   },
   "outputs": [],
   "source": [
    "dot_data = StringIO()\n",
    "export_graphviz(clf, out_file=dot_data,  \n",
    "                filled=True, rounded=True,\n",
    "                special_characters=True,\n",
    "                feature_names=feature_names,\n",
    "                class_names=['False', 'True'])\n",
    "graph = pydotplus.graph_from_dot_data(dot_data.getvalue())  \n",
    "graph.write_png('data.png')\n",
    "Image(graph.create_png())"
   ]
  },
  {
   "cell_type": "markdown",
   "metadata": {
    "id": "-sQOln2j5OuF"
   },
   "source": [
    "- The above tree is large, so let's create a new tree which is small so we are able to see it easily."
   ]
  },
  {
   "cell_type": "code",
   "execution_count": null,
   "metadata": {
    "colab": {
     "base_uri": "https://localhost:8080/",
     "height": 119
    },
    "id": "wChcORdJ4rgW",
    "outputId": "3f543452-8621-4158-ef8b-acf1e3ab31b1"
   },
   "outputs": [],
   "source": [
    "clf_pruned = DecisionTreeClassifier(criterion=\"gini\", random_state=100, max_depth=3)\n",
    "clf_pruned.fit(X_train, y_train)"
   ]
  },
  {
   "cell_type": "code",
   "execution_count": null,
   "metadata": {
    "colab": {
     "base_uri": "https://localhost:8080/",
     "height": 472
    },
    "id": "E57AYvpk46EO",
    "outputId": "dd6a1132-37da-4609-b5ab-e25f31350a86"
   },
   "outputs": [],
   "source": [
    "dot_data = StringIO()\n",
    "export_graphviz(clf_pruned,\n",
    "                out_file=dot_data,  \n",
    "                filled=True,\n",
    "                rounded=True,\n",
    "                special_characters=True,\n",
    "                feature_names=feature_names,\n",
    "                class_names=['0','1']\n",
    "                )\n",
    "graph = pydotplus.graph_from_dot_data(dot_data.getvalue())  \n",
    "graph.write_png('clf_pruned.png')\n",
    "Image(graph.create_png())"
   ]
  },
  {
   "cell_type": "code",
   "execution_count": null,
   "metadata": {
    "id": "8AfvVNnEIu0E"
   },
   "outputs": [],
   "source": []
  },
  {
   "cell_type": "markdown",
   "metadata": {
    "id": "dO6-fpJ9-DdB"
   },
   "source": [
    "# Insights:\n",
    "\n",
    "- This pruned model is less complex, explainable, and easy to understand than the previous decision tree model plot."
   ]
  },
  {
   "cell_type": "code",
   "execution_count": null,
   "metadata": {
    "colab": {
     "base_uri": "https://localhost:8080/",
     "height": 736
    },
    "id": "r6E_zYLhzKpC",
    "outputId": "3ffef7cb-a72b-487c-c4f6-6918063a6a82"
   },
   "outputs": [],
   "source": [
    "# Understanding Feature Importance\n",
    "importances = clf.feature_importances_\n",
    "indices = np.argsort(importances)\n",
    "\n",
    "plt.figure(figsize=(12,12))\n",
    "plt.title('Feature Importances')\n",
    "plt.barh(range(len(indices)), importances[indices], color='r', align='center')\n",
    "plt.yticks(range(len(indices)), [feature_names[i] for i in indices])\n",
    "plt.xlabel('Relative Importance')\n",
    "plt.show()"
   ]
  },
  {
   "cell_type": "markdown",
   "metadata": {
    "id": "icYqPwnQ1edu"
   },
   "source": [
    "### Insights:\n",
    "\n",
    "- As you can see from the root of the decision tree, **PageValue** feature gives the most information context to differentiate the **True** and **False** classes.\n",
    "- This is clearly seen in the feature importance value as well.\n",
    "- \"Informational\" and \"Weekend\" feature adds very small value for the prediction.\n",
    "- We can make one more model using top features (using feature_importance_), we can even eliminate the features below the ‘Month_May’ variable and show that the accuracy is almost unaffected."
   ]
  },
  {
   "cell_type": "markdown",
   "metadata": {
    "id": "Ghbi0TLd5qDu"
   },
   "source": [
    "# <a id='link6'>Conclusion</a>"
   ]
  },
  {
   "cell_type": "markdown",
   "metadata": {
    "id": "ePAN2lJ_AiFT"
   },
   "source": [
    "- We analysed the \"Online Shoppers Purchasing Intention\" using different techniques and used Decision Tree Classifier to build a predictive model for the same.\n",
    "- The model we built at the end can be used to predict if a customer is going to contribute for Revenue generation (by purchasing) or not.\n",
    "- We visualized different trees and their confusion matrix to get a better understanding of the model. Easy interpretation is one of the key benefits of Decision Trees.\n",
    "- We verified the fact that how much less data preparation is needed for Decision Trees and such a simple model gave good results even with outliers and imbalanced classes which shows the robustness of Decision Trees.\n",
    "- We established the importance of hyper-parameters/ pruning to reduce overfitting.\n",
    "\n",
    "\n",
    "# **Inferences:**\n",
    "\n",
    "- Proportion of customers who are buying is higher in first time users than in the returning users.\n",
    "- Customers, who are spending higher time on website, are not buying.\n",
    "\n",
    "# **Recommendations:**\n",
    "\n",
    "- Customer Retention - Member Loyalty programs initiative. Provide coupons after the first purchase.\n",
    "- Browsing Customers - Employ the predictive model to predict potential customers (customers who can acutally buy the product), Offer limited time coupons/discounts on a real-time basis only to those customers. This can also be employed for the customers in the months like March, May, November and December, as in those months, the traffic is higher so these months have potential buying users.\n",
    "- Site Engagement - Version of the site for slower-internet users, Consistent and user-friendly mobile website design."
   ]
  },
  {
   "cell_type": "markdown",
   "metadata": {
    "id": "wBNF-utzAstI"
   },
   "source": [
    "# Appendix:"
   ]
  },
  {
   "cell_type": "markdown",
   "metadata": {
    "id": "5L1H8vYmArxj"
   },
   "source": [
    "- **Pandas** : Pandas is an open source library providing high-performance, easy-to-use data structures and data analysis tools for the Python programming language.\n",
    "\n",
    "- **Numpy** : The fundamental package for scientific computing with Python.\n",
    "\n",
    "- **Matplotlib** : Matplotlib is a comprehensive library for creating static, animated, and interactive visualizations in Python.\n",
    "\n",
    "- **Seaborn** : Seaborn is a Python data visualization library based on matplotlib. It provides a high-level interface for drawing attractive and informative statistical graphics.\n",
    "\n",
    "- **sklearn.preprocessing.LabelEncoder** : Encode target labels with value between 0 and n_classes-1.\n",
    "\n",
    "- **[DecisionTreeClassifier](https://scikit-learn.org/stable/modules/generated/sklearn.tree.DecisionTreeClassifier.html)**\n",
    "\n",
    "- **graphviz** : This package facilitates the creation and rendering of graph descriptions in the DOT language of the Graphviz graph drawing software (master repo) from Python."
   ]
  },
  {
   "cell_type": "code",
   "execution_count": null,
   "metadata": {
    "id": "noZ_HCZZuWDn"
   },
   "outputs": [],
   "source": []
  }
 ],
 "metadata": {
  "colab": {
   "collapsed_sections": [
    "GOY5-fUEktje",
    "BjAwR0q5iXPZ",
    "icYqPwnQ1edu"
   ],
   "name": "Online Shoppers Purchasing Intention.ipynb",
   "provenance": []
  },
  "kernelspec": {
   "display_name": "Python 3",
   "language": "python",
   "name": "python3"
  },
  "language_info": {
   "codemirror_mode": {
    "name": "ipython",
    "version": 3
   },
   "file_extension": ".py",
   "mimetype": "text/x-python",
   "name": "python",
   "nbconvert_exporter": "python",
   "pygments_lexer": "ipython3",
   "version": "3.7.3"
  }
 },
 "nbformat": 4,
 "nbformat_minor": 1
}
