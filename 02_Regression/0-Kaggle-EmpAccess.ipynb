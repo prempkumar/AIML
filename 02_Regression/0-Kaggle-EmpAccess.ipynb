{
 "cells": [
  {
   "cell_type": "markdown",
   "metadata": {},
   "source": [
    "## Kaggle Challenge\n",
    "https://www.kaggle.com/c/amazon-employee-access-challenge/overview\n",
    "\n",
    "### Context\n",
    "\n",
    "When an employee at any company starts work, they first need to obtain the computer access necessary to fulfill their role. This access may allow an employee to read/manipulate resources through various applications or web portals. It is assumed that employees fulfilling the functions of a given role will access the same or similar resources. It is often the case that employees figure out the access they need as they encounter roadblocks during their daily work (e.g. not able to log into a reporting portal). A knowledgeable supervisor then takes time to manually grant the needed access in order to overcome access obstacles. As employees move throughout a company, this access discovery/recovery cycle wastes a nontrivial amount of time and money.\n",
    "\n",
    "There is a considerable amount of data regarding an employee’s role within an organization and the resources to which they have access. Given the data related to current employees and their provisioned access, models can be built that automatically determine access privileges as employees enter and leave roles within a company. These auto-access models seek to minimize the human involvement required to grant or revoke employee access.\n",
    "\n",
    "### Objective\n",
    "The objective of this competition is to build a model, learned using historical data, that will determine an employee's access needs, such that manual access transactions (grants and revokes) are minimized as the employee's attributes change over time. The model will take an employee's role information and a resource code and will return whether or not access should be granted.\n",
    "\n",
    "### Data Description\n",
    "The data consists of real historical data collected from 2010 & 2011.  Employees are manually allowed or denied access to resources over time. You must create an algorithm capable of learning from this historical data to predict approval/denial for an unseen set of employees. \n",
    "\n",
    "### Column Description\n",
    "1. ACTION         -     ACTION is 1 if the resource was approved, 0 if the resource was not\n",
    "2. RESOURCE\t      -     An ID for each resource\n",
    "3. MGR_ID\t      -     The EMPLOYEE ID of the manager of the current EMPLOYEE ID record; an employee may have only one manager\n",
    "4. ROLE_ROLLUP_1  -     Company role grouping category id 1 (e.g. US Engineering)\n",
    "5. ROLE_ROLLUP_2  - \tCompany role grouping category id 2 (e.g. US Retail)\n",
    "6. ROLE_DEPTNAME  - \tCompany role department description (e.g. Retail)\n",
    "7. ROLE_TITLE\t  -     Company role business title description (e.g. Senior Engineering Retail Manager)\n",
    "8. ROLE_FAMILY_DESC\t -  Company role family extended description (e.g. Retail Manager, Software Engineering)\n",
    "9. ROLE_FAMILY\t     -  Company role family description (e.g. Retail Manager)\n",
    "10. ROLE_CODE\t     -  Company role code; this code is unique to each role (e.g. Manager)\n"
   ]
  },
  {
   "cell_type": "code",
   "execution_count": null,
   "metadata": {},
   "outputs": [],
   "source": []
  }
 ],
 "metadata": {
  "kernelspec": {
   "display_name": "Python 3",
   "language": "python",
   "name": "python3"
  },
  "language_info": {
   "codemirror_mode": {
    "name": "ipython",
    "version": 3
   },
   "file_extension": ".py",
   "mimetype": "text/x-python",
   "name": "python",
   "nbconvert_exporter": "python",
   "pygments_lexer": "ipython3",
   "version": "3.7.3"
  }
 },
 "nbformat": 4,
 "nbformat_minor": 4
}
